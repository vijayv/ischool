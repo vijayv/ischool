{
 "metadata": {
  "name": "",
  "signature": "sha256:2b53c3359418623436911778614216092b017597f396e1ec7fb427009e7e74a6"
 },
 "nbformat": 3,
 "nbformat_minor": 0,
 "worksheets": [
  {
   "cells": [
    {
     "cell_type": "markdown",
     "metadata": {},
     "source": [
      "## Vijay Velagapudi and Anand Rajgopal"
     ]
    },
    {
     "cell_type": "code",
     "collapsed": false,
     "input": [
      "import numpy as np\n",
      "import pandas as pd\n",
      "from __future__ import division\n",
      "import neurolab as nl # for neural networks\n",
      "from sklearn import preprocessing, svm, cross_validation, grid_search\n",
      "from sklearn.feature_extraction import DictVectorizer #to turn categorial variables into numeric arrays\n",
      "import datetime as dt\n",
      "import random"
     ],
     "language": "python",
     "metadata": {},
     "outputs": [],
     "prompt_number": 28
    },
    {
     "cell_type": "code",
     "collapsed": false,
     "input": [
      "train = pd.read_csv(\"lab5_train.csv\")\n",
      "train.ZIP_CODE = train.ZIP_CODE.astype(\"str\")\n",
      "train.TRANSACTION_DT = train.TRANSACTION_DT.astype(\"int\").astype(\"str\")\n",
      "train.head()"
     ],
     "language": "python",
     "metadata": {},
     "outputs": [
      {
       "html": [
        "<div style=\"max-height:1000px;max-width:1500px;overflow:auto;\">\n",
        "<table border=\"1\" class=\"dataframe\">\n",
        "  <thead>\n",
        "    <tr style=\"text-align: right;\">\n",
        "      <th></th>\n",
        "      <th>CMTE_ID</th>\n",
        "      <th>AMNDT_IND</th>\n",
        "      <th>RPT_TP</th>\n",
        "      <th>ENTITY_TP</th>\n",
        "      <th>NAME</th>\n",
        "      <th>CITY</th>\n",
        "      <th>STATE</th>\n",
        "      <th>ZIP_CODE</th>\n",
        "      <th>TRANSACTION_DT</th>\n",
        "      <th>TRANSACTION_AMT</th>\n",
        "      <th>CAND_ID</th>\n",
        "    </tr>\n",
        "  </thead>\n",
        "  <tbody>\n",
        "    <tr>\n",
        "      <th>0</th>\n",
        "      <td> C90011156</td>\n",
        "      <td> N</td>\n",
        "      <td>  YE</td>\n",
        "      <td> ORG</td>\n",
        "      <td>        KEVIN BROKT</td>\n",
        "      <td> PITTSBURGH</td>\n",
        "      <td> PA</td>\n",
        "      <td> 15222</td>\n",
        "      <td> 10282012</td>\n",
        "      <td>      6</td>\n",
        "      <td>  Obama</td>\n",
        "    </tr>\n",
        "    <tr>\n",
        "      <th>1</th>\n",
        "      <td> C90011156</td>\n",
        "      <td> N</td>\n",
        "      <td>  Q3</td>\n",
        "      <td> IND</td>\n",
        "      <td>  PERKINS, MARCUS A</td>\n",
        "      <td> CINCINNATI</td>\n",
        "      <td> OH</td>\n",
        "      <td> 45211</td>\n",
        "      <td>  9122012</td>\n",
        "      <td>     37</td>\n",
        "      <td>  Obama</td>\n",
        "    </tr>\n",
        "    <tr>\n",
        "      <th>2</th>\n",
        "      <td> C90011156</td>\n",
        "      <td> N</td>\n",
        "      <td>  YE</td>\n",
        "      <td> IND</td>\n",
        "      <td>      BOWENS, ANGEL</td>\n",
        "      <td>  CLEVELAND</td>\n",
        "      <td> OH</td>\n",
        "      <td> 44128</td>\n",
        "      <td> 10032012</td>\n",
        "      <td>     13</td>\n",
        "      <td> Romney</td>\n",
        "    </tr>\n",
        "    <tr>\n",
        "      <th>3</th>\n",
        "      <td> C00260547</td>\n",
        "      <td> A</td>\n",
        "      <td> 12G</td>\n",
        "      <td> PAC</td>\n",
        "      <td> ROMNEY VICTORY INC</td>\n",
        "      <td>     BOSTON</td>\n",
        "      <td> MA</td>\n",
        "      <td>  2109</td>\n",
        "      <td>  8172012</td>\n",
        "      <td>    375</td>\n",
        "      <td> Romney</td>\n",
        "    </tr>\n",
        "    <tr>\n",
        "      <th>4</th>\n",
        "      <td> C00010603</td>\n",
        "      <td> A</td>\n",
        "      <td> 12G</td>\n",
        "      <td> ORG</td>\n",
        "      <td> THE STRATEGY GROUP</td>\n",
        "      <td>   EVANSTON</td>\n",
        "      <td> IL</td>\n",
        "      <td> 60201</td>\n",
        "      <td> 10022012</td>\n",
        "      <td> 145882</td>\n",
        "      <td>  Obama</td>\n",
        "    </tr>\n",
        "  </tbody>\n",
        "</table>\n",
        "</div>"
       ],
       "metadata": {},
       "output_type": "pyout",
       "prompt_number": 29,
       "text": [
        "     CMTE_ID AMNDT_IND RPT_TP ENTITY_TP                NAME        CITY STATE  \\\n",
        "0  C90011156         N     YE       ORG         KEVIN BROKT  PITTSBURGH    PA   \n",
        "1  C90011156         N     Q3       IND   PERKINS, MARCUS A  CINCINNATI    OH   \n",
        "2  C90011156         N     YE       IND       BOWENS, ANGEL   CLEVELAND    OH   \n",
        "3  C00260547         A    12G       PAC  ROMNEY VICTORY INC      BOSTON    MA   \n",
        "4  C00010603         A    12G       ORG  THE STRATEGY GROUP    EVANSTON    IL   \n",
        "\n",
        "  ZIP_CODE TRANSACTION_DT  TRANSACTION_AMT CAND_ID  \n",
        "0    15222       10282012                6   Obama  \n",
        "1    45211        9122012               37   Obama  \n",
        "2    44128       10032012               13  Romney  \n",
        "3     2109        8172012              375  Romney  \n",
        "4    60201       10022012           145882   Obama  "
       ]
      }
     ],
     "prompt_number": 29
    },
    {
     "cell_type": "code",
     "collapsed": false,
     "input": [
      "test = pd.read_csv(\"lab5_test.csv\")\n",
      "test.ZIP_CODE = train.ZIP_CODE.astype(\"str\")\n",
      "test.TRANSACTION_DT = train.TRANSACTION_DT.astype(\"int\").astype(\"str\")\n",
      "test.head()"
     ],
     "language": "python",
     "metadata": {},
     "outputs": [
      {
       "html": [
        "<div style=\"max-height:1000px;max-width:1500px;overflow:auto;\">\n",
        "<table border=\"1\" class=\"dataframe\">\n",
        "  <thead>\n",
        "    <tr style=\"text-align: right;\">\n",
        "      <th></th>\n",
        "      <th>CMTE_ID</th>\n",
        "      <th>AMNDT_IND</th>\n",
        "      <th>RPT_TP</th>\n",
        "      <th>ENTITY_TP</th>\n",
        "      <th>NAME</th>\n",
        "      <th>CITY</th>\n",
        "      <th>STATE</th>\n",
        "      <th>ZIP_CODE</th>\n",
        "      <th>TRANSACTION_DT</th>\n",
        "      <th>TRANSACTION_AMT</th>\n",
        "      <th>CAND_ID</th>\n",
        "    </tr>\n",
        "  </thead>\n",
        "  <tbody>\n",
        "    <tr>\n",
        "      <th>0</th>\n",
        "      <td> C90011156</td>\n",
        "      <td> N</td>\n",
        "      <td>  YE</td>\n",
        "      <td> ORG</td>\n",
        "      <td> SCMIDT ENTERPRISES LIMITED PARTNERSHIP</td>\n",
        "      <td>   COLUMBUS</td>\n",
        "      <td> OH</td>\n",
        "      <td> 15222</td>\n",
        "      <td> 10282012</td>\n",
        "      <td>    7</td>\n",
        "      <td>  Obama</td>\n",
        "    </tr>\n",
        "    <tr>\n",
        "      <th>1</th>\n",
        "      <td> C90011156</td>\n",
        "      <td> N</td>\n",
        "      <td>  YE</td>\n",
        "      <td> IND</td>\n",
        "      <td>                            KANE, ELTON</td>\n",
        "      <td> WASHINGTON</td>\n",
        "      <td> DC</td>\n",
        "      <td> 45211</td>\n",
        "      <td>  9122012</td>\n",
        "      <td>   35</td>\n",
        "      <td>  Obama</td>\n",
        "    </tr>\n",
        "    <tr>\n",
        "      <th>2</th>\n",
        "      <td> C90012774</td>\n",
        "      <td> N</td>\n",
        "      <td>  Q1</td>\n",
        "      <td> ORG</td>\n",
        "      <td>         PRINTMEISTERS OF ORLANDO, INC.</td>\n",
        "      <td>    ORLANDO</td>\n",
        "      <td> FL</td>\n",
        "      <td> 44128</td>\n",
        "      <td> 10032012</td>\n",
        "      <td>   17</td>\n",
        "      <td> Romney</td>\n",
        "    </tr>\n",
        "    <tr>\n",
        "      <th>3</th>\n",
        "      <td> C00478149</td>\n",
        "      <td> N</td>\n",
        "      <td> M10</td>\n",
        "      <td> CCM</td>\n",
        "      <td>             ROMNEY FOR PRESIDENT, INC.</td>\n",
        "      <td>     BOSTON</td>\n",
        "      <td> MA</td>\n",
        "      <td>  2109</td>\n",
        "      <td>  8172012</td>\n",
        "      <td> 5000</td>\n",
        "      <td> Romney</td>\n",
        "    </tr>\n",
        "    <tr>\n",
        "      <th>4</th>\n",
        "      <td> C90011156</td>\n",
        "      <td> N</td>\n",
        "      <td>  YE</td>\n",
        "      <td> IND</td>\n",
        "      <td>                      HATTEN, SIR ALLYN</td>\n",
        "      <td>  CLEVELAND</td>\n",
        "      <td> OH</td>\n",
        "      <td> 60201</td>\n",
        "      <td> 10022012</td>\n",
        "      <td>   26</td>\n",
        "      <td> Romney</td>\n",
        "    </tr>\n",
        "  </tbody>\n",
        "</table>\n",
        "</div>"
       ],
       "metadata": {},
       "output_type": "pyout",
       "prompt_number": 30,
       "text": [
        "     CMTE_ID AMNDT_IND RPT_TP ENTITY_TP  \\\n",
        "0  C90011156         N     YE       ORG   \n",
        "1  C90011156         N     YE       IND   \n",
        "2  C90012774         N     Q1       ORG   \n",
        "3  C00478149         N    M10       CCM   \n",
        "4  C90011156         N     YE       IND   \n",
        "\n",
        "                                     NAME        CITY STATE ZIP_CODE  \\\n",
        "0  SCMIDT ENTERPRISES LIMITED PARTNERSHIP    COLUMBUS    OH    15222   \n",
        "1                             KANE, ELTON  WASHINGTON    DC    45211   \n",
        "2          PRINTMEISTERS OF ORLANDO, INC.     ORLANDO    FL    44128   \n",
        "3              ROMNEY FOR PRESIDENT, INC.      BOSTON    MA     2109   \n",
        "4                       HATTEN, SIR ALLYN   CLEVELAND    OH    60201   \n",
        "\n",
        "  TRANSACTION_DT  TRANSACTION_AMT CAND_ID  \n",
        "0       10282012                7   Obama  \n",
        "1        9122012               35   Obama  \n",
        "2       10032012               17  Romney  \n",
        "3        8172012             5000  Romney  \n",
        "4       10022012               26  Romney  "
       ]
      }
     ],
     "prompt_number": 30
    },
    {
     "cell_type": "markdown",
     "metadata": {},
     "source": [
      "### 1. Calculate a baseline accuracy measure using the majority class\n",
      "#### a. Find the majority class in the training set. If you always predicted this class in the training set, what would your accuracy be?"
     ]
    },
    {
     "cell_type": "code",
     "collapsed": false,
     "input": [
      "by_candidate = train.groupby(\"CAND_ID\")[\"CAND_ID\"].count()\n",
      "print by_candidate\n",
      "print \"\\n\\nObama is the majority class on the training set\""
     ],
     "language": "python",
     "metadata": {},
     "outputs": [
      {
       "output_type": "stream",
       "stream": "stdout",
       "text": [
        "CAND_ID\n",
        "Obama      4577\n",
        "Romney     3423\n",
        "Name: CAND_ID, dtype: int64\n",
        "\n",
        "\n",
        "Obama is the majority class on the training set\n"
       ]
      }
     ],
     "prompt_number": 31
    },
    {
     "cell_type": "markdown",
     "metadata": {},
     "source": [
      "#### b. If you always predicted this same class (majority from the training set) in the test set, what would your accuracy be?"
     ]
    },
    {
     "cell_type": "code",
     "collapsed": false,
     "input": [
      "test_set = test.groupby(\"CAND_ID\")[\"CAND_ID\"].count()\n",
      "\n",
      "percent_obama = test_set[0] / (test_set[0] + test_set[1])\n",
      "print percent_obama\n",
      "print \"\\n\\n If we predict Obama for every case in the test set, we would accurate only %s percent of the time\" % (percent_obama * 100)"
     ],
     "language": "python",
     "metadata": {},
     "outputs": [
      {
       "output_type": "stream",
       "stream": "stdout",
       "text": [
        "0.592\n",
        "\n",
        "\n",
        " If we predict Obama for every case in the test set, we would accurate only 59.2 percent of the time\n"
       ]
      }
     ],
     "prompt_number": 32
    },
    {
     "cell_type": "markdown",
     "metadata": {},
     "source": [
      "### 2. Get started with Neural Networks"
     ]
    },
    {
     "cell_type": "markdown",
     "metadata": {},
     "source": [
      "#### A. Choose a NN implementation and specify which you choose. Be sure the implementation allows you to modify the number of hidden layers and hidden nodes per layer. \n",
      "NOTE: When possible, specify the logsig (sigmoid) function as the transfer function for the output node and use Levenberg-Marquardt backpropagation."
     ]
    },
    {
     "cell_type": "markdown",
     "metadata": {},
     "source": [
      "We are using **Neurolab** with Python."
     ]
    },
    {
     "cell_type": "markdown",
     "metadata": {},
     "source": [
      "#### B. Train a neural network with a single 10 node hidden layer. Only use the TRANSACTION_AMT feature of the dataset to predict CAND_ID. You will have to change CAND_ID to a 0 and 1 class. After training, use your trained model to predict the class using the TRANSACTION_AMT feature from the training set. What was the accuracy of this prediction?"
     ]
    },
    {
     "cell_type": "code",
     "collapsed": false,
     "input": [
      "le = preprocessing.LabelEncoder()\n",
      "le.fit([\"Obama\", \"Romney\"])\n",
      "target = le.transform(train.CAND_ID)"
     ],
     "language": "python",
     "metadata": {},
     "outputs": [],
     "prompt_number": 35
    },
    {
     "cell_type": "code",
     "collapsed": false,
     "input": [
      "size = len(train.CAND_ID)\n",
      "# Create network with 1 hidden layer with 10 nodes\n",
      "net = nl.net.newff([[min(train.TRANSACTION_AMT), max(train.TRANSACTION_AMT)]],[10, 1])\n",
      "# Train network, not sure if we need the epochs, show, or goal...\n",
      "error = net.train(train.TRANSACTION_AMT.reshape(size,1), target.reshape(size,1), epochs=100, goal=0.02)"
     ],
     "language": "python",
     "metadata": {},
     "outputs": [],
     "prompt_number": 36
    },
    {
     "cell_type": "code",
     "collapsed": false,
     "input": [
      "# Simulate network\n",
      "train_output = net.sim(train.TRANSACTION_AMT.reshape(size,1))\n",
      "# Round to get prediction\n",
      "train_predictions = map(lambda x: int(round(x,0)), train_output)\n",
      "print \"Accuracy:\", sum(target == train_predictions)/len(train_output)"
     ],
     "language": "python",
     "metadata": {},
     "outputs": [
      {
       "output_type": "stream",
       "stream": "stdout",
       "text": [
        "Accuracy: 0.545625\n"
       ]
      }
     ],
     "prompt_number": 37
    },
    {
     "cell_type": "markdown",
     "metadata": {},
     "source": [
      "#### C. Take the trained model from question 1.b and use it to predict the test set. This can be accomplished by taking the trained model and giving it the TRANSACTION_AMT feature values from the test set. What is the accuracy of this model on the test set?"
     ]
    },
    {
     "cell_type": "code",
     "collapsed": false,
     "input": [
      "# Recode the class label to 0,1 in test\n",
      "test_target = le.transform(test.CAND_ID)\n",
      "\n",
      "test_output = net.sim(test.TRANSACTION_AMT.reshape(len(test.CAND_ID),1))\n",
      "# Round to get prediction\n",
      "test_prediction = map(lambda x: int(round(x,0)), test_output)\n",
      "print \"Accuracy:\", sum(test_target == test_prediction)/len(test_target)"
     ],
     "language": "python",
     "metadata": {},
     "outputs": [
      {
       "output_type": "stream",
       "stream": "stdout",
       "text": [
        "Accuracy: 0.5425\n"
       ]
      }
     ],
     "prompt_number": 38
    },
    {
     "cell_type": "markdown",
     "metadata": {},
     "source": [
      "#### D. Neural Networks tend to prefer smaller, normalized feature values. Try taking the log of the TRANSACTION_AMT feature in both training and testing sets. Repeat question 1.c with the log version of this feature"
     ]
    },
    {
     "cell_type": "code",
     "collapsed": false,
     "input": [
      "# Better to take the log of the positive value and then add a negative after the log.\n",
      "log_array = lambda x: np.log(abs(x) + 1) * (1 if x > 0 else -1)\n",
      "train_log_trans_amt = np.array(map(log_array, train.TRANSACTION_AMT))\n",
      "test_log_trans_amt = np.array(map(log_array, test.TRANSACTION_AMT))"
     ],
     "language": "python",
     "metadata": {},
     "outputs": [],
     "prompt_number": 39
    },
    {
     "cell_type": "code",
     "collapsed": false,
     "input": [
      "# Create network with 1 hidden layer with 10 nodes\n",
      "net = nl.net.newff([[min(train_log_trans_amt), max(train_log_trans_amt)]],[10, 1])\n",
      "# Train network\n",
      "error = net.train(train_log_trans_amt.reshape(size,1), target.reshape(size,1), epochs=300, goal=0.02)"
     ],
     "language": "python",
     "metadata": {},
     "outputs": [
      {
       "output_type": "stream",
       "stream": "stdout",
       "text": [
        "Epoch: 100; Error: 952.954342529;\n",
        "Epoch: 200; Error: 951.69724764;"
       ]
      },
      {
       "output_type": "stream",
       "stream": "stdout",
       "text": [
        "\n",
        "Epoch: 300; Error: 951.691545109;"
       ]
      },
      {
       "output_type": "stream",
       "stream": "stdout",
       "text": [
        "\n",
        "The maximum number of train epochs is reached\n"
       ]
      }
     ],
     "prompt_number": 40
    },
    {
     "cell_type": "code",
     "collapsed": false,
     "input": [
      "log_output = net.sim(test_log_trans_amt.reshape(len(test.CAND_ID),1))\n",
      "# Round to get prediction\n",
      "log_predictions = map(lambda x: int(round(x,0)), log_output)\n",
      "print \"Accuracy:\", sum(test_target == log_predictions)/len(test_target)"
     ],
     "language": "python",
     "metadata": {},
     "outputs": [
      {
       "output_type": "stream",
       "stream": "stdout",
       "text": [
        "Accuracy: 0.5895\n"
       ]
      }
     ],
     "prompt_number": 41
    },
    {
     "cell_type": "markdown",
     "metadata": {},
     "source": [
      "### 3. Get started with Support Vector Machines"
     ]
    },
    {
     "cell_type": "markdown",
     "metadata": {},
     "source": [
      "#### a. Chosen a SVM implementation and specify which you choose. Be sure the implementation allows you to choose between linear and RBF kernels. "
     ]
    },
    {
     "cell_type": "markdown",
     "metadata": {},
     "source": [
      "We are using python/sklearn."
     ]
    },
    {
     "cell_type": "markdown",
     "metadata": {},
     "source": [
      "#### b. Use the same dataset from 1.b using the linear kernel to find training set prediction accuracy"
     ]
    },
    {
     "cell_type": "code",
     "collapsed": false,
     "input": [
      "clf = svm.LinearSVC()\n",
      "train_X = train.TRANSACTION_AMT.reshape(size,1)\n",
      "train_y = target\n",
      "clf.fit(train_X, train_y)"
     ],
     "language": "python",
     "metadata": {},
     "outputs": [
      {
       "metadata": {},
       "output_type": "pyout",
       "prompt_number": 42,
       "text": [
        "LinearSVC(C=1.0, class_weight=None, dual=True, fit_intercept=True,\n",
        "     intercept_scaling=1, loss='l2', multi_class='ovr', penalty='l2',\n",
        "     random_state=None, tol=0.0001, verbose=0)"
       ]
      }
     ],
     "prompt_number": 42
    },
    {
     "cell_type": "code",
     "collapsed": false,
     "input": [
      "train_answers = clf.predict(train_X)\n",
      "print \"Accuracy:\", sum(target == train_answers)/len(target)"
     ],
     "language": "python",
     "metadata": {},
     "outputs": [
      {
       "output_type": "stream",
       "stream": "stdout",
       "text": [
        "Accuracy: 0.5715\n"
       ]
      }
     ],
     "prompt_number": 43
    },
    {
     "cell_type": "markdown",
     "metadata": {},
     "source": [
      "#### c. Use the same dataset from 1.b using the linear kernel to find test set prediction accuracy"
     ]
    },
    {
     "cell_type": "code",
     "collapsed": false,
     "input": [
      "test_X = test.TRANSACTION_AMT.reshape(len(test),1)\n",
      "test_answers = clf.predict(test_X)\n",
      "print \"Accuracy:\", sum(test_target == test_answers)/len(test_target)"
     ],
     "language": "python",
     "metadata": {},
     "outputs": [
      {
       "output_type": "stream",
       "stream": "stdout",
       "text": [
        "Accuracy: 0.592\n"
       ]
      }
     ],
     "prompt_number": 44
    },
    {
     "cell_type": "markdown",
     "metadata": {},
     "source": [
      "#### d. Use the same dataset from 1.b using the RBF kernel  to find training set prediction accuracy"
     ]
    },
    {
     "cell_type": "code",
     "collapsed": false,
     "input": [
      "clf = svm.SVC(kernel=\"rbf\")\n",
      "train_X = train.TRANSACTION_AMT.reshape(size,1)\n",
      "train_y = target\n",
      "clf.fit(train_X, train_y)\n",
      "train_answers = clf.predict(train_X)\n",
      "print \"Accuracy:\", sum(target == train_answers)/len(target)"
     ],
     "language": "python",
     "metadata": {},
     "outputs": [
      {
       "output_type": "stream",
       "stream": "stdout",
       "text": [
        "Accuracy: 0.6325\n"
       ]
      }
     ],
     "prompt_number": 45
    },
    {
     "cell_type": "markdown",
     "metadata": {},
     "source": [
      "#### e. Use the same dataset from 1.b using the RBF kernel  to find test set prediction accuracy"
     ]
    },
    {
     "cell_type": "code",
     "collapsed": false,
     "input": [
      "test_X = test.TRANSACTION_AMT.reshape(len(test),1)\n",
      "test_answers = clf.predict(test_X)\n",
      "print \"Accuracy:\", sum(test_target == test_answers)/len(test_target)"
     ],
     "language": "python",
     "metadata": {},
     "outputs": [
      {
       "output_type": "stream",
       "stream": "stdout",
       "text": [
        "Accuracy: 0.596\n"
       ]
      }
     ],
     "prompt_number": 46
    },
    {
     "cell_type": "markdown",
     "metadata": {},
     "source": [
      "#### f. Use the same dataset from 1.d (log) using the RBF to find test set prediction accuracy"
     ]
    },
    {
     "cell_type": "code",
     "collapsed": false,
     "input": [
      "clf = svm.SVC(kernel=\"rbf\")\n",
      "train_X = train_log_trans_amt.reshape(size,1)\n",
      "train_y = target\n",
      "clf.fit(train_X, train_y)\n",
      "\n",
      "test_answers = clf.predict(test_log_trans_amt.reshape(len(test),1))\n",
      "print \"Accuracy:\", sum(test_target == test_answers)/len(test_target)"
     ],
     "language": "python",
     "metadata": {},
     "outputs": [
      {
       "output_type": "stream",
       "stream": "stdout",
       "text": [
        "Accuracy: 0.5915\n"
       ]
      }
     ],
     "prompt_number": 47
    },
    {
     "cell_type": "markdown",
     "metadata": {},
     "source": [
      "#### g. Z-score is a normalization technique. It is the value of a feature minus the average value for that feature in the training set, divided by the standard deviation of that feature in the training set. Repeat question 2.f using Z-score.\n"
     ]
    },
    {
     "cell_type": "code",
     "collapsed": false,
     "input": [
      "mean_transaction_amount = np.mean(train.TRANSACTION_AMT)\n",
      "stdev_transaction_amount = np.std(train.TRANSACTION_AMT)\n",
      "train[\"zscore_transaction_amount\"] = map(lambda x: (x - mean_transaction_amount)/stdev_transaction_amount, train.TRANSACTION_AMT)\n",
      "# Calc Z-Score in test set using mean and stdev from trainging\n",
      "test[\"zscore_transaction_amount\"] = map(lambda x: (x - mean_transaction_amount)/stdev_transaction_amount, test.TRANSACTION_AMT)\n",
      "\n",
      "train_X = train.zscore_transaction_amount.reshape(size,1)\n",
      "clf.fit(train_X, train_y)\n",
      "\n",
      "test_answers = clf.predict(test.zscore_transaction_amount.reshape(len(test),1))\n",
      "print \"Accuracy:\", sum(test_target == test_answers)/len(test_target)"
     ],
     "language": "python",
     "metadata": {},
     "outputs": [
      {
       "output_type": "stream",
       "stream": "stdout",
       "text": [
        "Accuracy: 0.5925\n"
       ]
      }
     ],
     "prompt_number": 48
    },
    {
     "cell_type": "markdown",
     "metadata": {},
     "source": [
      "### 4. The rest of features in this dataset, except for ZIP_CODE, and TRANSACTION_DT (date/time), categorical. Neither ML method accepts categorical features, so transform each feature into a set of binary features, one feature per unique original feature value, and mark the binary feature as \u20181\u2019 if the feature value matches the original value and \u20180\u2019 otherwise. Using only these binary variable transformed features, train and predict the class of the test set."
     ]
    },
    {
     "cell_type": "markdown",
     "metadata": {},
     "source": [
      "#### a. What was your accuracy using Neural Network with a single 10 node hidden layer?"
     ]
    },
    {
     "cell_type": "code",
     "collapsed": false,
     "input": [
      "# numeric encoding for feature labels\n",
      "dvec = DictVectorizer()\n",
      "#only including those features which are not mostly unique values to try and improve the efficiency\n",
      "feature_cols = [col for col in train.columns if col in ['AMNDT_IND','RPT_TP','ENTITY_TP','CMTE_ID','STATE']]\n",
      "train_encoding_values = train[feature_cols].T.to_dict().values()\n",
      "train_encoded_data = dvec.fit_transform(train_encoding_values).toarray()"
     ],
     "language": "python",
     "metadata": {},
     "outputs": [],
     "prompt_number": 49
    },
    {
     "cell_type": "code",
     "collapsed": false,
     "input": [
      "# f = nl.trans.LogSig()\n",
      "# train_encoded_data = f(train_encoded_data).tolist()\n",
      "\n",
      "# Create network with 1 layers\n",
      "net_4 = nl.net.newff([[0, 1]]*332,[10, 1])\n",
      "# Train network\n",
      "error_4 = net_4.train(train_encoded_data, target.reshape(len(target),1), epochs=50, show=100, goal=0.02)"
     ],
     "language": "python",
     "metadata": {},
     "outputs": [
      {
       "output_type": "stream",
       "stream": "stdout",
       "text": [
        "The maximum number of train epochs is reached\n"
       ]
      }
     ],
     "prompt_number": 50
    },
    {
     "cell_type": "code",
     "collapsed": false,
     "input": [
      "#only including those features which are not mostly unique values to try and improve the efficiency\n",
      "test_encoding_values = test[feature_cols].T.to_dict().values()\n",
      "test_encoding_data = dvec.transform(test_encoding_values).toarray()\n",
      "\n",
      "result = net_4.sim(test_encoding_data.transpose().reshape(len(test_encoding_data),len(test_encoding_data[0])))"
     ],
     "language": "python",
     "metadata": {},
     "outputs": [],
     "prompt_number": 51
    },
    {
     "cell_type": "code",
     "collapsed": false,
     "input": [
      "print \"Accuracy:\", sum(test_target == result)/len(test_target)"
     ],
     "language": "python",
     "metadata": {},
     "outputs": [
      {
       "output_type": "stream",
       "stream": "stdout",
       "text": [
        "Accuracy: [ 0.  0.  0. ...,  0.  0.  0.]\n"
       ]
      }
     ],
     "prompt_number": 52
    },
    {
     "cell_type": "markdown",
     "metadata": {},
     "source": [
      "#### b. What was your accuracy using a SVM with RBF kernel?"
     ]
    },
    {
     "cell_type": "code",
     "collapsed": false,
     "input": [
      "clf = svm.SVC(kernel=\"rbf\")\n",
      "train_y = target\n",
      "clf.fit(train_encoded_data, train_y)\n",
      "\n",
      "test_answers = clf.predict(test_encoding_data)\n",
      "print \"Accuracy:\", sum(test_target == test_answers)/len(test_target)"
     ],
     "language": "python",
     "metadata": {},
     "outputs": [
      {
       "output_type": "stream",
       "stream": "stdout",
       "text": [
        "Accuracy: 0.599\n"
       ]
      }
     ],
     "prompt_number": 53
    },
    {
     "cell_type": "markdown",
     "metadata": {},
     "source": [
      "### 5. Using a NN, does TRANSACTION_AMT + ZIP_CODE predict the test set class better by a) keeping the original feature values b) taking the log of the original values c) taking the Z-score of the original values or d) using a binary feature transformed set of the original values? "
     ]
    },
    {
     "cell_type": "markdown",
     "metadata": {},
     "source": [
      "#### A) Original Values"
     ]
    },
    {
     "cell_type": "code",
     "collapsed": false,
     "input": [
      "size = len(train.CAND_ID)\n",
      "\n",
      "# Create network with 1 layers\n",
      "net = nl.net.newff([[min(train.TRANSACTION_AMT), max(train.TRANSACTION_AMT)]\\\n",
      "                    ,[min(train.ZIP_CODE), max(train.ZIP_CODE)]],[10, 1])\n",
      "\n",
      "inp = train[[\"TRANSACTION_AMT\",\"ZIP_CODE\"]]\n",
      "# Train network\n",
      "error = net.train(inp, target.reshape(size,1), epochs=300, goal=0.02)"
     ],
     "language": "python",
     "metadata": {},
     "outputs": [],
     "prompt_number": 54
    },
    {
     "cell_type": "code",
     "collapsed": false,
     "input": [
      "# Simulate network\n",
      "test_output = net.sim(test[[\"TRANSACTION_AMT\",\"ZIP_CODE\"]])\n",
      "print \"Accuracy:\", sum(test_target.reshape(len(test_target),1) == test_output.round())/len(test_output)"
     ],
     "language": "python",
     "metadata": {},
     "outputs": [
      {
       "output_type": "stream",
       "stream": "stdout",
       "text": [
        "Accuracy: [ 0.5885]\n"
       ]
      }
     ],
     "prompt_number": 55
    },
    {
     "cell_type": "markdown",
     "metadata": {},
     "source": [
      "#### B) Log of Original Values"
     ]
    },
    {
     "cell_type": "code",
     "collapsed": false,
     "input": [
      "size = len(train.CAND_ID)\n",
      "\n",
      "train_log_trans_amt = map(log_array, train.TRANSACTION_AMT)\n",
      "test_log_trans_amt = map(log_array, test.TRANSACTION_AMT)\n",
      "\n",
      "train.ZIP_CODE = map(int, train.ZIP_CODE)\n",
      "test.ZIP_CODE = map(int, test.ZIP_CODE)\n",
      "\n",
      "train_log_zip_code = map(log_array, train.ZIP_CODE)\n",
      "test_log_zip_code = map(log_array, test.ZIP_CODE)"
     ],
     "language": "python",
     "metadata": {},
     "outputs": [],
     "prompt_number": 56
    },
    {
     "cell_type": "code",
     "collapsed": false,
     "input": [
      "# Create network with 1 layers\n",
      "net = nl.net.newff([[min(train_log_trans_amt), max(train_log_trans_amt)]\\\n",
      "                    ,[min(train_log_zip_code), max(train_log_zip_code)]],[10, 1])\n",
      "\n",
      "inp = np.array(zip(train_log_trans_amt,train_log_zip_code))\n",
      "\n",
      "# Train network\n",
      "error = net.train(inp, target.reshape(size,1), epochs=300, goal=0.02)"
     ],
     "language": "python",
     "metadata": {},
     "outputs": [],
     "prompt_number": 57
    },
    {
     "cell_type": "code",
     "collapsed": false,
     "input": [
      "# Simulate network\n",
      "test_network = np.array(zip(test_log_trans_amt,test_log_zip_code))\n",
      "test_output = net.sim(test_network)\n",
      "print \"Accuracy:\", sum(test_target.reshape(len(test_target),1) == test_output.round())/len(test_output)"
     ],
     "language": "python",
     "metadata": {},
     "outputs": [
      {
       "output_type": "stream",
       "stream": "stdout",
       "text": [
        "Accuracy: [ 0.408]\n"
       ]
      }
     ],
     "prompt_number": 58
    },
    {
     "cell_type": "markdown",
     "metadata": {},
     "source": [
      "#### C) Z-Score of the Original Values"
     ]
    },
    {
     "cell_type": "code",
     "collapsed": false,
     "input": [
      "mean_transaction_amount = np.mean(train.TRANSACTION_AMT)\n",
      "stdev_transaction_amount = np.std(train.TRANSACTION_AMT)\n",
      "\n",
      "train_zscore_trans_amt = map(lambda x: (x - mean_transaction_amount)/stdev_transaction_amount, train.TRANSACTION_AMT)\n",
      "test_zscore_trans_amt = map(lambda x: (x - mean_transaction_amount)/stdev_transaction_amount, test.TRANSACTION_AMT)\n",
      "\n",
      "mean_zip_code = np.mean(train.ZIP_CODE)\n",
      "stdev_zip_code = np.std(train.ZIP_CODE)\n",
      "\n",
      "train_zscore_zip_code = map(lambda x: (x - mean_zip_code)/stdev_zip_code, train.ZIP_CODE)\n",
      "test_zscore_zip_code = map(lambda x: (x - mean_zip_code)/stdev_zip_code, test.ZIP_CODE)"
     ],
     "language": "python",
     "metadata": {},
     "outputs": [],
     "prompt_number": 59
    },
    {
     "cell_type": "code",
     "collapsed": false,
     "input": [
      "# Create network with 1 layers\n",
      "net = nl.net.newff([[min(train_zscore_trans_amt), max(train_zscore_trans_amt)]\\\n",
      "                    ,[min(train_zscore_zip_code), max(train_zscore_zip_code)]],[10, 1])\n",
      "\n",
      "inp = np.array(zip(train_zscore_trans_amt,train_zscore_zip_code))\n",
      "\n",
      "# Train network\n",
      "error = net.train(inp, target.reshape(size,1), epochs=300, show=100, goal=0.02)"
     ],
     "language": "python",
     "metadata": {},
     "outputs": [
      {
       "output_type": "stream",
       "stream": "stdout",
       "text": [
        "Epoch: 100; Error: 968.08171308;\n",
        "Epoch: 200; Error: 967.663742435;"
       ]
      },
      {
       "output_type": "stream",
       "stream": "stdout",
       "text": [
        "\n",
        "Epoch: 300; Error: 967.575513134;"
       ]
      },
      {
       "output_type": "stream",
       "stream": "stdout",
       "text": [
        "\n",
        "The maximum number of train epochs is reached\n"
       ]
      }
     ],
     "prompt_number": 60
    },
    {
     "cell_type": "code",
     "collapsed": false,
     "input": [
      "# Simulate network\n",
      "test_network = np.array(zip(test_zscore_trans_amt,test_zscore_zip_code))\n",
      "test_output = net.sim(test_network)\n",
      "print \"Accuracy:\", sum(test_target.reshape(len(test_target),1) == test_output.round())/len(test_output)"
     ],
     "language": "python",
     "metadata": {},
     "outputs": [
      {
       "output_type": "stream",
       "stream": "stdout",
       "text": [
        "Accuracy: [ 0.592]\n"
       ]
      }
     ],
     "prompt_number": 61
    },
    {
     "cell_type": "markdown",
     "metadata": {},
     "source": [
      "### 6. Repeat question 5 for TRANSACTION_DT"
     ]
    },
    {
     "cell_type": "code",
     "collapsed": false,
     "input": [
      "train['TRANSACTION_DT'] = pd.to_datetime(train.TRANSACTION_DT, format='%m%d%Y')\n",
      "train['EPOCH'] = train.TRANSACTION_DT.apply(lambda x: (x - dt.datetime(1970,1,1)).total_seconds())\n",
      "\n",
      "test['TRANSACTION_DT'] = pd.to_datetime(test.TRANSACTION_DT, format='%m%d%Y')\n",
      "test['EPOCH'] = test.TRANSACTION_DT.apply(lambda x: (x - dt.datetime(1970,1,1)).total_seconds())"
     ],
     "language": "python",
     "metadata": {},
     "outputs": [],
     "prompt_number": 62
    },
    {
     "cell_type": "markdown",
     "metadata": {},
     "source": [
      "#### A) Original Values"
     ]
    },
    {
     "cell_type": "code",
     "collapsed": false,
     "input": [
      "size = len(train.CAND_ID)\n",
      "\n",
      "# Create network with 1 layers\n",
      "net = nl.net.newff([[min(train.EPOCH), max(train.EPOCH)]\\\n",
      "                    ,[min(train.ZIP_CODE), max(train.ZIP_CODE)]],[10, 1])\n",
      "\n",
      "inp = train[[\"EPOCH\",\"ZIP_CODE\"]]\n",
      "# Train network\n",
      "error = net.train(inp, target.reshape(size,1), epochs=500, goal=0.02)"
     ],
     "language": "python",
     "metadata": {},
     "outputs": [],
     "prompt_number": 63
    },
    {
     "cell_type": "code",
     "collapsed": false,
     "input": [
      "# Simulate network\n",
      "test_output = net.sim(test[[\"EPOCH\",\"ZIP_CODE\"]])\n",
      "print \"Accuracy:\", sum(test_target.reshape(len(test_target),1) == test_output.round())/len(test_output)"
     ],
     "language": "python",
     "metadata": {},
     "outputs": [
      {
       "output_type": "stream",
       "stream": "stdout",
       "text": [
        "Accuracy: [ 0.408]\n"
       ]
      }
     ],
     "prompt_number": 64
    },
    {
     "cell_type": "markdown",
     "metadata": {},
     "source": [
      "#### B) Log Values"
     ]
    },
    {
     "cell_type": "code",
     "collapsed": false,
     "input": [
      "size = len(train.CAND_ID)\n",
      "\n",
      "train_log_trans_dt = map(log_array, train.EPOCH)\n",
      "test_log_trans_dt = map(log_array, test.EPOCH)"
     ],
     "language": "python",
     "metadata": {},
     "outputs": [],
     "prompt_number": 65
    },
    {
     "cell_type": "code",
     "collapsed": false,
     "input": [
      "# Create network with 1 layers\n",
      "net = nl.net.newff([[min(train_log_trans_dt), max(train_log_trans_dt)]\\\n",
      "                    ,[min(train_log_zip_code), max(train_log_zip_code)]],[10, 1])\n",
      "\n",
      "inp = np.array(zip(train_log_trans_dt,train_log_zip_code))\n",
      "\n",
      "# Train network\n",
      "error = net.train(inp, target.reshape(size,1), epochs=300, goal=0.02)"
     ],
     "language": "python",
     "metadata": {},
     "outputs": [],
     "prompt_number": 66
    },
    {
     "cell_type": "code",
     "collapsed": false,
     "input": [
      "# Simulate network\n",
      "test_network = np.array(zip(test_log_trans_dt,test_log_zip_code))\n",
      "test_output = net.sim(test_network)\n",
      "print \"Accuracy:\", sum(test_target.reshape(len(test_target),1) == test_output.round())/len(test_output)"
     ],
     "language": "python",
     "metadata": {},
     "outputs": [
      {
       "output_type": "stream",
       "stream": "stdout",
       "text": [
        "Accuracy: [ 0.592]\n"
       ]
      }
     ],
     "prompt_number": 67
    },
    {
     "cell_type": "markdown",
     "metadata": {},
     "source": [
      "#### C) Z-Score"
     ]
    },
    {
     "cell_type": "code",
     "collapsed": false,
     "input": [
      "mean_transaction_dt = np.mean(train.EPOCH)\n",
      "stdev_transaction_dt = np.std(train.EPOCH)\n",
      "\n",
      "train_zscore_trans_dt = map(lambda x: (x - mean_transaction_dt)/stdev_transaction_dt, train.EPOCH)\n",
      "test_zscore_trans_dt = map(lambda x: (x - mean_transaction_dt)/stdev_transaction_dt, test.EPOCH)"
     ],
     "language": "python",
     "metadata": {},
     "outputs": [],
     "prompt_number": 68
    },
    {
     "cell_type": "code",
     "collapsed": false,
     "input": [
      "# Create network with 1 layers\n",
      "net = nl.net.newff([[min(train_zscore_trans_dt), max(train_zscore_trans_dt)]\\\n",
      "                    ,[min(train_zscore_zip_code), max(train_zscore_zip_code)]],[10, 1])\n",
      "\n",
      "inp = np.array(zip(train_zscore_trans_amt,train_zscore_zip_code))\n",
      "\n",
      "# Train network\n",
      "error = net.train(inp, target.reshape(size,1), epochs=300, show=100, goal=0.02)"
     ],
     "language": "python",
     "metadata": {},
     "outputs": [
      {
       "output_type": "stream",
       "stream": "stdout",
       "text": [
        "Epoch: 100; Error: 967.447505158;\n",
        "Epoch: 200; Error: 967.018960361;"
       ]
      },
      {
       "output_type": "stream",
       "stream": "stdout",
       "text": [
        "\n",
        "Epoch: 300; Error: 965.761586781;"
       ]
      },
      {
       "output_type": "stream",
       "stream": "stdout",
       "text": [
        "\n",
        "The maximum number of train epochs is reached\n"
       ]
      }
     ],
     "prompt_number": 69
    },
    {
     "cell_type": "code",
     "collapsed": false,
     "input": [
      "# Simulate network\n",
      "test_network = np.array(zip(test_zscore_trans_amt,test_zscore_zip_code))\n",
      "test_output = net.sim(test_network)\n",
      "print \"Accuracy:\", sum(test_target.reshape(len(test_target),1) == test_output.round())/len(test_output)"
     ],
     "language": "python",
     "metadata": {},
     "outputs": [
      {
       "output_type": "stream",
       "stream": "stdout",
       "text": [
        "Accuracy: [ 0.5925]\n"
       ]
      }
     ],
     "prompt_number": 70
    },
    {
     "cell_type": "markdown",
     "metadata": {},
     "source": [
      "### 7. Combine the features from question 4, 5, and TRANSACTION_DT from question 6 (using the best normalization feature set from questions 5 and 6)"
     ]
    },
    {
     "cell_type": "markdown",
     "metadata": {},
     "source": [
      "#### a) What was the NN accuracy on the test set using the single 10 node hidden layer?"
     ]
    },
    {
     "cell_type": "markdown",
     "metadata": {},
     "source": [
      "#### b) What was the SVM accuracy on the test set the RBF kernel? "
     ]
    },
    {
     "cell_type": "code",
     "collapsed": false,
     "input": [
      "clf = svm.SVC(kernel=\"rbf\")\n",
      "train_y = target\n",
      "train_x = np.array(zip(train_zscore_zip_code, train_zscore_trans_amt, train_zscore_trans_dt))\n",
      "\n",
      "train_data = []\n",
      "for i in range(8000):\n",
      "    train_data.append(np.concatenate([train_x[i], train_encoded_data[i]]))\n",
      "    \n",
      "train_data = np.array(train_data)\n",
      "clf.fit(train_data, train_y)\n",
      "# Q4 train_encoded_data, test_encoding_data\n",
      "# Q5, Q6 train_zscore_trans_amt, train_zscore_zip_code, train_zscore_trans_dt\n",
      "\n",
      "test_x = np.array(zip(test_zscore_zip_code, test_zscore_trans_amt, test_zscore_trans_dt))\n",
      "\n",
      "test_data = []\n",
      "for i in range(2000):\n",
      "    test_data.append(np.concatenate([test_x[i], test_encoding_data[i]]))\n",
      "\n",
      "test_answers = clf.predict(test_data)\n",
      "print \"Accuracy:\", sum(test_target == test_answers)/len(test_target)"
     ],
     "language": "python",
     "metadata": {},
     "outputs": [
      {
       "output_type": "stream",
       "stream": "stdout",
       "text": [
        "Accuracy: 0.5955\n"
       ]
      }
     ],
     "prompt_number": 72
    },
    {
     "cell_type": "markdown",
     "metadata": {},
     "source": [
      "### 8. Can you improve your test set prediction accuracy by 5% or more? See how close to that milestone of improvement you can get by modifying the tuning parameters of either Neural Networks (the number of hidden layers, number of hidden nodes in each layer, the learning rate aka mu) or with SVM (choosing kernel, C, and mu). A great guide to tuning parameters is explained in this guide: http://www.csie.ntu.edu.tw/~cjlin/papers/guide/guide.pdf. While the guide is specific to SVM and in particular the C and gamma parameters of the RBF kernel, the method applies to generally to any ML technique with tuning parameters. This question will incorporate using different holdout strategies to conduct tuning on the training set before using the best model to predict the test set. Note that you may reduce the size of the training set"
     ]
    },
    {
     "cell_type": "markdown",
     "metadata": {},
     "source": [
      "#### a) What was your best accuracy on the test set using the training set as your holdout?\n",
      "For example, specify some value of mu and C for the RBF SVM kernel. Use the training set to train the model then use the training set again to test the accuracy of the model. Try different values for C and mu, again training and testing on the training set. Take the most accurate model from your trials and use it to predict the real test set. Report your accuracy. Note that you should only be predicting the test set ONCE."
     ]
    },
    {
     "cell_type": "code",
     "collapsed": false,
     "input": [
      "C_range = 10.0 ** np.arange(0, 3)\n",
      "gamma_range = 10.0 ** np.arange(-3, 0)"
     ],
     "language": "python",
     "metadata": {},
     "outputs": [],
     "prompt_number": 73
    },
    {
     "cell_type": "code",
     "collapsed": false,
     "input": [
      "# Q4 train_encoded_data, test_encoding_data\n",
      "# Q5, Q6 train_zscore_trans_amt, train_zscore_zip_code, train_zscore_trans_dt\n",
      "\n",
      "train_y = target\n",
      "train_x = np.array(zip(train_zscore_zip_code, train_zscore_trans_amt, train_zscore_trans_dt))\n",
      "\n",
      "train_data = []\n",
      "for i in range(8000):\n",
      "    train_data.append(np.concatenate([train_x[i], train_encoded_data[i]]))\n",
      "    \n",
      "train_data = np.array(train_data)\n",
      "\n",
      "test_x = np.array(zip(test_zscore_zip_code, test_zscore_trans_amt, test_zscore_trans_dt))\n",
      "test_data = []\n",
      "\n",
      "for i in range(2000):\n",
      "    test_data.append(np.concatenate([test_x[i], test_encoding_data[i]]))"
     ],
     "language": "python",
     "metadata": {},
     "outputs": [],
     "prompt_number": 75
    },
    {
     "cell_type": "code",
     "collapsed": false,
     "input": [
      "# predict the training set\n",
      "for c in C_range:\n",
      "    for g in gamma_range:\n",
      "        clf = svm.SVC(kernel=\"rbf\", C=c, gamma=g)\n",
      "        clf.fit(train_data, train_y)\n",
      "        test_answers = clf.predict(train_data)\n",
      "        print \"Accuracy:\", sum(target == test_answers)/len(target)"
     ],
     "language": "python",
     "metadata": {},
     "outputs": []
    },
    {
     "cell_type": "code",
     "collapsed": false,
     "input": [
      "# predict the testing set\n",
      "clf = svm.SVC(kernel=\"rbf\", C=100.0)\n",
      "clf.fit(train_data, train_y)\n",
      "test_answers = clf.predict(test_data)\n",
      "print \"Accuracy:\", sum(test_target == test_answers)/len(test_target)"
     ],
     "language": "python",
     "metadata": {},
     "outputs": [
      {
       "output_type": "stream",
       "stream": "stdout",
       "text": [
        "Accuracy: 0.646\n"
       ]
      }
     ],
     "prompt_number": 76
    },
    {
     "cell_type": "markdown",
     "metadata": {},
     "source": [
      "#### b) What was your best accuracy on the test set using a 70% train 30% holdout?\n",
      "For this question, split the rows of your training set into a subset containing 70% of the rows and another containing the remaining 30%. Train on the 70% and test of the 30%. Tune your parameters and then take the model with the best accuracy on the 30% and use it to predict the real test set. Report your accuracy. Again, prediction of the test set should only be done ONCE."
     ]
    },
    {
     "cell_type": "code",
     "collapsed": false,
     "input": [
      "rand_ints = random.sample(range(8000), 5600)\n",
      "mask = np.ones(8000, np.bool)\n",
      "mask[rand_ints] = 0"
     ],
     "language": "python",
     "metadata": {},
     "outputs": [],
     "prompt_number": 77
    },
    {
     "cell_type": "code",
     "collapsed": false,
     "input": [
      "train_y = target\n",
      "train_x = np.array(zip(train_zscore_zip_code, train_zscore_trans_amt, train_zscore_trans_dt))\n",
      "\n",
      "train_data = []\n",
      "for i in range(8000):\n",
      "    train_data.append(np.concatenate([train_x[i], train_encoded_data[i]]))\n",
      "train_data = np.array(train_data)"
     ],
     "language": "python",
     "metadata": {},
     "outputs": [],
     "prompt_number": 78
    },
    {
     "cell_type": "code",
     "collapsed": false,
     "input": [
      "# predict the training set\n",
      "for c in C_range:\n",
      "    for g in gamma_range:\n",
      "        clf = svm.SVC(kernel=\"rbf\", C=c, gamma=g)\n",
      "        clf.fit(train_data[mask], train_y[mask])\n",
      "        test_answers = clf.predict(train_data[~mask])\n",
      "        print \"Accuracy:\", sum(train_y[~mask] == test_answers)/len(train_y[~mask])"
     ],
     "language": "python",
     "metadata": {},
     "outputs": []
    },
    {
     "cell_type": "code",
     "collapsed": false,
     "input": [
      "# Predict the test set\n",
      "clf = svm.SVC(kernel=\"rbf\", C=10.0, gamma=0.01)\n",
      "clf.fit(train_data, train_y)\n",
      "\n",
      "test_x = np.array(zip(test_zscore_zip_code, test_zscore_trans_amt, test_zscore_trans_dt))\n",
      "\n",
      "test_data = []\n",
      "for i in range(2000):\n",
      "    test_data.append(np.concatenate([test_x[i], test_encoding_data[i]]))\n",
      "\n",
      "test_answers = clf.predict(test_data)\n",
      "print \"Accuracy:\", sum(test_target == test_answers)/len(test_target)"
     ],
     "language": "python",
     "metadata": {},
     "outputs": [
      {
       "output_type": "stream",
       "stream": "stdout",
       "text": [
        "Accuracy: 0.643\n"
       ]
      }
     ],
     "prompt_number": 79
    },
    {
     "cell_type": "markdown",
     "metadata": {},
     "source": [
      "#### c) Finally, what was your best accuracy on the test set using 5-fold cross validation?"
     ]
    },
    {
     "cell_type": "markdown",
     "metadata": {},
     "source": [
      "For this question, use 5-fold cross-validation of the training set in order to tune your parameters and find the best model. After finding the tuning parameter values that give you the best cross-validated accuracy, train the model on the entire training set using those parameter values then use this trained model to predict the real test set and report your accuracy. \n",
      "Please submit a file called test_set_prediction.txt that includes the predictions (between 0 and 1) of the test set. The predictions should be in the same order as the original test set file.<br/>\n",
      "Please also submit a file called cv_predictions.txt that includes the predictions (between 0 and 1) of the cross-validated training set. The predictions should be in the same order as the original training set file. \n",
      "These two files will help demonstrate the value of ensemble prediction in the next lab.<br/>\n",
      "NOTE: See documentation for cross-validation strategies in Python scikit-learn (MATLAB documentation here). The cross_val_score function is the simplest to use for this assignment- it takes as inputs the model, features, labels, and number of folds and outputs an array of accuracies over each fold. The KFold iterator function produces indices for training and testing sets, and is good to use when you want to examine custom error metrics. "
     ]
    },
    {
     "cell_type": "code",
     "collapsed": false,
     "input": [
      "rand_ints = random.sample(range(8000), 2000)\n",
      "mask = np.ones(8000, np.bool)\n",
      "mask[rand_ints] = 0"
     ],
     "language": "python",
     "metadata": {},
     "outputs": [],
     "prompt_number": 86
    },
    {
     "cell_type": "code",
     "collapsed": false,
     "input": [
      "C_range = 10.0 ** np.arange(0, 3)\n",
      "gamma_range = 10.0 ** np.arange(-3, 0)\n",
      "param_grid = dict(gamma=gamma_range, C=C_range)\n",
      "clf = grid_search.GridSearchCV(svm.SVC(), param_grid=param_grid, cv=5)\n",
      "clf.fit(train_data[rand_ints], train_y[rand_ints])\n",
      "best_params = clf.best_params_\n",
      "print clf.best_estimator_"
     ],
     "language": "python",
     "metadata": {},
     "outputs": [
      {
       "output_type": "stream",
       "stream": "stdout",
       "text": [
        "SVC(C=100.0, cache_size=200, class_weight=None, coef0=0.0, degree=3,\n",
        "  gamma=0.01, kernel='rbf', max_iter=-1, probability=False,\n",
        "  random_state=None, shrinking=True, tol=0.001, verbose=False)\n"
       ]
      }
     ],
     "prompt_number": 90
    },
    {
     "cell_type": "code",
     "collapsed": false,
     "input": [
      "clf = svm.SVC(kernel=\"rbf\", C=best_params[\"C\"], gamma=best_params[\"gamma\"])\n",
      "clf.fit(train_data, train_y)\n",
      "test_answers = clf.predict(test_data)\n",
      "print \"Accuracy:\", sum(train_y[test] == test_answers)/len(train_y[test])"
     ],
     "language": "python",
     "metadata": {},
     "outputs": [
      {
       "output_type": "stream",
       "stream": "stdout",
       "text": [
        " Accuracy:"
       ]
      },
      {
       "ename": "IndexError",
       "evalue": "only integers, slices (`:`), ellipsis (`...`), numpy.newaxis (`None`) and integer or boolean arrays are valid indices",
       "output_type": "pyerr",
       "traceback": [
        "\u001b[0;31m---------------------------------------------------------------------------\u001b[0m\n\u001b[0;31mIndexError\u001b[0m                                Traceback (most recent call last)",
        "\u001b[0;32m<ipython-input-93-7f20caca5879>\u001b[0m in \u001b[0;36m<module>\u001b[0;34m()\u001b[0m\n\u001b[1;32m      2\u001b[0m \u001b[0mclf\u001b[0m\u001b[0;34m.\u001b[0m\u001b[0mfit\u001b[0m\u001b[0;34m(\u001b[0m\u001b[0mtrain_data\u001b[0m\u001b[0;34m,\u001b[0m \u001b[0mtrain_y\u001b[0m\u001b[0;34m)\u001b[0m\u001b[0;34m\u001b[0m\u001b[0m\n\u001b[1;32m      3\u001b[0m \u001b[0mtest_answers\u001b[0m \u001b[0;34m=\u001b[0m \u001b[0mclf\u001b[0m\u001b[0;34m.\u001b[0m\u001b[0mpredict\u001b[0m\u001b[0;34m(\u001b[0m\u001b[0mtest_data\u001b[0m\u001b[0;34m)\u001b[0m\u001b[0;34m\u001b[0m\u001b[0m\n\u001b[0;32m----> 4\u001b[0;31m \u001b[0;32mprint\u001b[0m \u001b[0;34m\"Accuracy:\"\u001b[0m\u001b[0;34m,\u001b[0m \u001b[0msum\u001b[0m\u001b[0;34m(\u001b[0m\u001b[0mtrain_y\u001b[0m\u001b[0;34m[\u001b[0m\u001b[0mtest\u001b[0m\u001b[0;34m]\u001b[0m \u001b[0;34m==\u001b[0m \u001b[0mtest_answers\u001b[0m\u001b[0;34m)\u001b[0m\u001b[0;34m/\u001b[0m\u001b[0mlen\u001b[0m\u001b[0;34m(\u001b[0m\u001b[0mtrain_y\u001b[0m\u001b[0;34m[\u001b[0m\u001b[0mtest\u001b[0m\u001b[0;34m]\u001b[0m\u001b[0;34m)\u001b[0m\u001b[0;34m\u001b[0m\u001b[0m\n\u001b[0m",
        "\u001b[0;31mIndexError\u001b[0m: only integers, slices (`:`), ellipsis (`...`), numpy.newaxis (`None`) and integer or boolean arrays are valid indices"
       ]
      }
     ],
     "prompt_number": 93
    },
    {
     "cell_type": "markdown",
     "metadata": {},
     "source": [
      "#### d) Please describe which hold out strategy resulted in highest accuracy on the real test set and the tuning parameter values you used to achieve your high score. Please write up how you went about trying to achieve your accuracy improvement. How many tuning parameter combinations do you use, did you methodologically sweep a range of parameters with some increment? Which changes had the most impact on accuracy improvement? Did you reduce the size of the training set to save computation time? What was the impact of this reduction on accuracy?"
     ]
    },
    {
     "cell_type": "markdown",
     "metadata": {},
     "source": [
      "###     9. (BONUS question + 10% of total possible points): The ZIP_CODE feature is numeric and ordinal but is a single dimension representing a 2 dimensional space. Does ZIP_CODE predict the test set better when mapped to a 2-D feature? Create a LONGITUDE and LATITUDE feature in the training set and test set. Use an external data source to map zip code to these values. Train and tune a NN or SVM to predict the test set using only TRANSACTION_AMT + LONGITUDE and LATITUDE. Try taking the log, and Z-score of the feature. How does your best prediction using TRANSACTION_AMT + LON/LAT features compare to the best prediction using TRANSACTION_AMT + ZIP_CODE? Be sure to repeat the same tuning procedure when finding the best ZIP_CODE accuracy as you did for the LON/LAT accuracy."
     ]
    },
    {
     "cell_type": "code",
     "collapsed": false,
     "input": [
      "kf = cross_validation.KFold(8000, n_folds=5)\n",
      "clf = svm.SVC(kernel=\"rbf\", C=1000.0, gamma=.001)\n",
      "\n",
      "for train, test in kf:\n",
      "    clf.fit(train_data[train], train_y[train])\n",
      "    test_answers = clf.predict(train_data[test])\n",
      "    print \"Accuracy:\", sum(train_y[test] == test_answers)/len(train_y[test])"
     ],
     "language": "python",
     "metadata": {},
     "outputs": []
    }
   ],
   "metadata": {}
  }
 ]
}