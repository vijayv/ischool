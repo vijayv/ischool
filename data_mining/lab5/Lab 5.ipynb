{
 "metadata": {
  "name": "",
  "signature": "sha256:d7fe1219b155736f64281417f57ece877c4296015ffa2f1969dd207cd52d1ad7"
 },
 "nbformat": 3,
 "nbformat_minor": 0,
 "worksheets": [
  {
   "cells": [
    {
     "cell_type": "code",
     "collapsed": false,
     "input": [
      "import numpy as np\n",
      "import pandas as pd\n",
      "from __future__ import division\n",
      "import neurolab as nl # for neural networks\n",
      "from sklearn import preprocessing, svm"
     ],
     "language": "python",
     "metadata": {},
     "outputs": [],
     "prompt_number": 3
    },
    {
     "cell_type": "code",
     "collapsed": false,
     "input": [
      "train = pd.read_csv(\"lab5_train.csv\")\n",
      "train.ZIP_CODE = train.ZIP_CODE.astype(\"str\")\n",
      "train.TRANSACTION_DT = train.TRANSACTION_DT.astype(\"int\").astype(\"str\")\n",
      "train.head()"
     ],
     "language": "python",
     "metadata": {},
     "outputs": [
      {
       "html": [
        "<div style=\"max-height:1000px;max-width:1500px;overflow:auto;\">\n",
        "<table border=\"1\" class=\"dataframe\">\n",
        "  <thead>\n",
        "    <tr style=\"text-align: right;\">\n",
        "      <th></th>\n",
        "      <th>CMTE_ID</th>\n",
        "      <th>AMNDT_IND</th>\n",
        "      <th>RPT_TP</th>\n",
        "      <th>ENTITY_TP</th>\n",
        "      <th>NAME</th>\n",
        "      <th>CITY</th>\n",
        "      <th>STATE</th>\n",
        "      <th>ZIP_CODE</th>\n",
        "      <th>TRANSACTION_DT</th>\n",
        "      <th>TRANSACTION_AMT</th>\n",
        "      <th>CAND_ID</th>\n",
        "    </tr>\n",
        "  </thead>\n",
        "  <tbody>\n",
        "    <tr>\n",
        "      <th>0</th>\n",
        "      <td> C90011156</td>\n",
        "      <td> N</td>\n",
        "      <td>  YE</td>\n",
        "      <td> ORG</td>\n",
        "      <td>        KEVIN BROKT</td>\n",
        "      <td> PITTSBURGH</td>\n",
        "      <td> PA</td>\n",
        "      <td> 15222</td>\n",
        "      <td> 10282012</td>\n",
        "      <td>      6</td>\n",
        "      <td>  Obama</td>\n",
        "    </tr>\n",
        "    <tr>\n",
        "      <th>1</th>\n",
        "      <td> C90011156</td>\n",
        "      <td> N</td>\n",
        "      <td>  Q3</td>\n",
        "      <td> IND</td>\n",
        "      <td>  PERKINS, MARCUS A</td>\n",
        "      <td> CINCINNATI</td>\n",
        "      <td> OH</td>\n",
        "      <td> 45211</td>\n",
        "      <td>  9122012</td>\n",
        "      <td>     37</td>\n",
        "      <td>  Obama</td>\n",
        "    </tr>\n",
        "    <tr>\n",
        "      <th>2</th>\n",
        "      <td> C90011156</td>\n",
        "      <td> N</td>\n",
        "      <td>  YE</td>\n",
        "      <td> IND</td>\n",
        "      <td>      BOWENS, ANGEL</td>\n",
        "      <td>  CLEVELAND</td>\n",
        "      <td> OH</td>\n",
        "      <td> 44128</td>\n",
        "      <td> 10032012</td>\n",
        "      <td>     13</td>\n",
        "      <td> Romney</td>\n",
        "    </tr>\n",
        "    <tr>\n",
        "      <th>3</th>\n",
        "      <td> C00260547</td>\n",
        "      <td> A</td>\n",
        "      <td> 12G</td>\n",
        "      <td> PAC</td>\n",
        "      <td> ROMNEY VICTORY INC</td>\n",
        "      <td>     BOSTON</td>\n",
        "      <td> MA</td>\n",
        "      <td>  2109</td>\n",
        "      <td>  8172012</td>\n",
        "      <td>    375</td>\n",
        "      <td> Romney</td>\n",
        "    </tr>\n",
        "    <tr>\n",
        "      <th>4</th>\n",
        "      <td> C00010603</td>\n",
        "      <td> A</td>\n",
        "      <td> 12G</td>\n",
        "      <td> ORG</td>\n",
        "      <td> THE STRATEGY GROUP</td>\n",
        "      <td>   EVANSTON</td>\n",
        "      <td> IL</td>\n",
        "      <td> 60201</td>\n",
        "      <td> 10022012</td>\n",
        "      <td> 145882</td>\n",
        "      <td>  Obama</td>\n",
        "    </tr>\n",
        "  </tbody>\n",
        "</table>\n",
        "</div>"
       ],
       "metadata": {},
       "output_type": "pyout",
       "prompt_number": 36,
       "text": [
        "     CMTE_ID AMNDT_IND RPT_TP ENTITY_TP                NAME        CITY STATE  \\\n",
        "0  C90011156         N     YE       ORG         KEVIN BROKT  PITTSBURGH    PA   \n",
        "1  C90011156         N     Q3       IND   PERKINS, MARCUS A  CINCINNATI    OH   \n",
        "2  C90011156         N     YE       IND       BOWENS, ANGEL   CLEVELAND    OH   \n",
        "3  C00260547         A    12G       PAC  ROMNEY VICTORY INC      BOSTON    MA   \n",
        "4  C00010603         A    12G       ORG  THE STRATEGY GROUP    EVANSTON    IL   \n",
        "\n",
        "  ZIP_CODE TRANSACTION_DT  TRANSACTION_AMT CAND_ID  \n",
        "0    15222       10282012                6   Obama  \n",
        "1    45211        9122012               37   Obama  \n",
        "2    44128       10032012               13  Romney  \n",
        "3     2109        8172012              375  Romney  \n",
        "4    60201       10022012           145882   Obama  "
       ]
      }
     ],
     "prompt_number": 36
    },
    {
     "cell_type": "code",
     "collapsed": false,
     "input": [
      "test = pd.read_csv(\"lab5_test.csv\")\n",
      "test.ZIP_CODE = train.ZIP_CODE.astype(\"str\")\n",
      "test.TRANSACTION_DT = train.TRANSACTION_DT.astype(\"int\").astype(\"str\")\n",
      "test.head()"
     ],
     "language": "python",
     "metadata": {},
     "outputs": [
      {
       "html": [
        "<div style=\"max-height:1000px;max-width:1500px;overflow:auto;\">\n",
        "<table border=\"1\" class=\"dataframe\">\n",
        "  <thead>\n",
        "    <tr style=\"text-align: right;\">\n",
        "      <th></th>\n",
        "      <th>CMTE_ID</th>\n",
        "      <th>AMNDT_IND</th>\n",
        "      <th>RPT_TP</th>\n",
        "      <th>ENTITY_TP</th>\n",
        "      <th>NAME</th>\n",
        "      <th>CITY</th>\n",
        "      <th>STATE</th>\n",
        "      <th>ZIP_CODE</th>\n",
        "      <th>TRANSACTION_DT</th>\n",
        "      <th>TRANSACTION_AMT</th>\n",
        "      <th>CAND_ID</th>\n",
        "    </tr>\n",
        "  </thead>\n",
        "  <tbody>\n",
        "    <tr>\n",
        "      <th>0</th>\n",
        "      <td> C90011156</td>\n",
        "      <td> N</td>\n",
        "      <td>  YE</td>\n",
        "      <td> ORG</td>\n",
        "      <td> SCMIDT ENTERPRISES LIMITED PARTNERSHIP</td>\n",
        "      <td>   COLUMBUS</td>\n",
        "      <td> OH</td>\n",
        "      <td> 15222</td>\n",
        "      <td> 10282012</td>\n",
        "      <td>    7</td>\n",
        "      <td>  Obama</td>\n",
        "    </tr>\n",
        "    <tr>\n",
        "      <th>1</th>\n",
        "      <td> C90011156</td>\n",
        "      <td> N</td>\n",
        "      <td>  YE</td>\n",
        "      <td> IND</td>\n",
        "      <td>                            KANE, ELTON</td>\n",
        "      <td> WASHINGTON</td>\n",
        "      <td> DC</td>\n",
        "      <td> 45211</td>\n",
        "      <td>  9122012</td>\n",
        "      <td>   35</td>\n",
        "      <td>  Obama</td>\n",
        "    </tr>\n",
        "    <tr>\n",
        "      <th>2</th>\n",
        "      <td> C90012774</td>\n",
        "      <td> N</td>\n",
        "      <td>  Q1</td>\n",
        "      <td> ORG</td>\n",
        "      <td>         PRINTMEISTERS OF ORLANDO, INC.</td>\n",
        "      <td>    ORLANDO</td>\n",
        "      <td> FL</td>\n",
        "      <td> 44128</td>\n",
        "      <td> 10032012</td>\n",
        "      <td>   17</td>\n",
        "      <td> Romney</td>\n",
        "    </tr>\n",
        "    <tr>\n",
        "      <th>3</th>\n",
        "      <td> C00478149</td>\n",
        "      <td> N</td>\n",
        "      <td> M10</td>\n",
        "      <td> CCM</td>\n",
        "      <td>             ROMNEY FOR PRESIDENT, INC.</td>\n",
        "      <td>     BOSTON</td>\n",
        "      <td> MA</td>\n",
        "      <td>  2109</td>\n",
        "      <td>  8172012</td>\n",
        "      <td> 5000</td>\n",
        "      <td> Romney</td>\n",
        "    </tr>\n",
        "    <tr>\n",
        "      <th>4</th>\n",
        "      <td> C90011156</td>\n",
        "      <td> N</td>\n",
        "      <td>  YE</td>\n",
        "      <td> IND</td>\n",
        "      <td>                      HATTEN, SIR ALLYN</td>\n",
        "      <td>  CLEVELAND</td>\n",
        "      <td> OH</td>\n",
        "      <td> 60201</td>\n",
        "      <td> 10022012</td>\n",
        "      <td>   26</td>\n",
        "      <td> Romney</td>\n",
        "    </tr>\n",
        "  </tbody>\n",
        "</table>\n",
        "</div>"
       ],
       "metadata": {},
       "output_type": "pyout",
       "prompt_number": 76,
       "text": [
        "     CMTE_ID AMNDT_IND RPT_TP ENTITY_TP  \\\n",
        "0  C90011156         N     YE       ORG   \n",
        "1  C90011156         N     YE       IND   \n",
        "2  C90012774         N     Q1       ORG   \n",
        "3  C00478149         N    M10       CCM   \n",
        "4  C90011156         N     YE       IND   \n",
        "\n",
        "                                     NAME        CITY STATE ZIP_CODE  \\\n",
        "0  SCMIDT ENTERPRISES LIMITED PARTNERSHIP    COLUMBUS    OH    15222   \n",
        "1                             KANE, ELTON  WASHINGTON    DC    45211   \n",
        "2          PRINTMEISTERS OF ORLANDO, INC.     ORLANDO    FL    44128   \n",
        "3              ROMNEY FOR PRESIDENT, INC.      BOSTON    MA     2109   \n",
        "4                       HATTEN, SIR ALLYN   CLEVELAND    OH    60201   \n",
        "\n",
        "  TRANSACTION_DT  TRANSACTION_AMT CAND_ID  \n",
        "0       10282012                7   Obama  \n",
        "1        9122012               35   Obama  \n",
        "2       10032012               17  Romney  \n",
        "3        8172012             5000  Romney  \n",
        "4       10022012               26  Romney  "
       ]
      }
     ],
     "prompt_number": 76
    },
    {
     "cell_type": "markdown",
     "metadata": {},
     "source": [
      "### 1. Calculate a baseline accuracy measure using the majority class\n",
      "#### a. Find the majority class in the training set. If you always predicted this class in the training set, what would your accuracy be?"
     ]
    },
    {
     "cell_type": "code",
     "collapsed": false,
     "input": [
      "by_candidate = train.groupby(\"CAND_ID\")[\"CAND_ID\"].count()\n",
      "print by_candidate\n",
      "print \"\\n\\nObama is the majority class on the training set\""
     ],
     "language": "python",
     "metadata": {},
     "outputs": [
      {
       "output_type": "stream",
       "stream": "stdout",
       "text": [
        "CAND_ID\n",
        "Obama      4577\n",
        "Romney     3423\n",
        "Name: CAND_ID, dtype: int64\n",
        "\n",
        "\n",
        "Obama is the majority class on the training set\n"
       ]
      }
     ],
     "prompt_number": 38
    },
    {
     "cell_type": "markdown",
     "metadata": {},
     "source": [
      "#### b. If you always predicted this same class (majority from the training set) in the test set, what would your accuracy be?"
     ]
    },
    {
     "cell_type": "code",
     "collapsed": false,
     "input": [
      "test_set = test.groupby(\"CAND_ID\")[\"CAND_ID\"].count()\n",
      "\n",
      "percent_obama = test_set[0] / (test_set[0] + test_set[1])\n",
      "print percent_obama\n",
      "print \"\\n\\n If we predict Obama for every case in the test set, we would accurate only %s percent of the time\" % (percent_obama * 100)"
     ],
     "language": "python",
     "metadata": {},
     "outputs": [
      {
       "output_type": "stream",
       "stream": "stdout",
       "text": [
        "0.592\n",
        "\n",
        "\n",
        " If we predict Obama for every case in the test set, we would accurate only 59.2 percent of the time\n"
       ]
      }
     ],
     "prompt_number": 39
    },
    {
     "cell_type": "markdown",
     "metadata": {},
     "source": [
      "### 2. Get started with Neural Networks"
     ]
    },
    {
     "cell_type": "markdown",
     "metadata": {},
     "source": [
      "#### A. Choose a NN implementation and specify which you choose. Be sure the implementation allows you to modify the number of hidden layers and hidden nodes per layer. \n",
      "NOTE: When possible, specify the logsig (sigmoid) function as the transfer function for the output node and use Levenberg-Marquardt backpropagation."
     ]
    },
    {
     "cell_type": "markdown",
     "metadata": {},
     "source": [
      "We are using **Neurolab** with Python."
     ]
    },
    {
     "cell_type": "markdown",
     "metadata": {},
     "source": [
      "#### B. Train a neural network with a single 10 node hidden layer. Only use the TRANSACTION_AMT feature of the dataset to predict CAND_ID. You will have to change CAND_ID to a 0 and 1 class. After training, use your trained model to predict the class using the TRANSACTION_AMT feature from the training set. What was the accuracy of this prediction?"
     ]
    },
    {
     "cell_type": "code",
     "collapsed": false,
     "input": [
      "le = preprocessing.LabelEncoder()\n",
      "le.fit([\"Obama\", \"Romney\"])\n",
      "target = le.transform(train.CAND_ID)"
     ],
     "language": "python",
     "metadata": {},
     "outputs": [],
     "prompt_number": 85
    },
    {
     "cell_type": "code",
     "collapsed": false,
     "input": [
      "size = len(training.CAND_ID)\n",
      "# Create network with 1 hidden layer with 10 nodes\n",
      "net = nl.net.newff([[min(training.TRANSACTION_AMT), max(training.TRANSACTION_AMT)]],[10, 1])\n",
      "# Train network, not sure if we need the epochs, show, or goal...\n",
      "error = net.train(train.TRANSACTION_AMT.reshape(size,1), target.reshape(size,1), epochs=100, show=100, goal=0.02)"
     ],
     "language": "python",
     "metadata": {},
     "outputs": [],
     "prompt_number": 91
    },
    {
     "cell_type": "code",
     "collapsed": false,
     "input": [
      "# Simulate network\n",
      "train_output = net.sim(train.TRANSACTION_AMT.reshape(size,1))\n",
      "# Round to get prediction\n",
      "train_predictions = map(lambda x: int(round(x,0)), train_output)\n",
      "print \"Accuracy:\", sum(target == train_answers)/len(train_output)"
     ],
     "language": "python",
     "metadata": {},
     "outputs": [
      {
       "output_type": "stream",
       "stream": "stdout",
       "text": [
        "Accuracy: 0.6325\n"
       ]
      }
     ],
     "prompt_number": 92
    },
    {
     "cell_type": "markdown",
     "metadata": {},
     "source": [
      "#### C. Take the trained model from question 1.b and use it to predict the test set. This can be accomplished by taking the trained model and giving it the TRANSACTION_AMT feature values from the test set. What is the accuracy of this model on the test set?"
     ]
    },
    {
     "cell_type": "code",
     "collapsed": false,
     "input": [
      "# Recode the class label to 0,1 in test\n",
      "test_target = le.transform(test.CAND_ID)\n",
      "\n",
      "test_output = net.sim(test.TRANSACTION_AMT.reshape(len(test.CAND_ID),1))\n",
      "# Round to get prediction\n",
      "test_prediction = map(lambda x: int(round(x,0)), test_output)\n",
      "print \"Accuracy:\", sum(test_target == test_prediction)/len(test_target)"
     ],
     "language": "python",
     "metadata": {},
     "outputs": [
      {
       "output_type": "stream",
       "stream": "stdout",
       "text": [
        "Accuracy: 0.408\n"
       ]
      }
     ],
     "prompt_number": 93
    },
    {
     "cell_type": "markdown",
     "metadata": {},
     "source": [
      "#### D. Neural Networks tend to prefer smaller, normalized feature values. Try taking the log of the TRANSACTION_AMT feature in both training and testing sets. Repeat question 1.c with the log version of this feature"
     ]
    },
    {
     "cell_type": "code",
     "collapsed": false,
     "input": [
      "# Better to take the log of the positive value and then add a negative after the log.\n",
      "log_array = lambda x: np.log(abs(x)) * 1 if x > 0 else -1\n",
      "train_log_trans_amt = np.array(map(log_array, training.TRANSACTION_AMT))\n",
      "test_log_trans_amt = np.array(map(log_array, test.TRANSACTION_AMT))"
     ],
     "language": "python",
     "metadata": {},
     "outputs": [],
     "prompt_number": 103
    },
    {
     "cell_type": "code",
     "collapsed": false,
     "input": [
      "# Create network with 1 hidden layer with 10 nodes\n",
      "net = nl.net.newff([[min(train_log_trans_amt), max(train_log_trans_amt)]],[10, 1])\n",
      "# Train network\n",
      "error = net.train(train_log_trans_amt.reshape(size,1), target.reshape(size,1), epochs=100, show=100, goal=0.02)\n",
      "log_output = net.sim(test_log_trans_amt.reshape(len(test.CAND_ID),1))\n",
      "# Round to get prediction\n",
      "log_predictions = map(lambda x: int(round(x,0)), log_output)\n",
      "print \"Accuracy:\", sum(test_target == log_predictions)/len(test_target)"
     ],
     "language": "python",
     "metadata": {},
     "outputs": [
      {
       "output_type": "stream",
       "stream": "stdout",
       "text": [
        "Accuracy: 0.408\n"
       ]
      }
     ],
     "prompt_number": 104
    },
    {
     "cell_type": "markdown",
     "metadata": {},
     "source": [
      "### 3. Get started with Support Vector Machines"
     ]
    },
    {
     "cell_type": "markdown",
     "metadata": {},
     "source": [
      "#### a. Chosen a SVM implementation and specify which you choose. Be sure the implementation allows you to choose between linear and RBF kernels. "
     ]
    },
    {
     "cell_type": "markdown",
     "metadata": {},
     "source": [
      "We are using python/sklearn."
     ]
    },
    {
     "cell_type": "markdown",
     "metadata": {},
     "source": [
      "#### b. Use the same dataset from 1.b using the linear kernel to find training set prediction accuracy"
     ]
    },
    {
     "cell_type": "code",
     "collapsed": false,
     "input": [
      "clf = svm.LinearSVC()\n",
      "train_X = train.TRANSACTION_AMT.reshape(size,1)\n",
      "train_y = target\n",
      "clf.fit(train_X, train_y)"
     ],
     "language": "python",
     "metadata": {},
     "outputs": [
      {
       "metadata": {},
       "output_type": "pyout",
       "prompt_number": 105,
       "text": [
        "LinearSVC(C=1.0, class_weight=None, dual=True, fit_intercept=True,\n",
        "     intercept_scaling=1, loss='l2', multi_class='ovr', penalty='l2',\n",
        "     random_state=None, tol=0.0001, verbose=0)"
       ]
      }
     ],
     "prompt_number": 105
    },
    {
     "cell_type": "code",
     "collapsed": false,
     "input": [
      "train_answers = clf.predict(train_X)\n",
      "print \"Accuracy:\", sum(target == train_answers)/len(target)"
     ],
     "language": "python",
     "metadata": {},
     "outputs": [
      {
       "output_type": "stream",
       "stream": "stdout",
       "text": [
        "Accuracy: "
       ]
      },
      {
       "output_type": "stream",
       "stream": "stdout",
       "text": [
        "0.427125\n"
       ]
      }
     ],
     "prompt_number": 106
    },
    {
     "cell_type": "markdown",
     "metadata": {},
     "source": [
      "#### c. Use the same dataset from 1.b using the linear kernel to find test set prediction accuracy"
     ]
    },
    {
     "cell_type": "code",
     "collapsed": false,
     "input": [
      "test_X = test.TRANSACTION_AMT.reshape(len(test),1)\n",
      "test_answers = clf.predict(test_X)\n",
      "print \"Accuracy:\", sum(test_target == test_answers)/len(test_target)"
     ],
     "language": "python",
     "metadata": {},
     "outputs": [
      {
       "output_type": "stream",
       "stream": "stdout",
       "text": [
        "Accuracy: 0.41\n"
       ]
      }
     ],
     "prompt_number": 107
    },
    {
     "cell_type": "markdown",
     "metadata": {},
     "source": [
      "#### d. Use the same dataset from 1.b using the RBF kernel  to find training set prediction accuracy"
     ]
    },
    {
     "cell_type": "code",
     "collapsed": false,
     "input": [
      "clf = svm.SVC(kernel=\"rbf\")\n",
      "train_X = train.TRANSACTION_AMT.reshape(size,1)\n",
      "train_y = target\n",
      "clf.fit(train_X, train_y)\n",
      "train_answers = clf.predict(train_X)\n",
      "print \"Accuracy:\", sum(target == train_answers)/len(target)"
     ],
     "language": "python",
     "metadata": {},
     "outputs": [
      {
       "output_type": "stream",
       "stream": "stdout",
       "text": [
        "Accuracy: 0.6325\n"
       ]
      }
     ],
     "prompt_number": 108
    },
    {
     "cell_type": "markdown",
     "metadata": {},
     "source": [
      "#### e. Use the same dataset from 1.b using the RBF kernel  to find test set prediction accuracy"
     ]
    },
    {
     "cell_type": "code",
     "collapsed": false,
     "input": [
      "test_X = test.TRANSACTION_AMT.reshape(len(test),1)\n",
      "test_answers = clf.predict(test_X)\n",
      "print \"Accuracy:\", sum(test_target == test_answers)/len(test_target)"
     ],
     "language": "python",
     "metadata": {},
     "outputs": [
      {
       "output_type": "stream",
       "stream": "stdout",
       "text": [
        "Accuracy: 0.596\n"
       ]
      }
     ],
     "prompt_number": 59
    },
    {
     "cell_type": "markdown",
     "metadata": {},
     "source": [
      "#### f. Use the same dataset from 1.d (log) using the RBF to find test set prediction accuracy"
     ]
    },
    {
     "cell_type": "code",
     "collapsed": false,
     "input": [
      "clf = svm.SVC(kernel=\"rbf\")\n",
      "train_X = train.log_trans_amt.reshape(size,1)\n",
      "train_y = target\n",
      "clf.fit(train_X, train_y)\n",
      "\n",
      "test_answers = clf.predict(test.TRANSACTION_AMT.reshape(len(test),1))\n",
      "print \"Accuracy:\", sum(test_target == test_answers)/len(test_target)"
     ],
     "language": "python",
     "metadata": {},
     "outputs": [
      {
       "output_type": "stream",
       "stream": "stdout",
       "text": [
        "Accuracy: 0.5895\n"
       ]
      }
     ],
     "prompt_number": 60
    },
    {
     "cell_type": "markdown",
     "metadata": {},
     "source": [
      "#### g. Z-score is a normalization technique. It is the value of a feature minus the average value for that feature in the training set, divided by the standard deviation of that feature in the training set. Repeat question 2.f using Z-score.\n"
     ]
    },
    {
     "cell_type": "code",
     "collapsed": false,
     "input": [
      "mean_transaction_amount = np.mean(train.TRANSACTION_AMT)\n",
      "stdev_transaction_amount = np.std(train.TRANSACTION_AMT)\n",
      "train[\"zscore_transaction_amount\"] = map(lambda x: (x - mean_transaction_amount)/stdev_transaction_amount, train.TRANSACTION_AMT)\n",
      "# Calc Z-Score in test set using mean and stdev from trainging\n",
      "test[\"zscore_transaction_amount\"] = map(lambda x: (x - mean_transaction_amount)/stdev_transaction_amount, test.TRANSACTION_AMT)\n",
      "\n",
      "train_X = train.zscore_transaction_amount.reshape(size,1)\n",
      "clf.fit(train_X, train_y)\n",
      "\n",
      "test_answers = clf.predict(test.zscore_transaction_amount.reshape(len(test),1))\n",
      "print \"Accuracy:\", sum(test_target == test_answers)/len(test_target)"
     ],
     "language": "python",
     "metadata": {},
     "outputs": [
      {
       "output_type": "stream",
       "stream": "stdout",
       "text": [
        "Accuracy: 0.5925\n"
       ]
      }
     ],
     "prompt_number": 77
    },
    {
     "cell_type": "markdown",
     "metadata": {},
     "source": [
      "### 4. The rest of features in this dataset, except for ZIP_CODE, and TRANSACTION_DT (date/time), categorical. Neither ML method accepts categorical features, so transform each feature into a set of binary features, one feature per unique original feature value, and mark the binary feature as \u20181\u2019 if the feature value matches the original value and \u20180\u2019 otherwise. Using only these binary variable transformed features, train and predict the class of the test set."
     ]
    },
    {
     "cell_type": "markdown",
     "metadata": {},
     "source": [
      "#### a. What was your accuracy using Neural Network with a single 10 node hidden layer?"
     ]
    },
    {
     "cell_type": "markdown",
     "metadata": {},
     "source": [
      "#### b. What was your accuracy using a SVM with RBF kernel?"
     ]
    },
    {
     "cell_type": "markdown",
     "metadata": {},
     "source": [
      "### 5. Using a NN, does TRANSACTION_AMT + ZIP_CODE predict the test set class better by a) keeping the original feature values b) taking the log of the original values c) taking the Z-score of the original values or d) using a binary feature transformed set of the original values? "
     ]
    },
    {
     "cell_type": "markdown",
     "metadata": {},
     "source": [
      "#### A) Original Values"
     ]
    },
    {
     "cell_type": "code",
     "collapsed": false,
     "input": [
      "size = len(train.CAND_ID)\n",
      "\n",
      "# Create network with 1 layers\n",
      "net = nl.net.newff([[min(train.TRANSACTION_AMT), max(train.TRANSACTION_AMT)]\\\n",
      "                    ,[min(train.ZIP_CODE), max(train.ZIP_CODE)]],[10, 1])\n",
      "\n",
      "inp = train[[\"TRANSACTION_AMT\",\"ZIP_CODE\"]]\n",
      "# Train network\n",
      "error = net.train(inp, target.reshape(size,1), epochs=100, show=100, goal=0.02)"
     ],
     "language": "python",
     "metadata": {},
     "outputs": [],
     "prompt_number": 84
    },
    {
     "cell_type": "code",
     "collapsed": false,
     "input": [
      "# Simulate network\n",
      "test_output = net.sim(test[[\"TRANSACTION_AMT\",\"ZIP_CODE\"]])\n",
      "train_predictions = map(lambda x: int(round(x,0)), test_output)\n",
      "print \"Accuracy:\", sum(target == train_predictions)/len(test_output)"
     ],
     "language": "python",
     "metadata": {},
     "outputs": [
      {
       "output_type": "stream",
       "stream": "stdout",
       "text": [
        " Accuracy:"
       ]
      },
      {
       "ename": "TypeError",
       "evalue": "'bool' object is not iterable",
       "output_type": "pyerr",
       "traceback": [
        "\u001b[0;31m---------------------------------------------------------------------------\u001b[0m\n\u001b[0;31mTypeError\u001b[0m                                 Traceback (most recent call last)",
        "\u001b[0;32m<ipython-input-135-1ba49cfae434>\u001b[0m in \u001b[0;36m<module>\u001b[0;34m()\u001b[0m\n\u001b[1;32m      2\u001b[0m \u001b[0mtest_output\u001b[0m \u001b[0;34m=\u001b[0m \u001b[0mnet\u001b[0m\u001b[0;34m.\u001b[0m\u001b[0msim\u001b[0m\u001b[0;34m(\u001b[0m\u001b[0mtest\u001b[0m\u001b[0;34m[\u001b[0m\u001b[0;34m[\u001b[0m\u001b[0;34m\"TRANSACTION_AMT\"\u001b[0m\u001b[0;34m,\u001b[0m\u001b[0;34m\"ZIP_CODE\"\u001b[0m\u001b[0;34m]\u001b[0m\u001b[0;34m]\u001b[0m\u001b[0;34m)\u001b[0m\u001b[0;34m\u001b[0m\u001b[0m\n\u001b[1;32m      3\u001b[0m \u001b[0mtrain_predictions\u001b[0m \u001b[0;34m=\u001b[0m \u001b[0mmap\u001b[0m\u001b[0;34m(\u001b[0m\u001b[0;32mlambda\u001b[0m \u001b[0mx\u001b[0m\u001b[0;34m:\u001b[0m \u001b[0mint\u001b[0m\u001b[0;34m(\u001b[0m\u001b[0mround\u001b[0m\u001b[0;34m(\u001b[0m\u001b[0mx\u001b[0m\u001b[0;34m,\u001b[0m\u001b[0;36m0\u001b[0m\u001b[0;34m)\u001b[0m\u001b[0;34m)\u001b[0m\u001b[0;34m,\u001b[0m \u001b[0mtest_output\u001b[0m\u001b[0;34m)\u001b[0m\u001b[0;34m\u001b[0m\u001b[0m\n\u001b[0;32m----> 4\u001b[0;31m \u001b[0;32mprint\u001b[0m \u001b[0;34m\"Accuracy:\"\u001b[0m\u001b[0;34m,\u001b[0m \u001b[0msum\u001b[0m\u001b[0;34m(\u001b[0m\u001b[0mtarget\u001b[0m \u001b[0;34m==\u001b[0m \u001b[0mtrain_predictions\u001b[0m\u001b[0;34m)\u001b[0m\u001b[0;34m/\u001b[0m\u001b[0mlen\u001b[0m\u001b[0;34m(\u001b[0m\u001b[0mtest_output\u001b[0m\u001b[0;34m)\u001b[0m\u001b[0;34m\u001b[0m\u001b[0m\n\u001b[0m",
        "\u001b[0;31mTypeError\u001b[0m: 'bool' object is not iterable"
       ]
      }
     ],
     "prompt_number": 135
    },
    {
     "cell_type": "markdown",
     "metadata": {},
     "source": [
      "#### B) Log of Original Values"
     ]
    },
    {
     "cell_type": "code",
     "collapsed": false,
     "input": [
      "size = len(train.CAND_ID)\n",
      "\n",
      "train_log_trans_amt = map(log_array, train.TRANSACTION_AMT)\n",
      "test_log_trans_amt = map(log_array, test.TRANSACTION_AMT)\n",
      "\n",
      "train.ZIP_CODE = map(int, train.ZIP_CODE)\n",
      "test.ZIP_CODE = map(int, test.ZIP_CODE)\n",
      "\n",
      "train_log_zip_code = map(log_array, train.ZIP_CODE)\n",
      "test_log_zip_code = map(log_array, test.ZIP_CODE)"
     ],
     "language": "python",
     "metadata": {},
     "outputs": [],
     "prompt_number": 121
    },
    {
     "cell_type": "code",
     "collapsed": false,
     "input": [
      "# Create network with 1 layers\n",
      "net = nl.net.newff([[min(train_log_trans_amt), max(train_log_trans_amt)]\\\n",
      "                    ,[min(train_log_zip_code), max(train_log_zip_code)]],[10, 1])\n",
      "\n",
      "inp = np.array(zip(train_log_trans_amt,train_log_zip_code))\n",
      "\n",
      "# Train network\n",
      "error = net.train(inp, target.reshape(size,1), epochs=100, show=100, goal=0.02)"
     ],
     "language": "python",
     "metadata": {},
     "outputs": [],
     "prompt_number": 123
    },
    {
     "cell_type": "code",
     "collapsed": false,
     "input": [
      "# Simulate network\n",
      "train_output = net.sim(train.TRANSACTION_AMT.reshape(size,1))\n",
      "train_predictions = map(lambda x: int(round(x,0)), train_output)\n",
      "print \"Accuracy:\", sum(target == train_answers)/len(train_output)"
     ],
     "language": "python",
     "metadata": {},
     "outputs": [
      {
       "ename": "AssertionError",
       "evalue": "",
       "output_type": "pyerr",
       "traceback": [
        "\u001b[0;31m---------------------------------------------------------------------------\u001b[0m\n\u001b[0;31mAssertionError\u001b[0m                            Traceback (most recent call last)",
        "\u001b[0;32m<ipython-input-124-c4390f8543f4>\u001b[0m in \u001b[0;36m<module>\u001b[0;34m()\u001b[0m\n\u001b[1;32m      1\u001b[0m \u001b[0;31m# Simulate network\u001b[0m\u001b[0;34m\u001b[0m\u001b[0;34m\u001b[0m\u001b[0m\n\u001b[0;32m----> 2\u001b[0;31m \u001b[0mtrain_output\u001b[0m \u001b[0;34m=\u001b[0m \u001b[0mnet\u001b[0m\u001b[0;34m.\u001b[0m\u001b[0msim\u001b[0m\u001b[0;34m(\u001b[0m\u001b[0mtrain\u001b[0m\u001b[0;34m.\u001b[0m\u001b[0mTRANSACTION_AMT\u001b[0m\u001b[0;34m.\u001b[0m\u001b[0mreshape\u001b[0m\u001b[0;34m(\u001b[0m\u001b[0msize\u001b[0m\u001b[0;34m,\u001b[0m\u001b[0;36m1\u001b[0m\u001b[0;34m)\u001b[0m\u001b[0;34m)\u001b[0m\u001b[0;34m\u001b[0m\u001b[0m\n\u001b[0m\u001b[1;32m      3\u001b[0m \u001b[0mtrain_predictions\u001b[0m \u001b[0;34m=\u001b[0m \u001b[0mmap\u001b[0m\u001b[0;34m(\u001b[0m\u001b[0;32mlambda\u001b[0m \u001b[0mx\u001b[0m\u001b[0;34m:\u001b[0m \u001b[0mint\u001b[0m\u001b[0;34m(\u001b[0m\u001b[0mround\u001b[0m\u001b[0;34m(\u001b[0m\u001b[0mx\u001b[0m\u001b[0;34m,\u001b[0m\u001b[0;36m0\u001b[0m\u001b[0;34m)\u001b[0m\u001b[0;34m)\u001b[0m\u001b[0;34m,\u001b[0m \u001b[0mtrain_output\u001b[0m\u001b[0;34m)\u001b[0m\u001b[0;34m\u001b[0m\u001b[0m\n\u001b[1;32m      4\u001b[0m \u001b[0;32mprint\u001b[0m \u001b[0;34m\"Accuracy:\"\u001b[0m\u001b[0;34m,\u001b[0m \u001b[0msum\u001b[0m\u001b[0;34m(\u001b[0m\u001b[0mtarget\u001b[0m \u001b[0;34m==\u001b[0m \u001b[0mtrain_answers\u001b[0m\u001b[0;34m)\u001b[0m\u001b[0;34m/\u001b[0m\u001b[0mlen\u001b[0m\u001b[0;34m(\u001b[0m\u001b[0mtrain_output\u001b[0m\u001b[0;34m)\u001b[0m\u001b[0;34m\u001b[0m\u001b[0m\n",
        "\u001b[0;32m/Users/acchi369/anaconda/lib/python2.7/site-packages/neurolab/core.pyc\u001b[0m in \u001b[0;36msim\u001b[0;34m(self, input)\u001b[0m\n\u001b[1;32m    140\u001b[0m         \u001b[0minput\u001b[0m \u001b[0;34m=\u001b[0m \u001b[0mnp\u001b[0m\u001b[0;34m.\u001b[0m\u001b[0masfarray\u001b[0m\u001b[0;34m(\u001b[0m\u001b[0minput\u001b[0m\u001b[0;34m)\u001b[0m\u001b[0;34m\u001b[0m\u001b[0m\n\u001b[1;32m    141\u001b[0m         \u001b[0;32massert\u001b[0m \u001b[0minput\u001b[0m\u001b[0;34m.\u001b[0m\u001b[0mndim\u001b[0m \u001b[0;34m==\u001b[0m \u001b[0;36m2\u001b[0m\u001b[0;34m\u001b[0m\u001b[0m\n\u001b[0;32m--> 142\u001b[0;31m         \u001b[0;32massert\u001b[0m \u001b[0minput\u001b[0m\u001b[0;34m.\u001b[0m\u001b[0mshape\u001b[0m\u001b[0;34m[\u001b[0m\u001b[0;36m1\u001b[0m\u001b[0;34m]\u001b[0m \u001b[0;34m==\u001b[0m \u001b[0mself\u001b[0m\u001b[0;34m.\u001b[0m\u001b[0mci\u001b[0m\u001b[0;34m\u001b[0m\u001b[0m\n\u001b[0m\u001b[1;32m    143\u001b[0m \u001b[0;34m\u001b[0m\u001b[0m\n\u001b[1;32m    144\u001b[0m         \u001b[0moutput\u001b[0m \u001b[0;34m=\u001b[0m \u001b[0mnp\u001b[0m\u001b[0;34m.\u001b[0m\u001b[0mzeros\u001b[0m\u001b[0;34m(\u001b[0m\u001b[0;34m[\u001b[0m\u001b[0mlen\u001b[0m\u001b[0;34m(\u001b[0m\u001b[0minput\u001b[0m\u001b[0;34m)\u001b[0m\u001b[0;34m,\u001b[0m \u001b[0mself\u001b[0m\u001b[0;34m.\u001b[0m\u001b[0mco\u001b[0m\u001b[0;34m]\u001b[0m\u001b[0;34m)\u001b[0m\u001b[0;34m\u001b[0m\u001b[0m\n",
        "\u001b[0;31mAssertionError\u001b[0m: "
       ]
      }
     ],
     "prompt_number": 124
    },
    {
     "cell_type": "markdown",
     "metadata": {},
     "source": [
      "#### C) Z-Score of the Original Values"
     ]
    },
    {
     "cell_type": "code",
     "collapsed": false,
     "input": [],
     "language": "python",
     "metadata": {},
     "outputs": []
    },
    {
     "cell_type": "markdown",
     "metadata": {},
     "source": [
      "#### D) Binary of the Original Values"
     ]
    },
    {
     "cell_type": "markdown",
     "metadata": {},
     "source": [
      "### 6. Repeat question 5 for TRANSACTION_DT"
     ]
    },
    {
     "cell_type": "markdown",
     "metadata": {},
     "source": [
      "### 7. Use all features of the dataset, using the versions of the features that you found to perform the best."
     ]
    },
    {
     "cell_type": "markdown",
     "metadata": {},
     "source": [
      "#### a) What was the NN accuracy on the test set using the single 10 node hidden layer?"
     ]
    },
    {
     "cell_type": "markdown",
     "metadata": {},
     "source": [
      "#### b) What was the SVM accuracy on the test set the RBF kernel? "
     ]
    },
    {
     "cell_type": "markdown",
     "metadata": {},
     "source": [
      "### 8. Can you improve your test set prediction accuracy by 10% or more? See how close to that milestone of improvement you can get by modifying the tuning parameters of Neural Networks (the number of hidden layers, number of hidden nodes in each layer, the learning rate aka mu) and/or with SVM (choosing kernel, C, and mu). A great guide to tuning parameters is explained in this guide: http://www.csie.ntu.edu.tw/~cjlin/papers/guide/guide.pdf. While the guide is specific to SVM and in particular the C and gamma parameters of the RBF kernel, the method applies to generally to any ML technique with tuning parameters. \n"
     ]
    },
    {
     "cell_type": "markdown",
     "metadata": {},
     "source": [
      "#### a) What was the maximum accuracy you were able to achieve?"
     ]
    },
    {
     "cell_type": "markdown",
     "metadata": {},
     "source": [
      "#### b) Did SVM or NN achieve your maximum accuracy?"
     ]
    },
    {
     "cell_type": "markdown",
     "metadata": {},
     "source": [
      "#### c) Briefly describe the parameter values used for your best score"
     ]
    },
    {
     "cell_type": "markdown",
     "metadata": {},
     "source": [
      "#### Please write up how you went about trying to achieve your accuracy improvement. How many tuning parameter combinations do you use, did you methodologically sweep a range of parameters with some increment? Which changes had the most impact on accuracy improvement?"
     ]
    },
    {
     "cell_type": "markdown",
     "metadata": {},
     "source": [
      "###     9. (BONUS question + 10% of total possible points): The ZIP_CODE feature is numeric and ordinal but is a single dimension representing a 2 dimensional space. Does ZIP_CODE predict the test set better when mapped to a 2-D feature? Create a LONGITUDE and LATITUDE feature in the training set and test set. Use an external data source to map zip code to these values. Train and tune a NN or SVM to predict the test set using only TRANSACTION_AMT + LONGITUDE and LATITUDE. Try taking the log, and Z-score of the feature. How does your best prediction using TRANSACTION_AMT + LON/LAT features compare to the best prediction using TRANSACTION_AMT + ZIP_CODE? Be sure to repeat the same tuning procedure when finding the best ZIP_CODE accuracy as you did for the LON/LAT accuracy."
     ]
    }
   ],
   "metadata": {}
  }
 ]
}