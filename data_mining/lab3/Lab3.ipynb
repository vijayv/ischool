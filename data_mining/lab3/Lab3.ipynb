{
 "metadata": {
  "name": "",
  "signature": "sha256:7be8889c3ee7cf1c5a6f04583692981b7071cbbfc34e854b8583818ae1bc415c"
 },
 "nbformat": 3,
 "nbformat_minor": 0,
 "worksheets": [
  {
   "cells": [
    {
     "cell_type": "code",
     "collapsed": false,
     "input": [
      "import numpy as np\n",
      "import pandas as pd\n",
      "import sklearn\n",
      "from sklearn.cluster import KMeans\n",
      "from sklearn import metrics\n",
      "import matplotlib.pyplot as plt\n",
      "from matplotlib import colors\n",
      "%matplotlib inline\n",
      "from itertools import product"
     ],
     "language": "python",
     "metadata": {},
     "outputs": [],
     "prompt_number": 2
    },
    {
     "cell_type": "code",
     "collapsed": false,
     "input": [
      "df = pd.read_csv(\"yelp_reviewers.txt\", delimiter=\"|\")\n",
      "print df.head()"
     ],
     "language": "python",
     "metadata": {},
     "outputs": [
      {
       "output_type": "stream",
       "stream": "stdout",
       "text": [
        "                  user_id   q3   q4   q5   q6        q7        q8        q9  \\\n",
        "0  --5hzxWLz5ozIg6OMo6tpQ    1    0    0    0  0.000000       NaN       NaN   \n",
        "1  --65q1FpAL_UQtVZ2PTGew  112  275  193  382  4.718499  5.616771  5.262690   \n",
        "2  --AqBuo717RyacADExYbSA    1    0    0    0  0.000000       NaN       NaN   \n",
        "3  --LzFD0UDbYE-Oho3AhsOg    2    0    0    2  0.693147       NaN       NaN   \n",
        "4  --M-cIkGnH1KhnLaCOmoPQ    1    2    2    2  0.000000  0.693147  0.693147   \n",
        "\n",
        "        q10        q11    ...      q18_group14  q18_group15  q18_group16_a  \\\n",
        "0       NaN        NaN    ...               36     0.000000            NaN   \n",
        "1  5.945421  32.352941    ...               87     0.383929           -100   \n",
        "2       NaN        NaN    ...               23     0.000000            NaN   \n",
        "3  0.693147   0.000000    ...               50     0.000000           -100   \n",
        "4  0.693147  33.333333    ...               50     1.000000            NaN   \n",
        "\n",
        "   q18_group16_b  q18_group16_c  q18_group16_d  q18_group16_e  q18_group16_f  \\\n",
        "0            NaN    -100.000000            inf            NaN            NaN   \n",
        "1     -75.000000     -68.800000    1440.000000            inf            NaN   \n",
        "2    -100.000000            inf            NaN            NaN            NaN   \n",
        "3            inf            NaN            NaN            NaN            NaN   \n",
        "4            NaN            NaN            NaN    -100.000000            inf   \n",
        "\n",
        "   q18_group16_g  q18_group16_h  \n",
        "0            NaN            NaN  \n",
        "1            NaN            NaN  \n",
        "2            NaN            NaN  \n",
        "3            NaN            NaN  \n",
        "4            NaN            NaN  \n",
        "\n",
        "[5 rows x 41 columns]\n"
       ]
      }
     ],
     "prompt_number": 3
    },
    {
     "cell_type": "code",
     "collapsed": false,
     "input": [
      "def fit_k_means(k_values, X, calc_ss):\n",
      "    models = {}\n",
      "    for k in k_values:\n",
      "        k_means = sklearn.cluster.KMeans(n_clusters=k)\n",
      "        k_means.fit(X)\n",
      "        models[k] = k_means\n",
      "        if calc_ss:\n",
      "            print \"K: %s -> SS: %s\" % (k, calc_silhouette_score(X, k_means.labels_, 1000))\n",
      "    return models\n",
      "    \n",
      "def calc_silhouette_score(X, labels, sample_size):\n",
      "    # only use 10k points for score due to resource constraints\n",
      "    return sklearn.metrics.silhouette_score(X\n",
      "                                            , labels\n",
      "                                            , metric='euclidean'\n",
      "                                            , sample_size=sample_size)"
     ],
     "language": "python",
     "metadata": {},
     "outputs": [],
     "prompt_number": 4
    },
    {
     "cell_type": "markdown",
     "metadata": {},
     "source": [
      "### Q2"
     ]
    },
    {
     "cell_type": "code",
     "collapsed": false,
     "input": [
      "k_values = range(2,9)\n",
      "# print df[[\"q4\", \"q5\", \"q6\"]].head()\n",
      "q2_features = df[[2,3,4]].values\n",
      "# print q2_features.shape, type(q2_features)\n",
      "\n",
      "fit_k_means(k_values, q2_features, 1)"
     ],
     "language": "python",
     "metadata": {},
     "outputs": [
      {
       "output_type": "stream",
       "stream": "stdout",
       "text": [
        "K: 2 -> SS: 0.986392743365\n",
        "K: 3 -> SS: 0.985800928842"
       ]
      },
      {
       "output_type": "stream",
       "stream": "stdout",
       "text": [
        "\n",
        "K: 4 -> SS: 0.970872788009"
       ]
      },
      {
       "output_type": "stream",
       "stream": "stdout",
       "text": [
        "\n",
        "K: 5 -> SS: 0.968646532565"
       ]
      },
      {
       "output_type": "stream",
       "stream": "stdout",
       "text": [
        "\n",
        "K: 6 -> SS: 0.965058565374"
       ]
      },
      {
       "output_type": "stream",
       "stream": "stdout",
       "text": [
        "\n",
        "K: 7 -> SS: 0.937857097994"
       ]
      },
      {
       "output_type": "stream",
       "stream": "stdout",
       "text": [
        "\n",
        "K: 8 -> SS: 0.933353566089"
       ]
      },
      {
       "output_type": "stream",
       "stream": "stdout",
       "text": [
        "\n"
       ]
      },
      {
       "output_type": "stream",
       "stream": "stderr",
       "text": [
        "/Users/acchi369/anaconda/lib/python2.7/site-packages/numpy/core/_methods.py:59: RuntimeWarning: Mean of empty slice.\n",
        "  warnings.warn(\"Mean of empty slice.\", RuntimeWarning)\n"
       ]
      },
      {
       "metadata": {},
       "output_type": "pyout",
       "prompt_number": 4,
       "text": [
        "{2: KMeans(copy_x=True, init='k-means++', max_iter=300, n_clusters=2, n_init=10,\n",
        "     n_jobs=1, precompute_distances=True, random_state=None, tol=0.0001,\n",
        "     verbose=0),\n",
        " 3: KMeans(copy_x=True, init='k-means++', max_iter=300, n_clusters=3, n_init=10,\n",
        "     n_jobs=1, precompute_distances=True, random_state=None, tol=0.0001,\n",
        "     verbose=0),\n",
        " 4: KMeans(copy_x=True, init='k-means++', max_iter=300, n_clusters=4, n_init=10,\n",
        "     n_jobs=1, precompute_distances=True, random_state=None, tol=0.0001,\n",
        "     verbose=0),\n",
        " 5: KMeans(copy_x=True, init='k-means++', max_iter=300, n_clusters=5, n_init=10,\n",
        "     n_jobs=1, precompute_distances=True, random_state=None, tol=0.0001,\n",
        "     verbose=0),\n",
        " 6: KMeans(copy_x=True, init='k-means++', max_iter=300, n_clusters=6, n_init=10,\n",
        "     n_jobs=1, precompute_distances=True, random_state=None, tol=0.0001,\n",
        "     verbose=0),\n",
        " 7: KMeans(copy_x=True, init='k-means++', max_iter=300, n_clusters=7, n_init=10,\n",
        "     n_jobs=1, precompute_distances=True, random_state=None, tol=0.0001,\n",
        "     verbose=0),\n",
        " 8: KMeans(copy_x=True, init='k-means++', max_iter=300, n_clusters=8, n_init=10,\n",
        "     n_jobs=1, precompute_distances=True, random_state=None, tol=0.0001,\n",
        "     verbose=0)}"
       ]
      }
     ],
     "prompt_number": 4
    },
    {
     "cell_type": "markdown",
     "metadata": {},
     "source": [
      "## Q3"
     ]
    },
    {
     "cell_type": "code",
     "collapsed": false,
     "input": [
      "q3_features = df[[\"q8\", \"q9\", \"q10\"]].dropna().values\n",
      "fit_k_means(k_values, q3_features, 1)"
     ],
     "language": "python",
     "metadata": {},
     "outputs": [
      {
       "output_type": "stream",
       "stream": "stdout",
       "text": [
        "K: 2 -> SS: 0.525489860693\n",
        "K: 3 -> SS: 0.461825906649"
       ]
      },
      {
       "output_type": "stream",
       "stream": "stdout",
       "text": [
        "\n",
        "K: 4 -> SS: 0.411682908762"
       ]
      },
      {
       "output_type": "stream",
       "stream": "stdout",
       "text": [
        "\n",
        "K: 5 -> SS: 0.361590101778"
       ]
      },
      {
       "output_type": "stream",
       "stream": "stdout",
       "text": [
        "\n",
        "K: 6 -> SS: 0.347959211936"
       ]
      },
      {
       "output_type": "stream",
       "stream": "stdout",
       "text": [
        "\n",
        "K: 7 -> SS: 0.335078681111"
       ]
      },
      {
       "output_type": "stream",
       "stream": "stdout",
       "text": [
        "\n",
        "K: 8 -> SS: 0.333715813046"
       ]
      },
      {
       "output_type": "stream",
       "stream": "stdout",
       "text": [
        "\n"
       ]
      },
      {
       "metadata": {},
       "output_type": "pyout",
       "prompt_number": 5,
       "text": [
        "{2: KMeans(copy_x=True, init='k-means++', max_iter=300, n_clusters=2, n_init=10,\n",
        "     n_jobs=1, precompute_distances=True, random_state=None, tol=0.0001,\n",
        "     verbose=0),\n",
        " 3: KMeans(copy_x=True, init='k-means++', max_iter=300, n_clusters=3, n_init=10,\n",
        "     n_jobs=1, precompute_distances=True, random_state=None, tol=0.0001,\n",
        "     verbose=0),\n",
        " 4: KMeans(copy_x=True, init='k-means++', max_iter=300, n_clusters=4, n_init=10,\n",
        "     n_jobs=1, precompute_distances=True, random_state=None, tol=0.0001,\n",
        "     verbose=0),\n",
        " 5: KMeans(copy_x=True, init='k-means++', max_iter=300, n_clusters=5, n_init=10,\n",
        "     n_jobs=1, precompute_distances=True, random_state=None, tol=0.0001,\n",
        "     verbose=0),\n",
        " 6: KMeans(copy_x=True, init='k-means++', max_iter=300, n_clusters=6, n_init=10,\n",
        "     n_jobs=1, precompute_distances=True, random_state=None, tol=0.0001,\n",
        "     verbose=0),\n",
        " 7: KMeans(copy_x=True, init='k-means++', max_iter=300, n_clusters=7, n_init=10,\n",
        "     n_jobs=1, precompute_distances=True, random_state=None, tol=0.0001,\n",
        "     verbose=0),\n",
        " 8: KMeans(copy_x=True, init='k-means++', max_iter=300, n_clusters=8, n_init=10,\n",
        "     n_jobs=1, precompute_distances=True, random_state=None, tol=0.0001,\n",
        "     verbose=0)}"
       ]
      }
     ],
     "prompt_number": 5
    },
    {
     "cell_type": "markdown",
     "metadata": {},
     "source": [
      "## Q4"
     ]
    },
    {
     "cell_type": "code",
     "collapsed": false,
     "input": [
      "q4_features = df[[\"q11\", \"q12\", \"q13\"]].dropna().values\n",
      "fit_k_means(k_values, q4_features, 1)"
     ],
     "language": "python",
     "metadata": {},
     "outputs": [
      {
       "output_type": "stream",
       "stream": "stdout",
       "text": [
        "K: 2 -> SS: 0.562609544378\n",
        "K: 3 -> SS: 0.58474677186"
       ]
      },
      {
       "output_type": "stream",
       "stream": "stdout",
       "text": [
        "\n",
        "K: 4 -> SS: 0.629378973197"
       ]
      },
      {
       "output_type": "stream",
       "stream": "stdout",
       "text": [
        "\n",
        "K: 5 -> SS: 0.5865001965"
       ]
      },
      {
       "output_type": "stream",
       "stream": "stdout",
       "text": [
        "\n",
        "K: 6 -> SS: 0.619885975743"
       ]
      },
      {
       "output_type": "stream",
       "stream": "stdout",
       "text": [
        "\n",
        "K: 7 -> SS: 0.655329365101"
       ]
      },
      {
       "output_type": "stream",
       "stream": "stdout",
       "text": [
        "\n",
        "K: 8 -> SS: 0.664587243221"
       ]
      },
      {
       "output_type": "stream",
       "stream": "stdout",
       "text": [
        "\n"
       ]
      },
      {
       "metadata": {},
       "output_type": "pyout",
       "prompt_number": 6,
       "text": [
        "{2: KMeans(copy_x=True, init='k-means++', max_iter=300, n_clusters=2, n_init=10,\n",
        "     n_jobs=1, precompute_distances=True, random_state=None, tol=0.0001,\n",
        "     verbose=0),\n",
        " 3: KMeans(copy_x=True, init='k-means++', max_iter=300, n_clusters=3, n_init=10,\n",
        "     n_jobs=1, precompute_distances=True, random_state=None, tol=0.0001,\n",
        "     verbose=0),\n",
        " 4: KMeans(copy_x=True, init='k-means++', max_iter=300, n_clusters=4, n_init=10,\n",
        "     n_jobs=1, precompute_distances=True, random_state=None, tol=0.0001,\n",
        "     verbose=0),\n",
        " 5: KMeans(copy_x=True, init='k-means++', max_iter=300, n_clusters=5, n_init=10,\n",
        "     n_jobs=1, precompute_distances=True, random_state=None, tol=0.0001,\n",
        "     verbose=0),\n",
        " 6: KMeans(copy_x=True, init='k-means++', max_iter=300, n_clusters=6, n_init=10,\n",
        "     n_jobs=1, precompute_distances=True, random_state=None, tol=0.0001,\n",
        "     verbose=0),\n",
        " 7: KMeans(copy_x=True, init='k-means++', max_iter=300, n_clusters=7, n_init=10,\n",
        "     n_jobs=1, precompute_distances=True, random_state=None, tol=0.0001,\n",
        "     verbose=0),\n",
        " 8: KMeans(copy_x=True, init='k-means++', max_iter=300, n_clusters=8, n_init=10,\n",
        "     n_jobs=1, precompute_distances=True, random_state=None, tol=0.0001,\n",
        "     verbose=0)}"
       ]
      }
     ],
     "prompt_number": 6
    },
    {
     "cell_type": "markdown",
     "metadata": {},
     "source": [
      "## Q5"
     ]
    },
    {
     "cell_type": "code",
     "collapsed": false,
     "input": [
      "# List the number of data points in each cluster\n",
      "q4_features = df[[\"q11\", \"q12\", \"q13\"]].dropna().values\n",
      "q4_model = fit_k_means([8], q4_features, 1)"
     ],
     "language": "python",
     "metadata": {},
     "outputs": [
      {
       "output_type": "stream",
       "stream": "stdout",
       "text": [
        "K: 8 -> SS: 0.673558814017\n"
       ]
      }
     ],
     "prompt_number": 7
    },
    {
     "cell_type": "code",
     "collapsed": false,
     "input": [
      "k_8_modelq4 = q4_model.get(8)\n",
      "labels = k_8_modelq4.labels_\n",
      "\n",
      "count_by_centroid = dict()\n",
      "for label in labels:\n",
      "    count_by_centroid[label] = count_by_centroid.get(label, 0) + 1\n",
      "for keys in count_by_centroid.keys():\n",
      "    print \"C%s: %s\" % (keys+1,count_by_centroid[keys])"
     ],
     "language": "python",
     "metadata": {},
     "outputs": [
      {
       "output_type": "stream",
       "stream": "stdout",
       "text": [
        "C1: 10732\n",
        "C2: 6330\n",
        "C3: 3002\n",
        "C4: 1163\n",
        "C5: 5134\n",
        "C6: 785\n",
        "C7: 1574\n",
        "C8: 1840\n"
       ]
      }
     ],
     "prompt_number": 8
    },
    {
     "cell_type": "markdown",
     "metadata": {},
     "source": [
      "## Q5b"
     ]
    },
    {
     "cell_type": "code",
     "collapsed": false,
     "input": [
      "newdf = df[[\"q4\", \"q5\", \"q6\", \"q11\", \"q12\", \"q13\"]].dropna()\n",
      "q5_features = newdf[[\"q11\", \"q12\", \"q13\"]].values\n",
      "\n",
      "df1 = pd.DataFrame()\n",
      "df1['funny']=newdf[\"q5\"]\n",
      "df1['useful']=newdf[\"q6\"]\n",
      "df1['cool']=newdf[\"q4\"]\n",
      "df1['labels']=labels\n",
      "# print df1\n",
      "\n",
      "y = df1.groupby('labels').sum()\n",
      "y[\"usebyfunny\"] = y[\"useful\"]/y[\"funny\"]\n",
      "print y"
     ],
     "language": "python",
     "metadata": {},
     "outputs": [
      {
       "output_type": "stream",
       "stream": "stdout",
       "text": [
        "         funny  useful    cool  usebyfunny\n",
        "labels                                    \n",
        "0          159   20798     288  130.805031\n",
        "1       130022  200852  154508    1.544754\n",
        "2         2084   14547   12760    6.980326\n",
        "3         1652      37      59    0.022397\n",
        "4         9290   51394   19521    5.532185\n",
        "5           14      19     913    1.357143\n",
        "6         5496    4267    1117    0.776383\n",
        "7         5075   13284    1915    2.617537\n"
       ]
      }
     ],
     "prompt_number": 9
    },
    {
     "cell_type": "markdown",
     "metadata": {},
     "source": [
      "## Q5c"
     ]
    },
    {
     "cell_type": "code",
     "collapsed": false,
     "input": [
      "print y\n",
      "y[\"usebycool\"] = y[\"useful\"]/y[\"cool\"]\n",
      "y[\"coolbyfunny\"] = y[\"cool\"]/y[\"funny\"]\n",
      "print df1[df1['labels'] == 2].count()"
     ],
     "language": "python",
     "metadata": {},
     "outputs": [
      {
       "output_type": "stream",
       "stream": "stdout",
       "text": [
        "         funny  useful    cool  usebyfunny\n",
        "labels                                    \n",
        "0          159   20798     288  130.805031\n",
        "1       130022  200852  154508    1.544754\n",
        "2         2084   14547   12760    6.980326\n",
        "3         1652      37      59    0.022397\n",
        "4         9290   51394   19521    5.532185\n",
        "5           14      19     913    1.357143\n",
        "6         5496    4267    1117    0.776383\n",
        "7         5075   13284    1915    2.617537\n",
        "funny     3002\n",
        "useful    3002\n",
        "cool      3002\n",
        "labels    3002\n",
        "dtype: int64\n"
       ]
      }
     ],
     "prompt_number": 10
    },
    {
     "cell_type": "markdown",
     "metadata": {},
     "source": [
      "##6A"
     ]
    },
    {
     "cell_type": "code",
     "collapsed": false,
     "input": [
      "k_values = [5]\n",
      "q6_feature_list = [\"q8\", \"q9\", \"q10\", \"q11\", \"q12\", \"q13\", \"q16a\", \"q16b\", \"q16c\", \"q16d\", \"q16e\", \"q16f\", \"q16g\", \"q16h\", \"q16i\", \"q17\"]\n",
      "\n",
      "df[\"q17\"] = df.q17.astype(float)\n",
      "df[df[\"q17\"] == 0.0] = np.nan\n",
      "subdf = df[q6_feature_list]\n",
      "subdf = subdf.dropna()\n",
      "subdf.q17 = np.log(subdf[\"q17\"])\n",
      "q6_features = subdf.values\n",
      "fit_k_means(k_values, q6_features,1)"
     ],
     "language": "python",
     "metadata": {},
     "outputs": [
      {
       "output_type": "stream",
       "stream": "stdout",
       "text": [
        "K: 5 -> SS: 0.376929080798\n"
       ]
      },
      {
       "metadata": {},
       "output_type": "pyout",
       "prompt_number": 11,
       "text": [
        "{5: KMeans(copy_x=True, init='k-means++', max_iter=300, n_clusters=5, n_init=10,\n",
        "     n_jobs=1, precompute_distances=True, random_state=None, tol=0.0001,\n",
        "     verbose=0)}"
       ]
      }
     ],
     "prompt_number": 11
    },
    {
     "cell_type": "markdown",
     "metadata": {},
     "source": [
      "## 6B"
     ]
    },
    {
     "cell_type": "code",
     "collapsed": false,
     "input": [
      "k_values = [5]\n",
      "df[\"q17\"] = df.q17.astype(float)\n",
      "df[df[\"q17\"] == 0.0] = np.nan\n",
      "subdf = df[[\"q8\", \"q9\", \"q10\", \"q11\", \"q12\", \"q13\", \"q14\", \"q16a\", \"q16b\", \"q16c\", \"q16d\", \"q16e\", \"q16f\", \"q16g\", \"q16h\", \"q16i\", \"q17\"]]\n",
      "subdf = subdf.dropna()\n",
      "subdf.q17 = np.log(subdf[\"q17\"])\n",
      "q6_features = subdf[[\"q8\", \"q9\", \"q10\", \"q11\", \"q12\", \"q13\", \"q16a\", \"q16b\", \"q16c\", \"q16d\", \"q16e\", \"q16f\", \"q16g\", \"q16h\", \"q16i\", \"q17\"]].values\n",
      "k_5_means = fit_k_means(k_values, q6_features,0)\n",
      "subdf[\"labels\"] = k_5_means.get(5).labels_\n",
      "subdf[\"count\"] = 1\n",
      "y = subdf.groupby('labels').sum()\n",
      "y[\"av_star\"] = y[\"q14\"]/y[\"count\"]\n",
      "print y[\"av_star\"]"
     ],
     "language": "python",
     "metadata": {},
     "outputs": [
      {
       "output_type": "stream",
       "stream": "stdout",
       "text": [
        "labels\n",
        "0         3.675909\n",
        "1         3.936819\n",
        "2         3.936297\n",
        "3         3.611192\n",
        "4         3.406392\n",
        "Name: av_star, dtype: float64\n"
       ]
      }
     ],
     "prompt_number": 12
    },
    {
     "cell_type": "markdown",
     "metadata": {},
     "source": [
      "## 7a"
     ]
    },
    {
     "cell_type": "code",
     "collapsed": false,
     "input": [
      "# dropped: \"q18_group16_e\", \"q18_group16_f\", \"q18_group16_g\", \"q18_group16_h\n",
      "q7_feature_list = [\"q8\", \"q9\", \"q10\", \"q11\", \"q12\", \"q13\", \"q16a\", \"q16b\", \"q16c\", \"q16d\", \"q16e\", \"q16f\", \"q16g\", \"q16h\", \"q16i\", \"q17\", \\\n",
      "\"q18_group2\", \"q18_group3\", \"q18_group5\", \"q18_group6\", \"q18_group7\", \"q18_group11\", \"q18_group13\", \"q18_group14\", \"q18_group15\", \\\n",
      "\"q18_group16_a\", \"q18_group16_b\", \"q18_group16_c\", \"q18_group16_d\"]\n",
      "\n",
      "# Clean up the data\n",
      "k_values = range(2,9)\n",
      "df[\"q17\"] = df.q17.astype(float)\n",
      "df[df[\"q17\"] == 0.0] = np.NaN\n",
      "subdf = df[q7_feature_list]\n",
      "\n",
      "# Fix inf values\n",
      "for letter in [\"a\",\"b\",\"c\",\"d\"]:\n",
      "    column = \"q18_group16_\" + letter\n",
      "    subdf[column][np.isinf(subdf[column])] = np.nan\n",
      "    \n",
      "subdf = subdf.dropna()\n",
      "subdf.q17 = np.log(subdf[\"q17\"])\n",
      "q7_features = subdf[q7_feature_list].dropna().values\n",
      "\n",
      "kmeans_models = fit_k_means(k_values, q7_features,1)\n",
      "# http://stackoverflow.com/questions/19197715/scikit-learn-k-means-elbow-criterion"
     ],
     "language": "python",
     "metadata": {},
     "outputs": [
      {
       "output_type": "stream",
       "stream": "stdout",
       "text": [
        "K: 2 -> SS: 0.709155032402\n",
        "K: 3 -> SS: 0.706976856535"
       ]
      },
      {
       "output_type": "stream",
       "stream": "stdout",
       "text": [
        "\n",
        "K: 4 -> SS: 0.7327455742"
       ]
      },
      {
       "output_type": "stream",
       "stream": "stdout",
       "text": [
        "\n",
        "K: 5 -> SS: 0.54846655019"
       ]
      },
      {
       "output_type": "stream",
       "stream": "stdout",
       "text": [
        "\n",
        "K: 6 -> SS: 0.60595314241"
       ]
      },
      {
       "output_type": "stream",
       "stream": "stdout",
       "text": [
        "\n",
        "K: 7 -> SS: 0.464456293894"
       ]
      },
      {
       "output_type": "stream",
       "stream": "stdout",
       "text": [
        "\n",
        "K: 8 -> SS: 0.470142198977"
       ]
      },
      {
       "output_type": "stream",
       "stream": "stdout",
       "text": [
        "\n"
       ]
      }
     ],
     "prompt_number": 32
    },
    {
     "cell_type": "markdown",
     "metadata": {},
     "source": [
      "## 7b"
     ]
    },
    {
     "cell_type": "code",
     "collapsed": false,
     "input": [
      "plot_values = [m.inertia_ for m in kmeans_models.values()]\n",
      "plt.bar(range(2,9), plot_values)"
     ],
     "language": "python",
     "metadata": {},
     "outputs": [
      {
       "metadata": {},
       "output_type": "pyout",
       "prompt_number": 69,
       "text": [
        "<Container object of 7 artists>"
       ]
      },
      {
       "metadata": {},
       "output_type": "display_data",
       "png": "[encoded data removed]",
       "text": [
        "<matplotlib.figure.Figure at 0x10aae2150>"
       ]
      }
     ],
     "prompt_number": 69
    },
    {
     "cell_type": "markdown",
     "metadata": {},
     "source": [
      "## Q8"
     ]
    },
    {
     "cell_type": "code",
     "collapsed": false,
     "input": [
      "q8_df = df[[\"q6\", \"q17\",\"q18_group2\",\"q18_group13\",\"q18_group14\"]]\n",
      "q8_df.columns = [\"useful_votes\", \"review_length\",\"stars_from_mean\", \"median_popularity_of_rated_business\", \"unique_word_count\"]\n",
      "# q8_df.head()\n",
      "print q8_df.describe()"
     ],
     "language": "python",
     "metadata": {},
     "outputs": [
      {
       "output_type": "stream",
       "stream": "stdout",
       "text": [
        "       useful_votes  review_length  stars_from_mean  \\\n",
        "count  44993.000000   44992.000000     44993.000000   \n",
        "mean       6.783233     604.750277         0.000004   \n",
        "std       54.654601     516.719730         1.205383   \n",
        "min        0.000000       2.000000        -2.772100   \n",
        "25%        0.000000     260.000000        -0.711494   \n",
        "50%        1.000000     471.666667         0.227900   \n",
        "75%        3.000000     790.000000         1.227900   \n",
        "max     4620.000000    4996.000000         1.227900   \n",
        "\n",
        "       median_popularity_of_rated_business  unique_word_count  \n",
        "count                         44993.000000       44993.000000  \n",
        "mean                             98.123164          45.591981  \n",
        "std                             120.121439          14.532778  \n",
        "min                               1.000000           2.000000  \n",
        "25%                              24.000000          35.000000  \n",
        "50%                              62.000000          43.000000  \n",
        "75%                             124.000000          55.000000  \n",
        "max                             820.000000         100.000000  \n"
       ]
      }
     ],
     "prompt_number": 6
    },
    {
     "cell_type": "code",
     "collapsed": false,
     "input": [
      "subdf = q8_df.dropna()\n",
      "X = subdf.ix[:,1:].values"
     ],
     "language": "python",
     "metadata": {},
     "outputs": [],
     "prompt_number": 5
    },
    {
     "cell_type": "code",
     "collapsed": false,
     "input": [
      "k_values = range(2,9)\n",
      "q8_models = fit_k_means(k_values,X,1)"
     ],
     "language": "python",
     "metadata": {},
     "outputs": [
      {
       "output_type": "stream",
       "stream": "stdout",
       "text": [
        "K: 2 -> SS: 0.621516076885\n",
        "K: 3 -> SS: 0.539824307244"
       ]
      },
      {
       "output_type": "stream",
       "stream": "stdout",
       "text": [
        "\n",
        "K: 4 -> SS: 0.486022958971"
       ]
      },
      {
       "output_type": "stream",
       "stream": "stdout",
       "text": [
        "\n",
        "K: 5 -> SS: 0.451347525043"
       ]
      },
      {
       "output_type": "stream",
       "stream": "stdout",
       "text": [
        "\n",
        "K: 6 -> SS: 0.43729923685"
       ]
      },
      {
       "output_type": "stream",
       "stream": "stdout",
       "text": [
        "\n",
        "K: 7 -> SS: 0.451926387319"
       ]
      },
      {
       "output_type": "stream",
       "stream": "stdout",
       "text": [
        "\n",
        "K: 8 -> SS: 0.442361926034"
       ]
      },
      {
       "output_type": "stream",
       "stream": "stdout",
       "text": [
        "\n"
       ]
      }
     ],
     "prompt_number": 6
    },
    {
     "cell_type": "code",
     "collapsed": false,
     "input": [
      "# Pick and plot best cluster\n",
      "subdf[\"cluster\"] = q8_models[2].labels_\n",
      "by_cluster = subdf.groupby(\"cluster\").mean().reset_index()\n",
      "print by_cluster"
     ],
     "language": "python",
     "metadata": {},
     "outputs": [
      {
       "output_type": "stream",
       "stream": "stdout",
       "text": [
        "   cluster  useful_votes  log_review_length  stars_from_mean  \\\n",
        "0        0      4.914432         419.428035         0.076709   \n",
        "1        1     15.420165        1461.159459        -0.354614   \n",
        "\n",
        "   median_popularity_of_rated_business  unique_word_count  \n",
        "0                            96.561006          42.994268  \n",
        "1                           105.354073          57.601949  \n"
       ]
      }
     ],
     "prompt_number": 167
    },
    {
     "cell_type": "code",
     "collapsed": false,
     "input": [
      "plt.bar(by_cluster[\"cluster\"], by_cluster[\"review_length\"],color=['g','b'])\n",
      "plt.xlim(-0.5,2.5)\n",
      "plt.tick_params(\\\n",
      "    axis='x',          # changes apply to the x-axis\n",
      "    which='both',      # both major and minor ticks are affected\n",
      "    bottom='off',      # ticks along the bottom edge are off\n",
      "    top='off',         # ticks along the top edge are off\n",
      "    labelbottom='off') # labels along the bottom edge are off\n",
      "plt.title('Mean of Review Length by Cluster')\n",
      "plt.xlabel(\"Cluster\")\n",
      "plt.ylabel(\"Mean of Review Length\")"
     ],
     "language": "python",
     "metadata": {},
     "outputs": [
      {
       "metadata": {},
       "output_type": "pyout",
       "prompt_number": 174,
       "text": [
        "<matplotlib.text.Text at 0x10e14cfd0>"
       ]
      },
      {
       "metadata": {},
       "output_type": "display_data",
       "png": "[encoded data removed]",
       "text": [
        "<matplotlib.figure.Figure at 0x10acb1710>"
       ]
      }
     ],
     "prompt_number": 174
    },
    {
     "cell_type": "code",
     "collapsed": false,
     "input": [
      "plt.bar(by_cluster[\"cluster\"], by_cluster[\"stars_from_mean\"],color=['g','b'])\n",
      "plt.xlim(-0.5,2.5)\n",
      "plt.tick_params(\\\n",
      "    axis='x',          # changes apply to the x-axis\n",
      "    which='both',      # both major and minor ticks are affected\n",
      "    bottom='off',      # ticks along the bottom edge are off\n",
      "    top='off',         # ticks along the top edge are off\n",
      "    labelbottom='off') # labels along the bottom edge are off\n",
      "plt.title('Mean Stars from Mean by Cluster')\n",
      "plt.xlabel(\"Cluster\")\n",
      "plt.ylabel(\"Mean Stars from Mean\")"
     ],
     "language": "python",
     "metadata": {},
     "outputs": [
      {
       "metadata": {},
       "output_type": "pyout",
       "prompt_number": 175,
       "text": [
        "<matplotlib.text.Text at 0x10aca8a50>"
       ]
      },
      {
       "metadata": {},
       "output_type": "display_data",
       "png": "[encoded data removed]",
       "text": [
        "<matplotlib.figure.Figure at 0x10e71e150>"
       ]
      }
     ],
     "prompt_number": 175
    },
    {
     "cell_type": "code",
     "collapsed": false,
     "input": [
      "plt.bar(by_cluster[\"cluster\"], by_cluster[\"median_popularity_of_rated_business\"],color=['g','b'])\n",
      "plt.xlim(-0.5,2.5)\n",
      "plt.tick_params(\\\n",
      "    axis='x',          # changes apply to the x-axis\n",
      "    which='both',      # both major and minor ticks are affected\n",
      "    bottom='off',      # ticks along the bottom edge are off\n",
      "    top='off',         # ticks along the top edge are off\n",
      "    labelbottom='off') # labels along the bottom edge are off\n",
      "plt.title('Mean of Median Popularity of Rated Business by Cluster')\n",
      "plt.xlabel(\"Cluster\")\n",
      "plt.ylabel(\"Median Popularity of Rated Business\")"
     ],
     "language": "python",
     "metadata": {},
     "outputs": [
      {
       "metadata": {},
       "output_type": "pyout",
       "prompt_number": 176,
       "text": [
        "<matplotlib.text.Text at 0x10e8c24d0>"
       ]
      },
      {
       "metadata": {},
       "output_type": "display_data",
       "png": "[encoded data removed]",
       "text": [
        "<matplotlib.figure.Figure at 0x10e8cd490>"
       ]
      }
     ],
     "prompt_number": 176
    },
    {
     "cell_type": "code",
     "collapsed": false,
     "input": [
      "plt.bar(by_cluster[\"cluster\"], by_cluster[\"unique_word_count\"],color=['g','b'])\n",
      "plt.xlim(-0.5,2.5)\n",
      "plt.tick_params(\\\n",
      "    axis='x',          # changes apply to the x-axis\n",
      "    which='both',      # both major and minor ticks are affected\n",
      "    bottom='off',      # ticks along the bottom edge are off\n",
      "    top='off',         # ticks along the top edge are off\n",
      "    labelbottom='off') # labels along the bottom edge are off\n",
      "plt.title('Mean Unique Word Count by Cluster')\n",
      "plt.xlabel(\"Cluster\")\n",
      "plt.ylabel(\"Mean Unique Word Count\")"
     ],
     "language": "python",
     "metadata": {},
     "outputs": [
      {
       "metadata": {},
       "output_type": "pyout",
       "prompt_number": 177,
       "text": [
        "<matplotlib.text.Text at 0x10ee914d0>"
       ]
      },
      {
       "metadata": {},
       "output_type": "display_data",
       "png": "[encoded data removed]",
       "text": [
        "<matplotlib.figure.Figure at 0x10eed2810>"
       ]
      }
     ],
     "prompt_number": 177
    },
    {
     "cell_type": "markdown",
     "metadata": {},
     "source": [
      "## Q9"
     ]
    },
    {
     "cell_type": "code",
     "collapsed": false,
     "input": [
      "by_reviewer = pd.read_csv(\"yelp_reviewers.txt\", delimiter=\"|\")\n",
      "by_review = pd.read_csv(\"yelp_reviews.txt\", delimiter=\"|\")"
     ],
     "language": "python",
     "metadata": {},
     "outputs": [],
     "prompt_number": 30
    },
    {
     "cell_type": "code",
     "collapsed": false,
     "input": [
      "unique_user_ids = list(set(by_reviewer[\"user_id\"]))\n",
      "unique_business_ids = list(set(by_review[\"business_id\"]))\n",
      "print len(unique_business_ids) * len(unique_user_ids)\n",
      "# user_business_matrix = np.array(product(unique_user_ids, unique_business_ids))\n",
      "# print type(user_business_matrix), user_business_matrix.shape"
     ],
     "language": "python",
     "metadata": {},
     "outputs": [
      {
       "output_type": "stream",
       "stream": "stdout",
       "text": [
        "519039248\n"
       ]
      }
     ],
     "prompt_number": 44
    },
    {
     "cell_type": "code",
     "collapsed": false,
     "input": [
      "by_review.head()"
     ],
     "language": "python",
     "metadata": {},
     "outputs": [
      {
       "html": [
        "<div style=\"max-height:1000px;max-width:1500px;overflow:auto;\">\n",
        "<table border=\"1\" class=\"dataframe\">\n",
        "  <thead>\n",
        "    <tr style=\"text-align: right;\">\n",
        "      <th></th>\n",
        "      <th>business_id</th>\n",
        "      <th>date</th>\n",
        "      <th>review_id</th>\n",
        "      <th>stars</th>\n",
        "      <th>text</th>\n",
        "      <th>type</th>\n",
        "      <th>user_id</th>\n",
        "      <th>votes.cool</th>\n",
        "      <th>votes.funny</th>\n",
        "      <th>votes.useful</th>\n",
        "    </tr>\n",
        "  </thead>\n",
        "  <tbody>\n",
        "    <tr>\n",
        "      <th>0</th>\n",
        "      <td> 9yKzy9PApeiPPOUJEtnvkg</td>\n",
        "      <td> 2011-01-26</td>\n",
        "      <td> fWKvX83p0-ka4JS3dc6E5A</td>\n",
        "      <td> 5</td>\n",
        "      <td> My wife took me here on my birthday for breakf...</td>\n",
        "      <td> review</td>\n",
        "      <td> rLtl8ZkDX5vH5nAx9C3q5Q</td>\n",
        "      <td> 2</td>\n",
        "      <td> 0</td>\n",
        "      <td> 5</td>\n",
        "    </tr>\n",
        "    <tr>\n",
        "      <th>1</th>\n",
        "      <td> ZRJwVLyzEJq1VAihDhYiow</td>\n",
        "      <td> 2011-07-27</td>\n",
        "      <td> IjZ33sJrzXqU-0X6U8NwyA</td>\n",
        "      <td> 5</td>\n",
        "      <td> I have no idea why some people give bad review...</td>\n",
        "      <td> review</td>\n",
        "      <td> 0a2KyEL0d3Yb1V6aivbIuQ</td>\n",
        "      <td> 0</td>\n",
        "      <td> 0</td>\n",
        "      <td> 0</td>\n",
        "    </tr>\n",
        "    <tr>\n",
        "      <th>2</th>\n",
        "      <td> 6oRAC4uyJCsJl1X0WZpVSA</td>\n",
        "      <td> 2012-06-14</td>\n",
        "      <td> IESLBzqUCLdSzSqm0eCSxQ</td>\n",
        "      <td> 4</td>\n",
        "      <td> love the gyro plate. Rice is so good and I als...</td>\n",
        "      <td> review</td>\n",
        "      <td> 0hT2KtfLiobPvh6cDC8JQg</td>\n",
        "      <td> 0</td>\n",
        "      <td> 0</td>\n",
        "      <td> 1</td>\n",
        "    </tr>\n",
        "    <tr>\n",
        "      <th>3</th>\n",
        "      <td> _1QQZuf4zZOyFCvXc0o6Vg</td>\n",
        "      <td> 2010-05-27</td>\n",
        "      <td> G-WvGaISbqqaMHlNnByodA</td>\n",
        "      <td> 5</td>\n",
        "      <td> Rosie, Dakota, and I LOVE Chaparral Dog Park!!...</td>\n",
        "      <td> review</td>\n",
        "      <td> uZetl9T0NcROGOyFfughhg</td>\n",
        "      <td> 1</td>\n",
        "      <td> 0</td>\n",
        "      <td> 2</td>\n",
        "    </tr>\n",
        "    <tr>\n",
        "      <th>4</th>\n",
        "      <td> 6ozycU1RpktNG2-1BroVtw</td>\n",
        "      <td> 2012-01-05</td>\n",
        "      <td> 1uJFq2r5QfJG_6ExMRCaGw</td>\n",
        "      <td> 5</td>\n",
        "      <td> General Manager Scott Petello is a good egg!!!...</td>\n",
        "      <td> review</td>\n",
        "      <td> vYmM4KTsC8ZfQBg-j5MWkw</td>\n",
        "      <td> 0</td>\n",
        "      <td> 0</td>\n",
        "      <td> 0</td>\n",
        "    </tr>\n",
        "  </tbody>\n",
        "</table>\n",
        "</div>"
       ],
       "metadata": {},
       "output_type": "pyout",
       "prompt_number": 8,
       "text": [
        "              business_id        date               review_id  stars  \\\n",
        "0  9yKzy9PApeiPPOUJEtnvkg  2011-01-26  fWKvX83p0-ka4JS3dc6E5A      5   \n",
        "1  ZRJwVLyzEJq1VAihDhYiow  2011-07-27  IjZ33sJrzXqU-0X6U8NwyA      5   \n",
        "2  6oRAC4uyJCsJl1X0WZpVSA  2012-06-14  IESLBzqUCLdSzSqm0eCSxQ      4   \n",
        "3  _1QQZuf4zZOyFCvXc0o6Vg  2010-05-27  G-WvGaISbqqaMHlNnByodA      5   \n",
        "4  6ozycU1RpktNG2-1BroVtw  2012-01-05  1uJFq2r5QfJG_6ExMRCaGw      5   \n",
        "\n",
        "                                                text    type  \\\n",
        "0  My wife took me here on my birthday for breakf...  review   \n",
        "1  I have no idea why some people give bad review...  review   \n",
        "2  love the gyro plate. Rice is so good and I als...  review   \n",
        "3  Rosie, Dakota, and I LOVE Chaparral Dog Park!!...  review   \n",
        "4  General Manager Scott Petello is a good egg!!!...  review   \n",
        "\n",
        "                  user_id  votes.cool  votes.funny  votes.useful  \n",
        "0  rLtl8ZkDX5vH5nAx9C3q5Q           2            0             5  \n",
        "1  0a2KyEL0d3Yb1V6aivbIuQ           0            0             0  \n",
        "2  0hT2KtfLiobPvh6cDC8JQg           0            0             1  \n",
        "3  uZetl9T0NcROGOyFfughhg           1            0             2  \n",
        "4  vYmM4KTsC8ZfQBg-j5MWkw           0            0             0  "
       ]
      }
     ],
     "prompt_number": 8
    },
    {
     "cell_type": "code",
     "collapsed": false,
     "input": [
      "# pd.melt(by_review, id_vars=[\"business_id\", \"user_id\"])\n",
      "by_user_business = by_review.groupby([\"business_id\", \"user_id\"])[\"stars\"].count().reset_index()\n",
      "by_user_business.columns = [\"business_id\", \"user_id\", \"count\"]\n",
      "by_user_business.head()"
     ],
     "language": "python",
     "metadata": {},
     "outputs": [
      {
       "html": [
        "<div style=\"max-height:1000px;max-width:1500px;overflow:auto;\">\n",
        "<table border=\"1\" class=\"dataframe\">\n",
        "  <thead>\n",
        "    <tr style=\"text-align: right;\">\n",
        "      <th></th>\n",
        "      <th>business_id</th>\n",
        "      <th>user_id</th>\n",
        "      <th>count</th>\n",
        "    </tr>\n",
        "  </thead>\n",
        "  <tbody>\n",
        "    <tr>\n",
        "      <th>0</th>\n",
        "      <td> --5jkZ3-nUPZxUvtcbr8Uw</td>\n",
        "      <td> 8DEtfP9Fmp5X1DG6iTtXnQ</td>\n",
        "      <td> 1</td>\n",
        "    </tr>\n",
        "    <tr>\n",
        "      <th>1</th>\n",
        "      <td> --5jkZ3-nUPZxUvtcbr8Uw</td>\n",
        "      <td> 8bcuymGpfe4EJr_FCKPpLA</td>\n",
        "      <td> 1</td>\n",
        "    </tr>\n",
        "    <tr>\n",
        "      <th>2</th>\n",
        "      <td> --5jkZ3-nUPZxUvtcbr8Uw</td>\n",
        "      <td> 9sXsAGgIAY1fIjPIy536tw</td>\n",
        "      <td> 1</td>\n",
        "    </tr>\n",
        "    <tr>\n",
        "      <th>3</th>\n",
        "      <td> --5jkZ3-nUPZxUvtcbr8Uw</td>\n",
        "      <td> Br9mpMhkVunsp8Un5GpYWA</td>\n",
        "      <td> 1</td>\n",
        "    </tr>\n",
        "    <tr>\n",
        "      <th>4</th>\n",
        "      <td> --5jkZ3-nUPZxUvtcbr8Uw</td>\n",
        "      <td> Cp-PV8rsypbO-xBrQ6KmQg</td>\n",
        "      <td> 1</td>\n",
        "    </tr>\n",
        "  </tbody>\n",
        "</table>\n",
        "</div>"
       ],
       "metadata": {},
       "output_type": "pyout",
       "prompt_number": 45,
       "text": [
        "              business_id                 user_id  count\n",
        "0  --5jkZ3-nUPZxUvtcbr8Uw  8DEtfP9Fmp5X1DG6iTtXnQ      1\n",
        "1  --5jkZ3-nUPZxUvtcbr8Uw  8bcuymGpfe4EJr_FCKPpLA      1\n",
        "2  --5jkZ3-nUPZxUvtcbr8Uw  9sXsAGgIAY1fIjPIy536tw      1\n",
        "3  --5jkZ3-nUPZxUvtcbr8Uw  Br9mpMhkVunsp8Un5GpYWA      1\n",
        "4  --5jkZ3-nUPZxUvtcbr8Uw  Cp-PV8rsypbO-xBrQ6KmQg      1"
       ]
      }
     ],
     "prompt_number": 45
    }
   ],
   "metadata": {}
  }
 ]
}