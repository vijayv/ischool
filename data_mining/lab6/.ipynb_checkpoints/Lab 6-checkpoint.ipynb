{
 "metadata": {
  "name": "",
  "signature": "sha256:7b3c0499c4c49347b63f74b672e25a5376c56b0da114561649c4e644294985cd"
 },
 "nbformat": 3,
 "nbformat_minor": 0,
 "worksheets": [
  {
   "cells": [
    {
     "cell_type": "heading",
     "level": 2,
     "metadata": {},
     "source": [
      "Instructions"
     ]
    },
    {
     "cell_type": "markdown",
     "metadata": {},
     "source": [
      "https://docs.google.com/document/d/1pEVR4fFqT8nb0NMPu_vplNSAjVYBgWUKGVJzyhHZaS4/edit <br/>\n",
      "#### Feature Description\n",
      "http://lib.stat.cmu.edu/S/Harrell/data/descriptions/titanic3info.txt<br/>"
     ]
    },
    {
     "cell_type": "heading",
     "level": 2,
     "metadata": {},
     "source": [
      "Useful Examples"
     ]
    },
    {
     "cell_type": "markdown",
     "metadata": {},
     "source": [
      "https://datastudentblog.wordpress.com/2014/03/31/titanic-how-we-got-to-12-on-the-kaggle-com-leaderboard/<br/>\n",
      "http://nbviewer.ipython.org/github/agconti/kaggle-titanic/blob/master/Titanic.ipynb <br/>\n",
      "http://www.markhneedham.com/blog/2013/11/09/python-making-scikit-learn-and-pandas-play-nice/ <br/>\n",
      "http://nbviewer.ipython.org/github/datapress/kaggle-titanic/blob/master/notebooks/Section%202-2%20-%20SVM%20with%20Parameter%20Tuning.ipynb<br/>\n",
      "#### Cross Validation\n",
      "https://randomforests.wordpress.com/2014/02/02/basics-of-k-fold-cross-validation-and-gridsearchcv-in-scikit-learn/"
     ]
    },
    {
     "cell_type": "code",
     "collapsed": false,
     "input": [
      "import numpy as np\n",
      "import pandas as pd\n",
      "import sklearn as sk\n",
      "from sklearn.preprocessing import Imputer\n",
      "from sklearn.feature_extraction import DictVectorizer\n",
      "from sklearn import svm, cross_validation, grid_search\n",
      "import matplotlib as plt\n",
      "import string\n",
      "from scipy.stats import mode, zscore\n",
      "%matplotlib inline"
     ],
     "language": "python",
     "metadata": {},
     "outputs": [],
     "prompt_number": 8
    },
    {
     "cell_type": "heading",
     "level": 2,
     "metadata": {},
     "source": [
      "Hack: Yes or No?"
     ]
    },
    {
     "cell_type": "code",
     "collapsed": false,
     "input": [
      "# hack = True\n",
      "hack = False"
     ],
     "language": "python",
     "metadata": {},
     "outputs": [],
     "prompt_number": 9
    },
    {
     "cell_type": "heading",
     "level": 2,
     "metadata": {},
     "source": [
      "Read in Data"
     ]
    },
    {
     "cell_type": "code",
     "collapsed": false,
     "input": [
      "home_dir = \"\"\n",
      "if hack:\n",
      "    home_dir = \"hack/\"\n",
      "\n",
      "training_data = pd.read_csv(home_dir + \"train.csv\")\n",
      "training_data.columns = map(string.lower, training_data.columns)\n",
      "training_data[\"set_type\"] = \"training\"\n",
      "\n",
      "testing_data = pd.read_csv(home_dir + \"test.csv\")\n",
      "testing_data.columns = map(string.lower, testing_data.columns)\n",
      "testing_data[\"set_type\"] = \"testing\"\n",
      "\n",
      "if hack:\n",
      "    training_data = training_data.rename(columns = {'passengerid':'passenger_id'})\n",
      "    testing_data = testing_data.rename(columns = {'passengerid':'passenger_id'}) \n",
      "\n",
      "all_data = pd.concat([training_data, testing_data])"
     ],
     "language": "python",
     "metadata": {},
     "outputs": [],
     "prompt_number": 10
    },
    {
     "cell_type": "code",
     "collapsed": false,
     "input": [
      "all_data.head()"
     ],
     "language": "python",
     "metadata": {},
     "outputs": [
      {
       "html": [
        "<div style=\"max-height:1000px;max-width:1500px;overflow:auto;\">\n",
        "<table border=\"1\" class=\"dataframe\">\n",
        "  <thead>\n",
        "    <tr style=\"text-align: right;\">\n",
        "      <th></th>\n",
        "      <th>age</th>\n",
        "      <th>cabin</th>\n",
        "      <th>embarked</th>\n",
        "      <th>fare</th>\n",
        "      <th>home.dest</th>\n",
        "      <th>name</th>\n",
        "      <th>parch</th>\n",
        "      <th>passenger_id</th>\n",
        "      <th>pclass</th>\n",
        "      <th>set_type</th>\n",
        "      <th>sex</th>\n",
        "      <th>sibsp</th>\n",
        "      <th>survived</th>\n",
        "      <th>ticket</th>\n",
        "    </tr>\n",
        "  </thead>\n",
        "  <tbody>\n",
        "    <tr>\n",
        "      <th>0</th>\n",
        "      <td> 39</td>\n",
        "      <td> C85</td>\n",
        "      <td> C</td>\n",
        "      <td>  71.2833</td>\n",
        "      <td>         New York, NY</td>\n",
        "      <td> Cumings, Mr. John Bradley</td>\n",
        "      <td> 0</td>\n",
        "      <td> 0</td>\n",
        "      <td> 1</td>\n",
        "      <td> training</td>\n",
        "      <td>   male</td>\n",
        "      <td> 1</td>\n",
        "      <td> 0</td>\n",
        "      <td>  PC 17599</td>\n",
        "    </tr>\n",
        "    <tr>\n",
        "      <th>1</th>\n",
        "      <td> 39</td>\n",
        "      <td> NaN</td>\n",
        "      <td> S</td>\n",
        "      <td> 211.3375</td>\n",
        "      <td>                  NaN</td>\n",
        "      <td>    Kreuchen, Miss. Emilie</td>\n",
        "      <td> 0</td>\n",
        "      <td> 1</td>\n",
        "      <td> 1</td>\n",
        "      <td> training</td>\n",
        "      <td> female</td>\n",
        "      <td> 0</td>\n",
        "      <td> 1</td>\n",
        "      <td>     24160</td>\n",
        "    </tr>\n",
        "    <tr>\n",
        "      <th>2</th>\n",
        "      <td> 36</td>\n",
        "      <td> NaN</td>\n",
        "      <td> S</td>\n",
        "      <td>   7.4958</td>\n",
        "      <td> Bulgaria Chicago, IL</td>\n",
        "      <td>          Coleff, Mr. Peju</td>\n",
        "      <td> 0</td>\n",
        "      <td> 2</td>\n",
        "      <td> 3</td>\n",
        "      <td> training</td>\n",
        "      <td>   male</td>\n",
        "      <td> 0</td>\n",
        "      <td> 0</td>\n",
        "      <td>    349210</td>\n",
        "    </tr>\n",
        "    <tr>\n",
        "      <th>3</th>\n",
        "      <td>NaN</td>\n",
        "      <td> NaN</td>\n",
        "      <td> S</td>\n",
        "      <td>   8.0500</td>\n",
        "      <td>                  NaN</td>\n",
        "      <td>        Spector, Mr. Woolf</td>\n",
        "      <td> 0</td>\n",
        "      <td> 3</td>\n",
        "      <td> 3</td>\n",
        "      <td> training</td>\n",
        "      <td>   male</td>\n",
        "      <td> 0</td>\n",
        "      <td> 0</td>\n",
        "      <td> A.5. 3236</td>\n",
        "    </tr>\n",
        "    <tr>\n",
        "      <th>4</th>\n",
        "      <td> 20</td>\n",
        "      <td> NaN</td>\n",
        "      <td> C</td>\n",
        "      <td>  15.7417</td>\n",
        "      <td>                  NaN</td>\n",
        "      <td>          Nakid, Mr. Sahid</td>\n",
        "      <td> 1</td>\n",
        "      <td> 4</td>\n",
        "      <td> 3</td>\n",
        "      <td> training</td>\n",
        "      <td>   male</td>\n",
        "      <td> 1</td>\n",
        "      <td> 1</td>\n",
        "      <td>      2653</td>\n",
        "    </tr>\n",
        "  </tbody>\n",
        "</table>\n",
        "</div>"
       ],
       "metadata": {},
       "output_type": "pyout",
       "prompt_number": 11,
       "text": [
        "   age cabin embarked      fare             home.dest  \\\n",
        "0   39   C85        C   71.2833          New York, NY   \n",
        "1   39   NaN        S  211.3375                   NaN   \n",
        "2   36   NaN        S    7.4958  Bulgaria Chicago, IL   \n",
        "3  NaN   NaN        S    8.0500                   NaN   \n",
        "4   20   NaN        C   15.7417                   NaN   \n",
        "\n",
        "                        name  parch  passenger_id  pclass  set_type     sex  \\\n",
        "0  Cumings, Mr. John Bradley      0             0       1  training    male   \n",
        "1     Kreuchen, Miss. Emilie      0             1       1  training  female   \n",
        "2           Coleff, Mr. Peju      0             2       3  training    male   \n",
        "3         Spector, Mr. Woolf      0             3       3  training    male   \n",
        "4           Nakid, Mr. Sahid      1             4       3  training    male   \n",
        "\n",
        "   sibsp  survived     ticket  \n",
        "0      1         0   PC 17599  \n",
        "1      0         1      24160  \n",
        "2      0         0     349210  \n",
        "3      0         0  A.5. 3236  \n",
        "4      1         1       2653  "
       ]
      }
     ],
     "prompt_number": 11
    },
    {
     "cell_type": "code",
     "collapsed": false,
     "input": [
      "all_data.info()"
     ],
     "language": "python",
     "metadata": {},
     "outputs": [
      {
       "output_type": "stream",
       "stream": "stdout",
       "text": [
        "<class 'pandas.core.frame.DataFrame'>\n",
        "Int64Index: 1309 entries, 0 to 523\n",
        "Data columns (total 14 columns):\n",
        "age             1046 non-null float64\n",
        "cabin           295 non-null object\n",
        "embarked        1307 non-null object\n",
        "fare            1308 non-null float64\n",
        "home.dest       745 non-null object\n",
        "name            1309 non-null object\n",
        "parch           1309 non-null int64\n",
        "passenger_id    1309 non-null int64\n",
        "pclass          1309 non-null int64\n",
        "set_type        1309 non-null object\n",
        "sex             1309 non-null object\n",
        "sibsp           1309 non-null int64\n",
        "survived        785 non-null float64\n",
        "ticket          1309 non-null object\n",
        "dtypes: float64(3), int64(4), object(7)\n",
        "memory usage: 153.4+ KB\n"
       ]
      }
     ],
     "prompt_number": 12
    },
    {
     "cell_type": "code",
     "collapsed": false,
     "input": [
      "all_data.describe()"
     ],
     "language": "python",
     "metadata": {},
     "outputs": [
      {
       "html": [
        "<div style=\"max-height:1000px;max-width:1500px;overflow:auto;\">\n",
        "<table border=\"1\" class=\"dataframe\">\n",
        "  <thead>\n",
        "    <tr style=\"text-align: right;\">\n",
        "      <th></th>\n",
        "      <th>age</th>\n",
        "      <th>fare</th>\n",
        "      <th>parch</th>\n",
        "      <th>passenger_id</th>\n",
        "      <th>pclass</th>\n",
        "      <th>sibsp</th>\n",
        "      <th>survived</th>\n",
        "    </tr>\n",
        "  </thead>\n",
        "  <tbody>\n",
        "    <tr>\n",
        "      <th>count</th>\n",
        "      <td> 1046.000000</td>\n",
        "      <td> 1308.000000</td>\n",
        "      <td> 1309.000000</td>\n",
        "      <td> 1309.000000</td>\n",
        "      <td> 1309.000000</td>\n",
        "      <td> 1309.000000</td>\n",
        "      <td> 785.000000</td>\n",
        "    </tr>\n",
        "    <tr>\n",
        "      <th>mean</th>\n",
        "      <td>   29.881138</td>\n",
        "      <td>   33.295479</td>\n",
        "      <td>    0.385027</td>\n",
        "      <td>  654.000000</td>\n",
        "      <td>    2.294882</td>\n",
        "      <td>    0.498854</td>\n",
        "      <td>   0.375796</td>\n",
        "    </tr>\n",
        "    <tr>\n",
        "      <th>std</th>\n",
        "      <td>   14.413493</td>\n",
        "      <td>   51.758668</td>\n",
        "      <td>    0.865560</td>\n",
        "      <td>  378.020061</td>\n",
        "      <td>    0.837836</td>\n",
        "      <td>    1.041658</td>\n",
        "      <td>   0.484637</td>\n",
        "    </tr>\n",
        "    <tr>\n",
        "      <th>min</th>\n",
        "      <td>    0.170000</td>\n",
        "      <td>    0.000000</td>\n",
        "      <td>    0.000000</td>\n",
        "      <td>    0.000000</td>\n",
        "      <td>    1.000000</td>\n",
        "      <td>    0.000000</td>\n",
        "      <td>   0.000000</td>\n",
        "    </tr>\n",
        "    <tr>\n",
        "      <th>25%</th>\n",
        "      <td>   21.000000</td>\n",
        "      <td>    7.895800</td>\n",
        "      <td>    0.000000</td>\n",
        "      <td>  327.000000</td>\n",
        "      <td>    2.000000</td>\n",
        "      <td>    0.000000</td>\n",
        "      <td>   0.000000</td>\n",
        "    </tr>\n",
        "    <tr>\n",
        "      <th>50%</th>\n",
        "      <td>   28.000000</td>\n",
        "      <td>   14.454200</td>\n",
        "      <td>    0.000000</td>\n",
        "      <td>  654.000000</td>\n",
        "      <td>    3.000000</td>\n",
        "      <td>    0.000000</td>\n",
        "      <td>   0.000000</td>\n",
        "    </tr>\n",
        "    <tr>\n",
        "      <th>75%</th>\n",
        "      <td>   39.000000</td>\n",
        "      <td>   31.275000</td>\n",
        "      <td>    0.000000</td>\n",
        "      <td>  981.000000</td>\n",
        "      <td>    3.000000</td>\n",
        "      <td>    1.000000</td>\n",
        "      <td>   1.000000</td>\n",
        "    </tr>\n",
        "    <tr>\n",
        "      <th>max</th>\n",
        "      <td>   80.000000</td>\n",
        "      <td>  512.329200</td>\n",
        "      <td>    9.000000</td>\n",
        "      <td> 1308.000000</td>\n",
        "      <td>    3.000000</td>\n",
        "      <td>    8.000000</td>\n",
        "      <td>   1.000000</td>\n",
        "    </tr>\n",
        "  </tbody>\n",
        "</table>\n",
        "</div>"
       ],
       "metadata": {},
       "output_type": "pyout",
       "prompt_number": 13,
       "text": [
        "               age         fare        parch  passenger_id       pclass  \\\n",
        "count  1046.000000  1308.000000  1309.000000   1309.000000  1309.000000   \n",
        "mean     29.881138    33.295479     0.385027    654.000000     2.294882   \n",
        "std      14.413493    51.758668     0.865560    378.020061     0.837836   \n",
        "min       0.170000     0.000000     0.000000      0.000000     1.000000   \n",
        "25%      21.000000     7.895800     0.000000    327.000000     2.000000   \n",
        "50%      28.000000    14.454200     0.000000    654.000000     3.000000   \n",
        "75%      39.000000    31.275000     0.000000    981.000000     3.000000   \n",
        "max      80.000000   512.329200     9.000000   1308.000000     3.000000   \n",
        "\n",
        "             sibsp    survived  \n",
        "count  1309.000000  785.000000  \n",
        "mean      0.498854    0.375796  \n",
        "std       1.041658    0.484637  \n",
        "min       0.000000    0.000000  \n",
        "25%       0.000000    0.000000  \n",
        "50%       0.000000    0.000000  \n",
        "75%       1.000000    1.000000  \n",
        "max       8.000000    1.000000  "
       ]
      }
     ],
     "prompt_number": 13
    },
    {
     "cell_type": "heading",
     "level": 4,
     "metadata": {},
     "source": [
      "We have no null values"
     ]
    },
    {
     "cell_type": "code",
     "collapsed": false,
     "input": [
      "all_data[all_data[\"set_type\"] == \"training\"][\"survived\"].isnull().sum()"
     ],
     "language": "python",
     "metadata": {},
     "outputs": [
      {
       "metadata": {},
       "output_type": "pyout",
       "prompt_number": 14,
       "text": [
        "0"
       ]
      }
     ],
     "prompt_number": 14
    },
    {
     "cell_type": "heading",
     "level": 2,
     "metadata": {},
     "source": [
      "Handling Missing Values"
     ]
    },
    {
     "cell_type": "code",
     "collapsed": false,
     "input": [
      "# Might be too extreme\n",
      "# Remove features that have lots of missing values\n",
      "# all_data = all_data.drop(['ticket','cabin'], axis=1)\n",
      "# Remove NaN values\n",
      "# all_data = all_data.dropna()"
     ],
     "language": "python",
     "metadata": {},
     "outputs": [],
     "prompt_number": 15
    },
    {
     "cell_type": "code",
     "collapsed": false,
     "input": [
      "# age_mean = all_data['age'].mean()\n",
      "# all_data['age'] = all_data['age'].fillna(age_mean)\n",
      "# print all_data[all_data['age'].isnull()]\n",
      "\n",
      "# mode_embarked = mode(all_data['embarked'])[0][0]\n",
      "# all_data['embarked'] = all_data['embarked'].fillna(mode_embarked)\n",
      "\n",
      "for c in range(1,4):\n",
      "    # Fare\n",
      "    mask = (all_data['fare'] == 0) & (all_data['pclass'] == c)\n",
      "    all_data['fare'][mask] = all_data['fare'][all_data['pclass'] == c].mean()\n",
      "    # Age\n",
      "    mask = (all_data['age'].isnull()) & (all_data['pclass'] == c)\n",
      "    all_data['age'][mask] = all_data['age'][all_data['pclass'] == c].mean()\n",
      "    # Embarked\n",
      "    mask = (all_data['embarked'].isnull()) & (all_data['pclass'] == c)\n",
      "    all_data['embarked'][mask] = mode(all_data['embarked'][all_data['pclass'] == c])[0][0]"
     ],
     "language": "python",
     "metadata": {},
     "outputs": [
      {
       "output_type": "stream",
       "stream": "stderr",
       "text": [
        "-c:11: SettingWithCopyWarning: \n",
        "A value is trying to be set on a copy of a slice from a DataFrame\n",
        "\n",
        "See the the caveats in the documentation: http://pandas.pydata.org/pandas-docs/stable/indexing.html#indexing-view-versus-copy\n",
        "-c:14: SettingWithCopyWarning: \n",
        "A value is trying to be set on a copy of a slice from a DataFrame\n",
        "\n",
        "See the the caveats in the documentation: http://pandas.pydata.org/pandas-docs/stable/indexing.html#indexing-view-versus-copy\n"
       ]
      },
      {
       "output_type": "stream",
       "stream": "stderr",
       "text": [
        "/Users/acchi369/anaconda/lib/python2.7/site-packages/numpy/lib/arraysetops.py:197: FutureWarning: numpy not_equal will not check object identity in the future. The comparison did not return the same result as suggested by the identity (`is`)) and will change.\n",
        "  flag = np.concatenate(([True], aux[1:] != aux[:-1]))\n",
        "-c:17: SettingWithCopyWarning: \n",
        "A value is trying to be set on a copy of a slice from a DataFrame\n",
        "\n",
        "See the the caveats in the documentation: http://pandas.pydata.org/pandas-docs/stable/indexing.html#indexing-view-versus-copy\n"
       ]
      }
     ],
     "prompt_number": 16
    },
    {
     "cell_type": "heading",
     "level": 2,
     "metadata": {},
     "source": [
      "Feature Construction"
     ]
    },
    {
     "cell_type": "heading",
     "level": 4,
     "metadata": {},
     "source": [
      "Nationality"
     ]
    },
    {
     "cell_type": "code",
     "collapsed": false,
     "input": [
      "us = ['WA', 'WI', 'WV', 'FL', 'WY', 'NH', 'NJ', 'NM', 'NA', 'NC', 'ND', 'NE', 'NY', 'RI', 'NV', 'GU', 'CO', 'CA', 'GA', 'CT', 'OK', 'OH', 'KS', 'SC', 'KY', 'OR', 'SD', 'DE', 'DC', 'HI', 'PR', 'TX', 'LA', 'TN', 'PA', 'VA', 'VI', 'AK', 'AL', 'AS', 'AR', 'VT', 'IL', 'IN', 'IA', 'AZ', 'ID', 'ME', 'MD', 'MA', 'UT', 'MO', 'MN', 'MI', 'MT', 'MP', 'MS']\n",
      "ca = ['ON', 'AB', 'NL', 'BC', 'NB', 'MB', 'YT', 'SK', 'QC', 'PE', 'NS', 'NT', 'NU']"
     ],
     "language": "python",
     "metadata": {},
     "outputs": [],
     "prompt_number": 17
    },
    {
     "cell_type": "code",
     "collapsed": false,
     "input": [
      "def is_state(test_list):\n",
      "    if type(test_list) == list:\n",
      "        if np.array([t.strip() in us for t in test_list.split(\",\")]).any():\n",
      "            return \"US\"\n",
      "        if np.array([t.strip() in ca for t in test_list.split(\",\")]).any():\n",
      "            return \"CA\"\n",
      "    else:\n",
      "        return \"Unknown\"\n",
      "if not hack:\n",
      "    all_data[\"ending_in_na\"] = all_data[\"home.dest\"].apply(is_state)"
     ],
     "language": "python",
     "metadata": {},
     "outputs": [],
     "prompt_number": 18
    },
    {
     "cell_type": "heading",
     "level": 4,
     "metadata": {},
     "source": [
      "Title"
     ]
    },
    {
     "cell_type": "code",
     "collapsed": false,
     "input": [
      "all_data[\"title\"] = \"\"\n",
      "all_data[\"title\"][all_data[\"name\"].str.contains('Sir[\\. ]|Capt[\\. ]|Col[\\. ]|Don[\\. ]|Dr[\\. ]|Jonkheer[\\. ]|Major[\\. ]|Rev[\\. ]|Sir[\\. ]')] = \"noble\"\n",
      "all_data[\"title\"][all_data[\"name\"].str.contains('Mme[\\. ]|Mlle[\\. ]')] = \"mlle\"\n",
      "all_data[\"title\"][all_data[\"name\"].str.contains('Dona[\\. ]|Countess[\\. ]|Lady[\\. ]')] = \"lady\""
     ],
     "language": "python",
     "metadata": {},
     "outputs": [
      {
       "output_type": "stream",
       "stream": "stderr",
       "text": [
        "-c:2: SettingWithCopyWarning: \n",
        "A value is trying to be set on a copy of a slice from a DataFrame\n",
        "\n",
        "See the the caveats in the documentation: http://pandas.pydata.org/pandas-docs/stable/indexing.html#indexing-view-versus-copy\n",
        "-c:3: SettingWithCopyWarning: \n",
        "A value is trying to be set on a copy of a slice from a DataFrame\n",
        "\n",
        "See the the caveats in the documentation: http://pandas.pydata.org/pandas-docs/stable/indexing.html#indexing-view-versus-copy\n"
       ]
      },
      {
       "output_type": "stream",
       "stream": "stderr",
       "text": [
        "-c:4: SettingWithCopyWarning: \n",
        "A value is trying to be set on a copy of a slice from a DataFrame\n",
        "\n",
        "See the the caveats in the documentation: http://pandas.pydata.org/pandas-docs/stable/indexing.html#indexing-view-versus-copy\n"
       ]
      }
     ],
     "prompt_number": 19
    },
    {
     "cell_type": "heading",
     "level": 4,
     "metadata": {},
     "source": [
      "Family Size"
     ]
    },
    {
     "cell_type": "code",
     "collapsed": false,
     "input": [
      "all_data[\"family_size\"] = all_data.sibsp + all_data.parch + 1"
     ],
     "language": "python",
     "metadata": {},
     "outputs": [],
     "prompt_number": 20
    },
    {
     "cell_type": "heading",
     "level": 4,
     "metadata": {},
     "source": [
      "Place on Ship"
     ]
    },
    {
     "cell_type": "code",
     "collapsed": false,
     "input": [
      "all_data[\"side\"] = \"unknown\"\n",
      "all_data[\"cabin_last_digit\"] = all_data.cabin.apply(lambda x: int(0 if str(x)[-1:] in string.letters else str(x)[-1:]))\n",
      "all_data[\"side\"][all_data[\"cabin_last_digit\"] % 2 == 0] = \"port\"\n",
      "all_data[\"side\"][all_data[\"cabin_last_digit\"] % 2 != 0] = \"starboard\"\n",
      "all_data[\"side\"][all_data[\"cabin_last_digit\"] == 0] = \"unknown\"\n",
      "all_data.drop(\"cabin_last_digit\", axis=1, inplace=True)"
     ],
     "language": "python",
     "metadata": {},
     "outputs": [
      {
       "output_type": "stream",
       "stream": "stderr",
       "text": [
        "-c:5: SettingWithCopyWarning: \n",
        "A value is trying to be set on a copy of a slice from a DataFrame\n",
        "\n",
        "See the the caveats in the documentation: http://pandas.pydata.org/pandas-docs/stable/indexing.html#indexing-view-versus-copy\n"
       ]
      }
     ],
     "prompt_number": 21
    },
    {
     "cell_type": "heading",
     "level": 4,
     "metadata": {},
     "source": [
      "Classifying Fares"
     ]
    },
    {
     "cell_type": "code",
     "collapsed": false,
     "input": [
      "all_data[\"fare2\"] = \"<10\"\n",
      "all_data[\"fare2\"][all_data[\"fare\"] >= 10] = \"20-30\"\n",
      "all_data[\"fare2\"][all_data[\"fare\"] >= 20] = \"10-20\"\n",
      "all_data[\"fare2\"][all_data[\"fare\"] >= 30] = \"30+\""
     ],
     "language": "python",
     "metadata": {},
     "outputs": [],
     "prompt_number": 22
    },
    {
     "cell_type": "heading",
     "level": 4,
     "metadata": {},
     "source": [
      "Passenger Name Length"
     ]
    },
    {
     "cell_type": "code",
     "collapsed": false,
     "input": [
      "all_data[\"name_length\"] = all_data[\"name\"].apply(len)"
     ],
     "language": "python",
     "metadata": {},
     "outputs": [],
     "prompt_number": 23
    },
    {
     "cell_type": "heading",
     "level": 4,
     "metadata": {},
     "source": [
      "Adding Variables Names"
     ]
    },
    {
     "cell_type": "code",
     "collapsed": false,
     "input": [
      "all_data[\"has_cabin_info\"] = all_data[\"cabin\"].apply(lambda x: 1 if x > 0 else 0)"
     ],
     "language": "python",
     "metadata": {},
     "outputs": [],
     "prompt_number": 24
    },
    {
     "cell_type": "heading",
     "level": 4,
     "metadata": {},
     "source": [
      "zscore"
     ]
    },
    {
     "cell_type": "code",
     "collapsed": false,
     "input": [
      "mean_fare = all_data[\"fare\"].mean()\n",
      "stdev_fare = np.std(all_data[\"fare\"])\n",
      "all_data[\"zfare\"] = map(lambda x: (x - mean_fare) / stdev_fare, all_data[\"fare\"])\n",
      "all_data[\"zfare\"].count()"
     ],
     "language": "python",
     "metadata": {},
     "outputs": [
      {
       "metadata": {},
       "output_type": "pyout",
       "prompt_number": 25,
       "text": [
        "1308"
       ]
      }
     ],
     "prompt_number": 25
    },
    {
     "cell_type": "code",
     "collapsed": false,
     "input": [
      "all_data.head()"
     ],
     "language": "python",
     "metadata": {},
     "outputs": [
      {
       "html": [
        "<div style=\"max-height:1000px;max-width:1500px;overflow:auto;\">\n",
        "<table border=\"1\" class=\"dataframe\">\n",
        "  <thead>\n",
        "    <tr style=\"text-align: right;\">\n",
        "      <th></th>\n",
        "      <th>age</th>\n",
        "      <th>cabin</th>\n",
        "      <th>embarked</th>\n",
        "      <th>fare</th>\n",
        "      <th>home.dest</th>\n",
        "      <th>name</th>\n",
        "      <th>parch</th>\n",
        "      <th>passenger_id</th>\n",
        "      <th>pclass</th>\n",
        "      <th>set_type</th>\n",
        "      <th>...</th>\n",
        "      <th>survived</th>\n",
        "      <th>ticket</th>\n",
        "      <th>ending_in_na</th>\n",
        "      <th>title</th>\n",
        "      <th>family_size</th>\n",
        "      <th>side</th>\n",
        "      <th>fare2</th>\n",
        "      <th>name_length</th>\n",
        "      <th>has_cabin_info</th>\n",
        "      <th>zfare</th>\n",
        "    </tr>\n",
        "  </thead>\n",
        "  <tbody>\n",
        "    <tr>\n",
        "      <th>0</th>\n",
        "      <td> 39.000000</td>\n",
        "      <td> C85</td>\n",
        "      <td> C</td>\n",
        "      <td>  71.2833</td>\n",
        "      <td>         New York, NY</td>\n",
        "      <td> Cumings, Mr. John Bradley</td>\n",
        "      <td> 0</td>\n",
        "      <td> 0</td>\n",
        "      <td> 1</td>\n",
        "      <td> training</td>\n",
        "      <td>...</td>\n",
        "      <td> 0</td>\n",
        "      <td>  PC 17599</td>\n",
        "      <td> Unknown</td>\n",
        "      <td> </td>\n",
        "      <td> 2</td>\n",
        "      <td> starboard</td>\n",
        "      <td>   30+</td>\n",
        "      <td> 25</td>\n",
        "      <td> 1</td>\n",
        "      <td> 0.722122</td>\n",
        "    </tr>\n",
        "    <tr>\n",
        "      <th>1</th>\n",
        "      <td> 39.000000</td>\n",
        "      <td> NaN</td>\n",
        "      <td> S</td>\n",
        "      <td> 211.3375</td>\n",
        "      <td>                  NaN</td>\n",
        "      <td>    Kreuchen, Miss. Emilie</td>\n",
        "      <td> 0</td>\n",
        "      <td> 1</td>\n",
        "      <td> 1</td>\n",
        "      <td> training</td>\n",
        "      <td>...</td>\n",
        "      <td> 1</td>\n",
        "      <td>     24160</td>\n",
        "      <td> Unknown</td>\n",
        "      <td> </td>\n",
        "      <td> 1</td>\n",
        "      <td>   unknown</td>\n",
        "      <td>   30+</td>\n",
        "      <td> 22</td>\n",
        "      <td> 0</td>\n",
        "      <td> 3.427626</td>\n",
        "    </tr>\n",
        "    <tr>\n",
        "      <th>2</th>\n",
        "      <td> 36.000000</td>\n",
        "      <td> NaN</td>\n",
        "      <td> S</td>\n",
        "      <td>   7.4958</td>\n",
        "      <td> Bulgaria Chicago, IL</td>\n",
        "      <td>          Coleff, Mr. Peju</td>\n",
        "      <td> 0</td>\n",
        "      <td> 2</td>\n",
        "      <td> 3</td>\n",
        "      <td> training</td>\n",
        "      <td>...</td>\n",
        "      <td> 0</td>\n",
        "      <td>    349210</td>\n",
        "      <td> Unknown</td>\n",
        "      <td> </td>\n",
        "      <td> 1</td>\n",
        "      <td>   unknown</td>\n",
        "      <td>   &lt;10</td>\n",
        "      <td> 16</td>\n",
        "      <td> 0</td>\n",
        "      <td>-0.510096</td>\n",
        "    </tr>\n",
        "    <tr>\n",
        "      <th>3</th>\n",
        "      <td> 24.816367</td>\n",
        "      <td> NaN</td>\n",
        "      <td> S</td>\n",
        "      <td>   8.0500</td>\n",
        "      <td>                  NaN</td>\n",
        "      <td>        Spector, Mr. Woolf</td>\n",
        "      <td> 0</td>\n",
        "      <td> 3</td>\n",
        "      <td> 3</td>\n",
        "      <td> training</td>\n",
        "      <td>...</td>\n",
        "      <td> 0</td>\n",
        "      <td> A.5. 3236</td>\n",
        "      <td> Unknown</td>\n",
        "      <td> </td>\n",
        "      <td> 1</td>\n",
        "      <td>   unknown</td>\n",
        "      <td>   &lt;10</td>\n",
        "      <td> 18</td>\n",
        "      <td> 0</td>\n",
        "      <td>-0.499390</td>\n",
        "    </tr>\n",
        "    <tr>\n",
        "      <th>4</th>\n",
        "      <td> 20.000000</td>\n",
        "      <td> NaN</td>\n",
        "      <td> C</td>\n",
        "      <td>  15.7417</td>\n",
        "      <td>                  NaN</td>\n",
        "      <td>          Nakid, Mr. Sahid</td>\n",
        "      <td> 1</td>\n",
        "      <td> 4</td>\n",
        "      <td> 3</td>\n",
        "      <td> training</td>\n",
        "      <td>...</td>\n",
        "      <td> 1</td>\n",
        "      <td>      2653</td>\n",
        "      <td> Unknown</td>\n",
        "      <td> </td>\n",
        "      <td> 3</td>\n",
        "      <td>   unknown</td>\n",
        "      <td> 20-30</td>\n",
        "      <td> 16</td>\n",
        "      <td> 0</td>\n",
        "      <td>-0.350805</td>\n",
        "    </tr>\n",
        "  </tbody>\n",
        "</table>\n",
        "<p>5 rows \u00d7 22 columns</p>\n",
        "</div>"
       ],
       "metadata": {},
       "output_type": "pyout",
       "prompt_number": 26,
       "text": [
        "         age cabin embarked      fare             home.dest  \\\n",
        "0  39.000000   C85        C   71.2833          New York, NY   \n",
        "1  39.000000   NaN        S  211.3375                   NaN   \n",
        "2  36.000000   NaN        S    7.4958  Bulgaria Chicago, IL   \n",
        "3  24.816367   NaN        S    8.0500                   NaN   \n",
        "4  20.000000   NaN        C   15.7417                   NaN   \n",
        "\n",
        "                        name  parch  passenger_id  pclass  set_type    ...     \\\n",
        "0  Cumings, Mr. John Bradley      0             0       1  training    ...      \n",
        "1     Kreuchen, Miss. Emilie      0             1       1  training    ...      \n",
        "2           Coleff, Mr. Peju      0             2       3  training    ...      \n",
        "3         Spector, Mr. Woolf      0             3       3  training    ...      \n",
        "4           Nakid, Mr. Sahid      1             4       3  training    ...      \n",
        "\n",
        "  survived     ticket  ending_in_na title family_size       side  fare2  \\\n",
        "0        0   PC 17599       Unknown                 2  starboard    30+   \n",
        "1        1      24160       Unknown                 1    unknown    30+   \n",
        "2        0     349210       Unknown                 1    unknown    <10   \n",
        "3        0  A.5. 3236       Unknown                 1    unknown    <10   \n",
        "4        1       2653       Unknown                 3    unknown  20-30   \n",
        "\n",
        "  name_length has_cabin_info     zfare  \n",
        "0          25              1  0.722122  \n",
        "1          22              0  3.427626  \n",
        "2          16              0 -0.510096  \n",
        "3          18              0 -0.499390  \n",
        "4          16              0 -0.350805  \n",
        "\n",
        "[5 rows x 22 columns]"
       ]
      }
     ],
     "prompt_number": 26
    },
    {
     "cell_type": "heading",
     "level": 2,
     "metadata": {},
     "source": [
      "Transform Variables"
     ]
    },
    {
     "cell_type": "code",
     "collapsed": false,
     "input": [
      "all_data.dtypes"
     ],
     "language": "python",
     "metadata": {},
     "outputs": [
      {
       "metadata": {},
       "output_type": "pyout",
       "prompt_number": 31,
       "text": [
        "age               float64\n",
        "cabin              object\n",
        "embarked           object\n",
        "fare              float64\n",
        "home.dest          object\n",
        "name               object\n",
        "parch               int64\n",
        "passenger_id        int64\n",
        "pclass              int64\n",
        "set_type           object\n",
        "sex                object\n",
        "sibsp               int64\n",
        "survived          float64\n",
        "ticket             object\n",
        "ending_in_na       object\n",
        "title              object\n",
        "family_size         int64\n",
        "side               object\n",
        "fare2              object\n",
        "name_length         int64\n",
        "has_cabin_info      int64\n",
        "zfare             float64\n",
        "dtype: object"
       ]
      }
     ],
     "prompt_number": 31
    },
    {
     "cell_type": "code",
     "collapsed": false,
     "input": [
      "training_data = all_data[all_data[\"set_type\"] == \"training\"]\n",
      "testing_data = all_data[all_data[\"set_type\"] == \"testing\"]\n",
      "Y = training_data[\"survived\"]"
     ],
     "language": "python",
     "metadata": {},
     "outputs": [],
     "prompt_number": 67
    },
    {
     "cell_type": "heading",
     "level": 4,
     "metadata": {},
     "source": [
      "Numeric Variables"
     ]
    },
    {
     "cell_type": "code",
     "collapsed": false,
     "input": [
      "numeric_variables = [col for col in all_data.columns if all_data[col].dtype in [float, int]]\n",
      "categorical_variables = [col for col in all_data.columns if all_data[col].dtype in [object]]\n",
      "numeric_features = [\"pclass\", \"family_size\", \"has_cabin_info\"]\n",
      "categorical_features = [\"sex\", \"fare2\"]"
     ],
     "language": "python",
     "metadata": {},
     "outputs": [],
     "prompt_number": 68
    },
    {
     "cell_type": "code",
     "collapsed": false,
     "input": [
      "training_data[numeric_variables].apply(np.isnan).any()"
     ],
     "language": "python",
     "metadata": {},
     "outputs": [
      {
       "metadata": {},
       "output_type": "pyout",
       "prompt_number": 81,
       "text": [
        "age               False\n",
        "fare               True\n",
        "parch             False\n",
        "passenger_id      False\n",
        "pclass            False\n",
        "sibsp             False\n",
        "survived          False\n",
        "family_size       False\n",
        "name_length       False\n",
        "has_cabin_info    False\n",
        "zfare              True\n",
        "dtype: bool"
       ]
      }
     ],
     "prompt_number": 81
    },
    {
     "cell_type": "code",
     "collapsed": false,
     "input": [
      "X_train_num = training_data[numeric_variables].as_matrix()\n",
      "X_test_num = testing_data[numeric_variables].as_matrix()"
     ],
     "language": "python",
     "metadata": {},
     "outputs": [],
     "prompt_number": 82
    },
    {
     "cell_type": "heading",
     "level": 4,
     "metadata": {},
     "source": [
      "Categorical Variables"
     ]
    },
    {
     "cell_type": "code",
     "collapsed": false,
     "input": [
      "training_data[categorical_variables].fillna( 'NA', inplace = True )\n",
      "testing_data[categorical_variables].fillna( 'NA', inplace = True )\n",
      "\n",
      "v = DictVectorizer(sparse = False).fit(all_data[categorical_variables].T.to_dict().values())\n",
      "X_train_cat = v.transform(training_data[categorical_variables].T.to_dict().values())\n",
      "X_test_cat = v.transform(testing_data[categorical_variables].T.to_dict().values())"
     ],
     "language": "python",
     "metadata": {},
     "outputs": [],
     "prompt_number": 83
    },
    {
     "cell_type": "heading",
     "level": 4,
     "metadata": {},
     "source": [
      "Combine Numeric and Categorical"
     ]
    },
    {
     "cell_type": "code",
     "collapsed": false,
     "input": [
      "X_train = np.hstack(( X_train_num, X_train_cat ))\n",
      "X_test = np.hstack(( X_test_num, X_test_cat ))"
     ],
     "language": "python",
     "metadata": {},
     "outputs": [],
     "prompt_number": 84
    },
    {
     "cell_type": "code",
     "collapsed": false,
     "input": [
      "print X_train.shape, X_train_num.shape, X_train_cat.shape\n",
      "print X_test.shape, X_test_num.shape, X_test_cat.shape"
     ],
     "language": "python",
     "metadata": {},
     "outputs": [
      {
       "output_type": "stream",
       "stream": "stdout",
       "text": [
        "(785, 1818) (785, 11) (785, 1807)\n",
        "(524, 1818) (524, 11) (524, 1807)\n",
        "[ nan  nan  nan  nan  nan  nan  nan  nan  nan  nan  nan  nan  nan  nan  nan\n",
        "  nan  nan  nan  nan  nan  nan  nan  nan  nan  nan  nan  nan  nan  nan  nan\n",
        "  nan  nan  nan  nan  nan  nan  nan  nan  nan  nan  nan  nan  nan  nan  nan\n",
        "  nan  nan  nan  nan  nan  nan  nan  nan  nan  nan  nan  nan  nan  nan  nan\n",
        "  nan  nan  nan  nan  nan  nan  nan  nan  nan  nan  nan  nan  nan  nan  nan\n",
        "  nan  nan  nan  nan  nan  nan  nan  nan  nan  nan  nan  nan  nan  nan  nan\n",
        "  nan  nan  nan  nan  nan  nan  nan  nan  nan  nan  nan  nan  nan  nan  nan\n",
        "  nan  nan  nan  nan  nan  nan  nan  nan  nan  nan  nan  nan  nan  nan  nan\n",
        "  nan  nan  nan  nan  nan  nan  nan  nan  nan  nan  nan  nan  nan  nan  nan\n",
        "  nan  nan  nan  nan  nan  nan  nan  nan  nan  nan  nan  nan  nan  nan  nan\n",
        "  nan  nan  nan  nan  nan  nan  nan  nan  nan  nan  nan  nan  nan  nan  nan\n",
        "  nan  nan  nan  nan  nan  nan  nan  nan  nan  nan  nan  nan  nan  nan  nan\n",
        "  nan  nan  nan  nan  nan  nan  nan  nan  nan  nan  nan  nan  nan  nan  nan\n",
        "  nan  nan  nan  nan  nan  nan  nan  nan  nan  nan  nan  nan  nan  nan  nan\n",
        "  nan  nan  nan  nan  nan  nan  nan  nan  nan  nan  nan  nan  nan  nan  nan\n",
        "  nan  nan  nan  nan  nan  nan  nan  nan  nan  nan  nan  nan  nan  nan  nan\n",
        "  nan  nan  nan  nan  nan  nan  nan  nan  nan  nan  nan  nan  nan  nan  nan\n",
        "  nan  nan  nan  nan  nan  nan  nan  nan  nan  nan  nan  nan  nan  nan  nan\n",
        "  nan  nan  nan  nan  nan  nan  nan  nan  nan  nan  nan  nan  nan  nan  nan\n",
        "  nan  nan  nan  nan  nan  nan  nan  nan  nan  nan  nan  nan  nan  nan  nan\n",
        "  nan  nan  nan  nan  nan  nan  nan  nan  nan  nan  nan  nan  nan  nan  nan\n",
        "  nan  nan  nan  nan  nan  nan  nan  nan  nan  nan  nan  nan  nan  nan  nan\n",
        "  nan  nan  nan  nan  nan  nan  nan  nan  nan  nan  nan  nan  nan  nan  nan\n",
        "  nan  nan  nan  nan  nan  nan  nan  nan  nan  nan  nan  nan  nan  nan  nan\n",
        "  nan  nan  nan  nan  nan  nan  nan  nan  nan  nan  nan  nan  nan  nan  nan\n",
        "  nan  nan  nan  nan  nan  nan  nan  nan  nan  nan  nan  nan  nan  nan  nan\n",
        "  nan  nan  nan  nan  nan  nan  nan  nan  nan  nan  nan  nan  nan  nan  nan\n",
        "  nan  nan  nan  nan  nan  nan  nan  nan  nan  nan  nan  nan  nan  nan  nan\n",
        "  nan  nan  nan  nan  nan  nan  nan  nan  nan  nan  nan  nan  nan  nan  nan\n",
        "  nan  nan  nan  nan  nan  nan  nan  nan  nan  nan  nan  nan  nan  nan  nan\n",
        "  nan  nan  nan  nan  nan  nan  nan  nan  nan  nan  nan  nan  nan  nan  nan\n",
        "  nan  nan  nan  nan  nan  nan  nan  nan  nan  nan  nan  nan  nan  nan  nan\n",
        "  nan  nan  nan  nan  nan  nan  nan  nan  nan  nan  nan  nan  nan  nan  nan\n",
        "  nan  nan  nan  nan  nan  nan  nan  nan  nan  nan  nan  nan  nan  nan  nan\n",
        "  nan  nan  nan  nan  nan  nan  nan  nan  nan  nan  nan  nan  nan  nan  nan\n",
        "  nan  nan  nan  nan  nan  nan  nan  nan  nan  nan  nan  nan  nan  nan  nan\n",
        "  nan  nan  nan  nan  nan  nan  nan  nan  nan  nan  nan  nan  nan  nan  nan\n",
        "  nan  nan  nan  nan  nan  nan  nan  nan  nan  nan  nan  nan  nan  nan  nan\n",
        "  nan  nan  nan  nan  nan  nan  nan  nan  nan  nan  nan  nan  nan  nan  nan\n",
        "  nan  nan  nan  nan  nan  nan  nan  nan  nan  nan  nan  nan  nan  nan  nan\n",
        "  nan  nan  nan  nan  nan  nan  nan  nan  nan  nan  nan  nan  nan  nan  nan\n",
        "  nan  nan  nan  nan  nan  nan  nan  nan  nan  nan  nan  nan  nan  nan  nan\n",
        "  nan  nan  nan  nan  nan  nan  nan  nan  nan  nan  nan  nan  nan  nan  nan\n",
        "  nan  nan  nan  nan  nan  nan  nan  nan  nan  nan  nan  nan  nan  nan  nan\n",
        "  nan  nan  nan  nan  nan  nan  nan  nan  nan  nan  nan  nan  nan  nan  nan\n",
        "  nan  nan  nan  nan  nan  nan  nan  nan  nan  nan  nan  nan  nan  nan  nan\n",
        "  nan  nan  nan  nan  nan  nan  nan  nan  nan  nan  nan  nan  nan  nan  nan\n",
        "  nan  nan  nan  nan  nan  nan  nan  nan  nan  nan  nan  nan  nan  nan  nan\n",
        "  nan  nan  nan  nan  nan  nan  nan  nan  nan  nan  nan  nan  nan  nan  nan\n",
        "  nan  nan  nan  nan  nan  nan  nan  nan  nan  nan  nan  nan  nan  nan  nan\n",
        "  nan  nan  nan  nan  nan  nan  nan  nan  nan  nan  nan  nan  nan  nan  nan\n",
        "  nan  nan  nan  nan  nan  nan  nan  nan  nan  nan  nan  nan  nan  nan  nan\n",
        "  nan  nan  nan  nan  nan  nan  nan  nan  nan  nan  nan  nan  nan  nan  nan\n",
        "  nan  nan  nan  nan  nan  nan  nan  nan  nan  nan  nan  nan  nan  nan  nan\n",
        "  nan  nan  nan  nan  nan  nan  nan  nan  nan  nan  nan  nan  nan  nan  nan\n",
        "  nan  nan  nan  nan  nan  nan  nan  nan  nan  nan  nan  nan  nan  nan  nan\n",
        "  nan  nan  nan  nan  nan  nan  nan  nan  nan  nan  nan  nan  nan  nan  nan\n",
        "  nan  nan  nan  nan  nan  nan  nan  nan  nan  nan  nan  nan  nan  nan  nan\n",
        "  nan  nan  nan  nan  nan  nan  nan  nan  nan  nan  nan  nan  nan  nan  nan\n",
        "  nan  nan  nan  nan  nan  nan  nan  nan  nan  nan  nan  nan  nan  nan  nan\n",
        "  nan  nan  nan  nan  nan  nan  nan  nan  nan  nan  nan  nan  nan  nan  nan\n",
        "  nan  nan  nan  nan  nan  nan  nan  nan  nan  nan  nan  nan  nan  nan  nan\n",
        "  nan  nan  nan  nan  nan  nan  nan  nan  nan  nan  nan]"
       ]
      },
      {
       "output_type": "stream",
       "stream": "stdout",
       "text": [
        "\n",
        "[ nan  nan  nan ...,  nan  nan  nan]\n"
       ]
      }
     ],
     "prompt_number": 97
    },
    {
     "cell_type": "heading",
     "level": 3,
     "metadata": {},
     "source": [
      "SVM Model"
     ]
    },
    {
     "cell_type": "heading",
     "level": 4,
     "metadata": {},
     "source": [
      "Train the model"
     ]
    },
    {
     "cell_type": "code",
     "collapsed": false,
     "input": [
      "# kf_total = cross_validation.KFold(len(X_train), n_folds=5, shuffle=True, random_state=4)\n",
      "clf = svm.SVC()\n",
      "# clf = svm.LinearSVC()\n",
      "# clf = svm.SVC(kernel='poly', gamma=3) \n",
      "parameter_grid = {\n",
      "    'kernel' : ['rbf'],\n",
      "    'gamma': [0.0,0.1,0.01],\n",
      "    'C': [1., 10., 100.]\n",
      "}\n",
      "clfgs = grid_search.GridSearchCV(estimator=clf, param_grid=parameter_grid, n_jobs=1, cv=5) # , verbose=3\n",
      "clfgs.fit(X_train, Y)\n",
      "print clfgs.best_estimator_\n",
      "print clfgs.best_score_"
     ],
     "language": "python",
     "metadata": {},
     "outputs": [
      {
       "ename": "ValueError",
       "evalue": "Input contains NaN, infinity or a value too large for dtype('float64').",
       "output_type": "pyerr",
       "traceback": [
        "\u001b[0;31m---------------------------------------------------------------------------\u001b[0m\n\u001b[0;31mValueError\u001b[0m                                Traceback (most recent call last)",
        "\u001b[0;32m<ipython-input-86-31969f7bb7a9>\u001b[0m in \u001b[0;36m<module>\u001b[0;34m()\u001b[0m\n\u001b[1;32m      9\u001b[0m }\n\u001b[1;32m     10\u001b[0m \u001b[0mclfgs\u001b[0m \u001b[0;34m=\u001b[0m \u001b[0mgrid_search\u001b[0m\u001b[0;34m.\u001b[0m\u001b[0mGridSearchCV\u001b[0m\u001b[0;34m(\u001b[0m\u001b[0mestimator\u001b[0m\u001b[0;34m=\u001b[0m\u001b[0mclf\u001b[0m\u001b[0;34m,\u001b[0m \u001b[0mparam_grid\u001b[0m\u001b[0;34m=\u001b[0m\u001b[0mparameter_grid\u001b[0m\u001b[0;34m,\u001b[0m \u001b[0mn_jobs\u001b[0m\u001b[0;34m=\u001b[0m\u001b[0;36m1\u001b[0m\u001b[0;34m,\u001b[0m \u001b[0mcv\u001b[0m\u001b[0;34m=\u001b[0m\u001b[0;36m5\u001b[0m\u001b[0;34m)\u001b[0m \u001b[0;31m# , verbose=3\u001b[0m\u001b[0;34m\u001b[0m\u001b[0m\n\u001b[0;32m---> 11\u001b[0;31m \u001b[0mclfgs\u001b[0m\u001b[0;34m.\u001b[0m\u001b[0mfit\u001b[0m\u001b[0;34m(\u001b[0m\u001b[0mX_train\u001b[0m\u001b[0;34m,\u001b[0m \u001b[0mY\u001b[0m\u001b[0;34m)\u001b[0m\u001b[0;34m\u001b[0m\u001b[0m\n\u001b[0m\u001b[1;32m     12\u001b[0m \u001b[0;32mprint\u001b[0m \u001b[0mclfgs\u001b[0m\u001b[0;34m.\u001b[0m\u001b[0mbest_estimator_\u001b[0m\u001b[0;34m\u001b[0m\u001b[0m\n\u001b[1;32m     13\u001b[0m \u001b[0;32mprint\u001b[0m \u001b[0mclfgs\u001b[0m\u001b[0;34m.\u001b[0m\u001b[0mbest_score_\u001b[0m\u001b[0;34m\u001b[0m\u001b[0m\n",
        "\u001b[0;32m/Users/acchi369/anaconda/lib/python2.7/site-packages/sklearn/grid_search.pyc\u001b[0m in \u001b[0;36mfit\u001b[0;34m(self, X, y)\u001b[0m\n\u001b[1;32m    594\u001b[0m \u001b[0;34m\u001b[0m\u001b[0m\n\u001b[1;32m    595\u001b[0m         \"\"\"\n\u001b[0;32m--> 596\u001b[0;31m         \u001b[0;32mreturn\u001b[0m \u001b[0mself\u001b[0m\u001b[0;34m.\u001b[0m\u001b[0m_fit\u001b[0m\u001b[0;34m(\u001b[0m\u001b[0mX\u001b[0m\u001b[0;34m,\u001b[0m \u001b[0my\u001b[0m\u001b[0;34m,\u001b[0m \u001b[0mParameterGrid\u001b[0m\u001b[0;34m(\u001b[0m\u001b[0mself\u001b[0m\u001b[0;34m.\u001b[0m\u001b[0mparam_grid\u001b[0m\u001b[0;34m)\u001b[0m\u001b[0;34m)\u001b[0m\u001b[0;34m\u001b[0m\u001b[0m\n\u001b[0m\u001b[1;32m    597\u001b[0m \u001b[0;34m\u001b[0m\u001b[0m\n\u001b[1;32m    598\u001b[0m \u001b[0;34m\u001b[0m\u001b[0m\n",
        "\u001b[0;32m/Users/acchi369/anaconda/lib/python2.7/site-packages/sklearn/grid_search.pyc\u001b[0m in \u001b[0;36m_fit\u001b[0;34m(self, X, y, parameter_iterable)\u001b[0m\n\u001b[1;32m    376\u001b[0m                                     \u001b[0mtrain\u001b[0m\u001b[0;34m,\u001b[0m \u001b[0mtest\u001b[0m\u001b[0;34m,\u001b[0m \u001b[0mself\u001b[0m\u001b[0;34m.\u001b[0m\u001b[0mverbose\u001b[0m\u001b[0;34m,\u001b[0m \u001b[0mparameters\u001b[0m\u001b[0;34m,\u001b[0m\u001b[0;34m\u001b[0m\u001b[0m\n\u001b[1;32m    377\u001b[0m                                     self.fit_params, return_parameters=True)\n\u001b[0;32m--> 378\u001b[0;31m             \u001b[0;32mfor\u001b[0m \u001b[0mparameters\u001b[0m \u001b[0;32min\u001b[0m \u001b[0mparameter_iterable\u001b[0m\u001b[0;34m\u001b[0m\u001b[0m\n\u001b[0m\u001b[1;32m    379\u001b[0m             for train, test in cv)\n\u001b[1;32m    380\u001b[0m \u001b[0;34m\u001b[0m\u001b[0m\n",
        "\u001b[0;32m/Users/acchi369/anaconda/lib/python2.7/site-packages/sklearn/externals/joblib/parallel.pyc\u001b[0m in \u001b[0;36m__call__\u001b[0;34m(self, iterable)\u001b[0m\n\u001b[1;32m    651\u001b[0m             \u001b[0mself\u001b[0m\u001b[0;34m.\u001b[0m\u001b[0m_iterating\u001b[0m \u001b[0;34m=\u001b[0m \u001b[0mTrue\u001b[0m\u001b[0;34m\u001b[0m\u001b[0m\n\u001b[1;32m    652\u001b[0m             \u001b[0;32mfor\u001b[0m \u001b[0mfunction\u001b[0m\u001b[0;34m,\u001b[0m \u001b[0margs\u001b[0m\u001b[0;34m,\u001b[0m \u001b[0mkwargs\u001b[0m \u001b[0;32min\u001b[0m \u001b[0miterable\u001b[0m\u001b[0;34m:\u001b[0m\u001b[0;34m\u001b[0m\u001b[0m\n\u001b[0;32m--> 653\u001b[0;31m                 \u001b[0mself\u001b[0m\u001b[0;34m.\u001b[0m\u001b[0mdispatch\u001b[0m\u001b[0;34m(\u001b[0m\u001b[0mfunction\u001b[0m\u001b[0;34m,\u001b[0m \u001b[0margs\u001b[0m\u001b[0;34m,\u001b[0m \u001b[0mkwargs\u001b[0m\u001b[0;34m)\u001b[0m\u001b[0;34m\u001b[0m\u001b[0m\n\u001b[0m\u001b[1;32m    654\u001b[0m \u001b[0;34m\u001b[0m\u001b[0m\n\u001b[1;32m    655\u001b[0m             \u001b[0;32mif\u001b[0m \u001b[0mpre_dispatch\u001b[0m \u001b[0;34m==\u001b[0m \u001b[0;34m\"all\"\u001b[0m \u001b[0;32mor\u001b[0m \u001b[0mn_jobs\u001b[0m \u001b[0;34m==\u001b[0m \u001b[0;36m1\u001b[0m\u001b[0;34m:\u001b[0m\u001b[0;34m\u001b[0m\u001b[0m\n",
        "\u001b[0;32m/Users/acchi369/anaconda/lib/python2.7/site-packages/sklearn/externals/joblib/parallel.pyc\u001b[0m in \u001b[0;36mdispatch\u001b[0;34m(self, func, args, kwargs)\u001b[0m\n\u001b[1;32m    398\u001b[0m         \"\"\"\n\u001b[1;32m    399\u001b[0m         \u001b[0;32mif\u001b[0m \u001b[0mself\u001b[0m\u001b[0;34m.\u001b[0m\u001b[0m_pool\u001b[0m \u001b[0;32mis\u001b[0m \u001b[0mNone\u001b[0m\u001b[0;34m:\u001b[0m\u001b[0;34m\u001b[0m\u001b[0m\n\u001b[0;32m--> 400\u001b[0;31m             \u001b[0mjob\u001b[0m \u001b[0;34m=\u001b[0m \u001b[0mImmediateApply\u001b[0m\u001b[0;34m(\u001b[0m\u001b[0mfunc\u001b[0m\u001b[0;34m,\u001b[0m \u001b[0margs\u001b[0m\u001b[0;34m,\u001b[0m \u001b[0mkwargs\u001b[0m\u001b[0;34m)\u001b[0m\u001b[0;34m\u001b[0m\u001b[0m\n\u001b[0m\u001b[1;32m    401\u001b[0m             \u001b[0mindex\u001b[0m \u001b[0;34m=\u001b[0m \u001b[0mlen\u001b[0m\u001b[0;34m(\u001b[0m\u001b[0mself\u001b[0m\u001b[0;34m.\u001b[0m\u001b[0m_jobs\u001b[0m\u001b[0;34m)\u001b[0m\u001b[0;34m\u001b[0m\u001b[0m\n\u001b[1;32m    402\u001b[0m             \u001b[0;32mif\u001b[0m \u001b[0;32mnot\u001b[0m \u001b[0m_verbosity_filter\u001b[0m\u001b[0;34m(\u001b[0m\u001b[0mindex\u001b[0m\u001b[0;34m,\u001b[0m \u001b[0mself\u001b[0m\u001b[0;34m.\u001b[0m\u001b[0mverbose\u001b[0m\u001b[0;34m)\u001b[0m\u001b[0;34m:\u001b[0m\u001b[0;34m\u001b[0m\u001b[0m\n",
        "\u001b[0;32m/Users/acchi369/anaconda/lib/python2.7/site-packages/sklearn/externals/joblib/parallel.pyc\u001b[0m in \u001b[0;36m__init__\u001b[0;34m(self, func, args, kwargs)\u001b[0m\n\u001b[1;32m    136\u001b[0m         \u001b[0;31m# Don't delay the application, to avoid keeping the input\u001b[0m\u001b[0;34m\u001b[0m\u001b[0;34m\u001b[0m\u001b[0m\n\u001b[1;32m    137\u001b[0m         \u001b[0;31m# arguments in memory\u001b[0m\u001b[0;34m\u001b[0m\u001b[0;34m\u001b[0m\u001b[0m\n\u001b[0;32m--> 138\u001b[0;31m         \u001b[0mself\u001b[0m\u001b[0;34m.\u001b[0m\u001b[0mresults\u001b[0m \u001b[0;34m=\u001b[0m \u001b[0mfunc\u001b[0m\u001b[0;34m(\u001b[0m\u001b[0;34m*\u001b[0m\u001b[0margs\u001b[0m\u001b[0;34m,\u001b[0m \u001b[0;34m**\u001b[0m\u001b[0mkwargs\u001b[0m\u001b[0;34m)\u001b[0m\u001b[0;34m\u001b[0m\u001b[0m\n\u001b[0m\u001b[1;32m    139\u001b[0m \u001b[0;34m\u001b[0m\u001b[0m\n\u001b[1;32m    140\u001b[0m     \u001b[0;32mdef\u001b[0m \u001b[0mget\u001b[0m\u001b[0;34m(\u001b[0m\u001b[0mself\u001b[0m\u001b[0;34m)\u001b[0m\u001b[0;34m:\u001b[0m\u001b[0;34m\u001b[0m\u001b[0m\n",
        "\u001b[0;32m/Users/acchi369/anaconda/lib/python2.7/site-packages/sklearn/cross_validation.pyc\u001b[0m in \u001b[0;36m_fit_and_score\u001b[0;34m(estimator, X, y, scorer, train, test, verbose, parameters, fit_params, return_train_score, return_parameters)\u001b[0m\n\u001b[1;32m   1237\u001b[0m         \u001b[0mestimator\u001b[0m\u001b[0;34m.\u001b[0m\u001b[0mfit\u001b[0m\u001b[0;34m(\u001b[0m\u001b[0mX_train\u001b[0m\u001b[0;34m,\u001b[0m \u001b[0;34m**\u001b[0m\u001b[0mfit_params\u001b[0m\u001b[0;34m)\u001b[0m\u001b[0;34m\u001b[0m\u001b[0m\n\u001b[1;32m   1238\u001b[0m     \u001b[0;32melse\u001b[0m\u001b[0;34m:\u001b[0m\u001b[0;34m\u001b[0m\u001b[0m\n\u001b[0;32m-> 1239\u001b[0;31m         \u001b[0mestimator\u001b[0m\u001b[0;34m.\u001b[0m\u001b[0mfit\u001b[0m\u001b[0;34m(\u001b[0m\u001b[0mX_train\u001b[0m\u001b[0;34m,\u001b[0m \u001b[0my_train\u001b[0m\u001b[0;34m,\u001b[0m \u001b[0;34m**\u001b[0m\u001b[0mfit_params\u001b[0m\u001b[0;34m)\u001b[0m\u001b[0;34m\u001b[0m\u001b[0m\n\u001b[0m\u001b[1;32m   1240\u001b[0m     \u001b[0mtest_score\u001b[0m \u001b[0;34m=\u001b[0m \u001b[0m_score\u001b[0m\u001b[0;34m(\u001b[0m\u001b[0mestimator\u001b[0m\u001b[0;34m,\u001b[0m \u001b[0mX_test\u001b[0m\u001b[0;34m,\u001b[0m \u001b[0my_test\u001b[0m\u001b[0;34m,\u001b[0m \u001b[0mscorer\u001b[0m\u001b[0;34m)\u001b[0m\u001b[0;34m\u001b[0m\u001b[0m\n\u001b[1;32m   1241\u001b[0m     \u001b[0;32mif\u001b[0m \u001b[0mreturn_train_score\u001b[0m\u001b[0;34m:\u001b[0m\u001b[0;34m\u001b[0m\u001b[0m\n",
        "\u001b[0;32m/Users/acchi369/anaconda/lib/python2.7/site-packages/sklearn/svm/base.pyc\u001b[0m in \u001b[0;36mfit\u001b[0;34m(self, X, y, sample_weight)\u001b[0m\n\u001b[1;32m    135\u001b[0m         \u001b[0mself\u001b[0m\u001b[0;34m.\u001b[0m\u001b[0m_sparse\u001b[0m \u001b[0;34m=\u001b[0m \u001b[0msparse\u001b[0m \u001b[0;32mand\u001b[0m \u001b[0;32mnot\u001b[0m \u001b[0mcallable\u001b[0m\u001b[0;34m(\u001b[0m\u001b[0mself\u001b[0m\u001b[0;34m.\u001b[0m\u001b[0mkernel\u001b[0m\u001b[0;34m)\u001b[0m\u001b[0;34m\u001b[0m\u001b[0m\n\u001b[1;32m    136\u001b[0m \u001b[0;34m\u001b[0m\u001b[0m\n\u001b[0;32m--> 137\u001b[0;31m         \u001b[0mX\u001b[0m \u001b[0;34m=\u001b[0m \u001b[0matleast2d_or_csr\u001b[0m\u001b[0;34m(\u001b[0m\u001b[0mX\u001b[0m\u001b[0;34m,\u001b[0m \u001b[0mdtype\u001b[0m\u001b[0;34m=\u001b[0m\u001b[0mnp\u001b[0m\u001b[0;34m.\u001b[0m\u001b[0mfloat64\u001b[0m\u001b[0;34m,\u001b[0m \u001b[0morder\u001b[0m\u001b[0;34m=\u001b[0m\u001b[0;34m'C'\u001b[0m\u001b[0;34m)\u001b[0m\u001b[0;34m\u001b[0m\u001b[0m\n\u001b[0m\u001b[1;32m    138\u001b[0m         \u001b[0my\u001b[0m \u001b[0;34m=\u001b[0m \u001b[0mself\u001b[0m\u001b[0;34m.\u001b[0m\u001b[0m_validate_targets\u001b[0m\u001b[0;34m(\u001b[0m\u001b[0my\u001b[0m\u001b[0;34m)\u001b[0m\u001b[0;34m\u001b[0m\u001b[0m\n\u001b[1;32m    139\u001b[0m \u001b[0;34m\u001b[0m\u001b[0m\n",
        "\u001b[0;32m/Users/acchi369/anaconda/lib/python2.7/site-packages/sklearn/utils/validation.pyc\u001b[0m in \u001b[0;36matleast2d_or_csr\u001b[0;34m(X, dtype, order, copy, force_all_finite)\u001b[0m\n\u001b[1;32m    163\u001b[0m     return _atleast2d_or_sparse(X, dtype, order, copy, sp.csr_matrix,\n\u001b[1;32m    164\u001b[0m                                 \u001b[0;34m\"tocsr\"\u001b[0m\u001b[0;34m,\u001b[0m \u001b[0msp\u001b[0m\u001b[0;34m.\u001b[0m\u001b[0misspmatrix_csr\u001b[0m\u001b[0;34m,\u001b[0m\u001b[0;34m\u001b[0m\u001b[0m\n\u001b[0;32m--> 165\u001b[0;31m                                 force_all_finite)\n\u001b[0m\u001b[1;32m    166\u001b[0m \u001b[0;34m\u001b[0m\u001b[0m\n\u001b[1;32m    167\u001b[0m \u001b[0;34m\u001b[0m\u001b[0m\n",
        "\u001b[0;32m/Users/acchi369/anaconda/lib/python2.7/site-packages/sklearn/utils/validation.pyc\u001b[0m in \u001b[0;36m_atleast2d_or_sparse\u001b[0;34m(X, dtype, order, copy, sparse_class, convmethod, check_same_type, force_all_finite)\u001b[0m\n\u001b[1;32m    140\u001b[0m     \u001b[0;32melse\u001b[0m\u001b[0;34m:\u001b[0m\u001b[0;34m\u001b[0m\u001b[0m\n\u001b[1;32m    141\u001b[0m         X = array2d(X, dtype=dtype, order=order, copy=copy,\n\u001b[0;32m--> 142\u001b[0;31m                     force_all_finite=force_all_finite)\n\u001b[0m\u001b[1;32m    143\u001b[0m     \u001b[0;32mreturn\u001b[0m \u001b[0mX\u001b[0m\u001b[0;34m\u001b[0m\u001b[0m\n\u001b[1;32m    144\u001b[0m \u001b[0;34m\u001b[0m\u001b[0m\n",
        "\u001b[0;32m/Users/acchi369/anaconda/lib/python2.7/site-packages/sklearn/utils/validation.pyc\u001b[0m in \u001b[0;36marray2d\u001b[0;34m(X, dtype, order, copy, force_all_finite)\u001b[0m\n\u001b[1;32m    120\u001b[0m     \u001b[0mX_2d\u001b[0m \u001b[0;34m=\u001b[0m \u001b[0mnp\u001b[0m\u001b[0;34m.\u001b[0m\u001b[0masarray\u001b[0m\u001b[0;34m(\u001b[0m\u001b[0mnp\u001b[0m\u001b[0;34m.\u001b[0m\u001b[0matleast_2d\u001b[0m\u001b[0;34m(\u001b[0m\u001b[0mX\u001b[0m\u001b[0;34m)\u001b[0m\u001b[0;34m,\u001b[0m \u001b[0mdtype\u001b[0m\u001b[0;34m=\u001b[0m\u001b[0mdtype\u001b[0m\u001b[0;34m,\u001b[0m \u001b[0morder\u001b[0m\u001b[0;34m=\u001b[0m\u001b[0morder\u001b[0m\u001b[0;34m)\u001b[0m\u001b[0;34m\u001b[0m\u001b[0m\n\u001b[1;32m    121\u001b[0m     \u001b[0;32mif\u001b[0m \u001b[0mforce_all_finite\u001b[0m\u001b[0;34m:\u001b[0m\u001b[0;34m\u001b[0m\u001b[0m\n\u001b[0;32m--> 122\u001b[0;31m         \u001b[0m_assert_all_finite\u001b[0m\u001b[0;34m(\u001b[0m\u001b[0mX_2d\u001b[0m\u001b[0;34m)\u001b[0m\u001b[0;34m\u001b[0m\u001b[0m\n\u001b[0m\u001b[1;32m    123\u001b[0m     \u001b[0;32mif\u001b[0m \u001b[0mX\u001b[0m \u001b[0;32mis\u001b[0m \u001b[0mX_2d\u001b[0m \u001b[0;32mand\u001b[0m \u001b[0mcopy\u001b[0m\u001b[0;34m:\u001b[0m\u001b[0;34m\u001b[0m\u001b[0m\n\u001b[1;32m    124\u001b[0m         \u001b[0mX_2d\u001b[0m \u001b[0;34m=\u001b[0m \u001b[0msafe_copy\u001b[0m\u001b[0;34m(\u001b[0m\u001b[0mX_2d\u001b[0m\u001b[0;34m)\u001b[0m\u001b[0;34m\u001b[0m\u001b[0m\n",
        "\u001b[0;32m/Users/acchi369/anaconda/lib/python2.7/site-packages/sklearn/utils/validation.pyc\u001b[0m in \u001b[0;36m_assert_all_finite\u001b[0;34m(X)\u001b[0m\n\u001b[1;32m     41\u001b[0m             and not np.isfinite(X).all()):\n\u001b[1;32m     42\u001b[0m         raise ValueError(\"Input contains NaN, infinity\"\n\u001b[0;32m---> 43\u001b[0;31m                          \" or a value too large for %r.\" % X.dtype)\n\u001b[0m\u001b[1;32m     44\u001b[0m \u001b[0;34m\u001b[0m\u001b[0m\n\u001b[1;32m     45\u001b[0m \u001b[0;34m\u001b[0m\u001b[0m\n",
        "\u001b[0;31mValueError\u001b[0m: Input contains NaN, infinity or a value too large for dtype('float64')."
       ]
      }
     ],
     "prompt_number": 86
    },
    {
     "cell_type": "heading",
     "level": 4,
     "metadata": {},
     "source": [
      "Predict on the test set"
     ]
    },
    {
     "cell_type": "code",
     "collapsed": false,
     "input": [
      "test_predictions = clfgs.predict(X_test)\n",
      "final_predictions = zip(testing_data[\"passenger_id\"],test_predictions.astype(int))\n",
      "output_columns = \"passenger_id\", \"survived\"\n",
      "if hack:\n",
      "    output_columns = \"PassengerId\", \"Survived\"\n",
      "final_predictions = pd.DataFrame(final_predictions, columns=output_columns)\n",
      "print final_predictions.sum()\n",
      "print len(final_predictions)"
     ],
     "language": "python",
     "metadata": {},
     "outputs": [
      {
       "output_type": "stream",
       "stream": "stdout",
       "text": [
        "passenger_id    548366\n",
        "survived           200\n",
        "dtype: int64\n",
        "524\n"
       ]
      }
     ],
     "prompt_number": 30
    },
    {
     "cell_type": "heading",
     "level": 4,
     "metadata": {},
     "source": [
      "Output to csv file"
     ]
    },
    {
     "cell_type": "code",
     "collapsed": false,
     "input": [],
     "language": "python",
     "metadata": {},
     "outputs": [],
     "prompt_number": 30
    },
    {
     "cell_type": "code",
     "collapsed": false,
     "input": [],
     "language": "python",
     "metadata": {},
     "outputs": [],
     "prompt_number": 30
    },
    {
     "cell_type": "code",
     "collapsed": false,
     "input": [
      "final_predictions.to_csv(home_dir + \"2_rbfsvm_c10_g01.csv\", index=False)"
     ],
     "language": "python",
     "metadata": {},
     "outputs": [],
     "prompt_number": 31
    },
    {
     "cell_type": "heading",
     "level": 2,
     "metadata": {},
     "source": [
      "Random Forests"
     ]
    },
    {
     "cell_type": "code",
     "collapsed": false,
     "input": [
      "# Import the random forest package\n",
      "from sklearn.ensemble import RandomForestClassifier \n",
      "\n",
      "# Create the random forest object which will include all the parameters\n",
      "# for the fit\n",
      "forest = RandomForestClassifier(n_estimators = 100)\n",
      "\n",
      "# Fit the training data to the Survived labels and create the decision trees\n",
      "forest = forest.fit(X_train,Y)\n",
      "\n",
      "# Take the same decision trees and run it on the test data\n",
      "test_predictions = forest.predict(X_test)"
     ],
     "language": "python",
     "metadata": {},
     "outputs": [],
     "prompt_number": 35
    },
    {
     "cell_type": "code",
     "collapsed": false,
     "input": [
      "final_predictions = zip(testing_data[\"passenger_id\"],test_predictions.astype(int))\n",
      "output_columns = \"passenger_id\", \"survived\"\n",
      "if hack:\n",
      "    output_columns = \"PassengerId\", \"Survived\"\n",
      "final_predictions = pd.DataFrame(final_predictions, columns=output_columns)\n",
      "print final_predictions.sum()\n",
      "print len(final_predictions)"
     ],
     "language": "python",
     "metadata": {},
     "outputs": [
      {
       "output_type": "stream",
       "stream": "stdout",
       "text": [
        "passenger_id    548366\n",
        "survived           201\n",
        "dtype: int64\n",
        "524\n"
       ]
      }
     ],
     "prompt_number": 36
    },
    {
     "cell_type": "code",
     "collapsed": false,
     "input": [],
     "language": "python",
     "metadata": {},
     "outputs": [],
     "prompt_number": 36
    },
    {
     "cell_type": "code",
     "collapsed": false,
     "input": [],
     "language": "python",
     "metadata": {},
     "outputs": [],
     "prompt_number": 36
    },
    {
     "cell_type": "code",
     "collapsed": false,
     "input": [
      "final_predictions.to_csv(home_dir + \"2_random_forest.csv\", index=False)"
     ],
     "language": "python",
     "metadata": {},
     "outputs": [],
     "prompt_number": 35
    },
    {
     "cell_type": "heading",
     "level": 2,
     "metadata": {},
     "source": [
      "Archive"
     ]
    },
    {
     "cell_type": "code",
     "collapsed": false,
     "input": [
      "cross_validation.cross_val_score(clfgs, categorical_training_data, training_data[\"survived\"], cv=kf_total, n_jobs = 1)"
     ],
     "language": "python",
     "metadata": {},
     "outputs": []
    }
   ],
   "metadata": {}
  }
 ]
}