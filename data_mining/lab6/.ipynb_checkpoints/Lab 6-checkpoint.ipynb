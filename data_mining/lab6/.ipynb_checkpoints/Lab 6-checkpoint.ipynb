{
 "metadata": {
  "name": "",
  "signature": "sha256:8d16360faea9d52f42358832afd26940fe174a2b0e3bf626241709ec8644fdd5"
 },
 "nbformat": 3,
 "nbformat_minor": 0,
 "worksheets": [
  {
   "cells": [
    {
     "cell_type": "heading",
     "level": 2,
     "metadata": {},
     "source": [
      "Instructions"
     ]
    },
    {
     "cell_type": "markdown",
     "metadata": {},
     "source": [
      "https://docs.google.com/document/d/1pEVR4fFqT8nb0NMPu_vplNSAjVYBgWUKGVJzyhHZaS4/edit <br/>\n",
      "#### Feature Description\n",
      "http://lib.stat.cmu.edu/S/Harrell/data/descriptions/titanic3info.txt<br/>"
     ]
    },
    {
     "cell_type": "heading",
     "level": 2,
     "metadata": {},
     "source": [
      "Useful Examples"
     ]
    },
    {
     "cell_type": "markdown",
     "metadata": {},
     "source": [
      "https://datastudentblog.wordpress.com/2014/03/31/titanic-how-we-got-to-12-on-the-kaggle-com-leaderboard/<br/>\n",
      "http://nbviewer.ipython.org/github/agconti/kaggle-titanic/blob/master/Titanic.ipynb <br/>\n",
      "http://www.markhneedham.com/blog/2013/11/09/python-making-scikit-learn-and-pandas-play-nice/ <br/>\n",
      "http://nbviewer.ipython.org/github/datapress/kaggle-titanic/blob/master/notebooks/Section%202-2%20-%20SVM%20with%20Parameter%20Tuning.ipynb<br/>\n",
      "http://fastml.com/converting-categorical-data-into-numbers-with-pandas-and-scikit-learn/<br/>\n",
      "#### Cross Validation\n",
      "https://randomforests.wordpress.com/2014/02/02/basics-of-k-fold-cross-validation-and-gridsearchcv-in-scikit-learn/"
     ]
    },
    {
     "cell_type": "code",
     "collapsed": false,
     "input": [
      "import numpy as np\n",
      "import pandas as pd\n",
      "import sklearn as sk\n",
      "from math import sqrt\n",
      "from sklearn.preprocessing import Imputer\n",
      "from sklearn.feature_extraction import DictVectorizer\n",
      "from sklearn import svm, cross_validation, grid_search\n",
      "from sklearn.tree import DecisionTreeClassifier\n",
      "from sklearn.ensemble import RandomForestClassifier, AdaBoostClassifier \n",
      "import matplotlib as plt\n",
      "import string\n",
      "from scipy.stats import mode, zscore\n",
      "%matplotlib inline"
     ],
     "language": "python",
     "metadata": {},
     "outputs": [],
     "prompt_number": 87
    },
    {
     "cell_type": "heading",
     "level": 2,
     "metadata": {},
     "source": [
      "Hack: Yes or No?"
     ]
    },
    {
     "cell_type": "code",
     "collapsed": false,
     "input": [
      "hack = True\n",
      "# hack = False"
     ],
     "language": "python",
     "metadata": {},
     "outputs": [],
     "prompt_number": 2
    },
    {
     "cell_type": "heading",
     "level": 2,
     "metadata": {},
     "source": [
      "Read in Data"
     ]
    },
    {
     "cell_type": "code",
     "collapsed": false,
     "input": [
      "home_dir = \"\"\n",
      "if hack:\n",
      "    home_dir = \"hack/\"\n",
      "\n",
      "training_data = pd.read_csv(home_dir + \"train.csv\")\n",
      "training_data.columns = map(string.lower, training_data.columns)\n",
      "training_data[\"set_type\"] = \"training\"\n",
      "\n",
      "testing_data = pd.read_csv(home_dir + \"test.csv\")\n",
      "testing_data.columns = map(string.lower, testing_data.columns)\n",
      "testing_data[\"set_type\"] = \"testing\"\n",
      "\n",
      "if hack:\n",
      "    training_data = training_data.rename(columns = {'passengerid':'passenger_id'})\n",
      "    testing_data = testing_data.rename(columns = {'passengerid':'passenger_id'}) \n",
      "\n",
      "all_data = pd.concat([training_data, testing_data])"
     ],
     "language": "python",
     "metadata": {},
     "outputs": [],
     "prompt_number": 3
    },
    {
     "cell_type": "code",
     "collapsed": false,
     "input": [
      "all_data.head()"
     ],
     "language": "python",
     "metadata": {},
     "outputs": [
      {
       "html": [
        "<div style=\"max-height:1000px;max-width:1500px;overflow:auto;\">\n",
        "<table border=\"1\" class=\"dataframe\">\n",
        "  <thead>\n",
        "    <tr style=\"text-align: right;\">\n",
        "      <th></th>\n",
        "      <th>age</th>\n",
        "      <th>cabin</th>\n",
        "      <th>embarked</th>\n",
        "      <th>fare</th>\n",
        "      <th>name</th>\n",
        "      <th>parch</th>\n",
        "      <th>passenger_id</th>\n",
        "      <th>pclass</th>\n",
        "      <th>set_type</th>\n",
        "      <th>sex</th>\n",
        "      <th>sibsp</th>\n",
        "      <th>survived</th>\n",
        "      <th>ticket</th>\n",
        "    </tr>\n",
        "  </thead>\n",
        "  <tbody>\n",
        "    <tr>\n",
        "      <th>0</th>\n",
        "      <td> 22</td>\n",
        "      <td>  NaN</td>\n",
        "      <td> S</td>\n",
        "      <td>  7.2500</td>\n",
        "      <td>                           Braund, Mr. Owen Harris</td>\n",
        "      <td> 0</td>\n",
        "      <td> 1</td>\n",
        "      <td> 3</td>\n",
        "      <td> training</td>\n",
        "      <td>   male</td>\n",
        "      <td> 1</td>\n",
        "      <td> 0</td>\n",
        "      <td>        A/5 21171</td>\n",
        "    </tr>\n",
        "    <tr>\n",
        "      <th>1</th>\n",
        "      <td> 38</td>\n",
        "      <td>  C85</td>\n",
        "      <td> C</td>\n",
        "      <td> 71.2833</td>\n",
        "      <td> Cumings, Mrs. John Bradley (Florence Briggs Th...</td>\n",
        "      <td> 0</td>\n",
        "      <td> 2</td>\n",
        "      <td> 1</td>\n",
        "      <td> training</td>\n",
        "      <td> female</td>\n",
        "      <td> 1</td>\n",
        "      <td> 1</td>\n",
        "      <td>         PC 17599</td>\n",
        "    </tr>\n",
        "    <tr>\n",
        "      <th>2</th>\n",
        "      <td> 26</td>\n",
        "      <td>  NaN</td>\n",
        "      <td> S</td>\n",
        "      <td>  7.9250</td>\n",
        "      <td>                            Heikkinen, Miss. Laina</td>\n",
        "      <td> 0</td>\n",
        "      <td> 3</td>\n",
        "      <td> 3</td>\n",
        "      <td> training</td>\n",
        "      <td> female</td>\n",
        "      <td> 0</td>\n",
        "      <td> 1</td>\n",
        "      <td> STON/O2. 3101282</td>\n",
        "    </tr>\n",
        "    <tr>\n",
        "      <th>3</th>\n",
        "      <td> 35</td>\n",
        "      <td> C123</td>\n",
        "      <td> S</td>\n",
        "      <td> 53.1000</td>\n",
        "      <td>      Futrelle, Mrs. Jacques Heath (Lily May Peel)</td>\n",
        "      <td> 0</td>\n",
        "      <td> 4</td>\n",
        "      <td> 1</td>\n",
        "      <td> training</td>\n",
        "      <td> female</td>\n",
        "      <td> 1</td>\n",
        "      <td> 1</td>\n",
        "      <td>           113803</td>\n",
        "    </tr>\n",
        "    <tr>\n",
        "      <th>4</th>\n",
        "      <td> 35</td>\n",
        "      <td>  NaN</td>\n",
        "      <td> S</td>\n",
        "      <td>  8.0500</td>\n",
        "      <td>                          Allen, Mr. William Henry</td>\n",
        "      <td> 0</td>\n",
        "      <td> 5</td>\n",
        "      <td> 3</td>\n",
        "      <td> training</td>\n",
        "      <td>   male</td>\n",
        "      <td> 0</td>\n",
        "      <td> 0</td>\n",
        "      <td>           373450</td>\n",
        "    </tr>\n",
        "  </tbody>\n",
        "</table>\n",
        "</div>"
       ],
       "metadata": {},
       "output_type": "pyout",
       "prompt_number": 4,
       "text": [
        "   age cabin embarked     fare  \\\n",
        "0   22   NaN        S   7.2500   \n",
        "1   38   C85        C  71.2833   \n",
        "2   26   NaN        S   7.9250   \n",
        "3   35  C123        S  53.1000   \n",
        "4   35   NaN        S   8.0500   \n",
        "\n",
        "                                                name  parch  passenger_id  \\\n",
        "0                            Braund, Mr. Owen Harris      0             1   \n",
        "1  Cumings, Mrs. John Bradley (Florence Briggs Th...      0             2   \n",
        "2                             Heikkinen, Miss. Laina      0             3   \n",
        "3       Futrelle, Mrs. Jacques Heath (Lily May Peel)      0             4   \n",
        "4                           Allen, Mr. William Henry      0             5   \n",
        "\n",
        "   pclass  set_type     sex  sibsp  survived            ticket  \n",
        "0       3  training    male      1         0         A/5 21171  \n",
        "1       1  training  female      1         1          PC 17599  \n",
        "2       3  training  female      0         1  STON/O2. 3101282  \n",
        "3       1  training  female      1         1            113803  \n",
        "4       3  training    male      0         0            373450  "
       ]
      }
     ],
     "prompt_number": 4
    },
    {
     "cell_type": "code",
     "collapsed": false,
     "input": [
      "all_data.info()"
     ],
     "language": "python",
     "metadata": {},
     "outputs": [
      {
       "output_type": "stream",
       "stream": "stdout",
       "text": [
        "<class 'pandas.core.frame.DataFrame'>\n",
        "Int64Index: 1309 entries, 0 to 417\n",
        "Data columns (total 13 columns):\n",
        "age             1046 non-null float64\n",
        "cabin           295 non-null object\n",
        "embarked        1307 non-null object\n",
        "fare            1308 non-null float64\n",
        "name            1309 non-null object\n",
        "parch           1309 non-null int64\n",
        "passenger_id    1309 non-null int64\n",
        "pclass          1309 non-null int64\n",
        "set_type        1309 non-null object\n",
        "sex             1309 non-null object\n",
        "sibsp           1309 non-null int64\n",
        "survived        891 non-null float64\n",
        "ticket          1309 non-null object\n",
        "dtypes: float64(3), int64(4), object(6)\n",
        "memory usage: 143.2+ KB\n"
       ]
      }
     ],
     "prompt_number": 5
    },
    {
     "cell_type": "code",
     "collapsed": false,
     "input": [
      "all_data.describe()"
     ],
     "language": "python",
     "metadata": {},
     "outputs": [
      {
       "html": [
        "<div style=\"max-height:1000px;max-width:1500px;overflow:auto;\">\n",
        "<table border=\"1\" class=\"dataframe\">\n",
        "  <thead>\n",
        "    <tr style=\"text-align: right;\">\n",
        "      <th></th>\n",
        "      <th>age</th>\n",
        "      <th>fare</th>\n",
        "      <th>parch</th>\n",
        "      <th>passenger_id</th>\n",
        "      <th>pclass</th>\n",
        "      <th>sibsp</th>\n",
        "      <th>survived</th>\n",
        "    </tr>\n",
        "  </thead>\n",
        "  <tbody>\n",
        "    <tr>\n",
        "      <th>count</th>\n",
        "      <td> 1046.000000</td>\n",
        "      <td> 1308.000000</td>\n",
        "      <td> 1309.000000</td>\n",
        "      <td> 1309.000000</td>\n",
        "      <td> 1309.000000</td>\n",
        "      <td> 1309.000000</td>\n",
        "      <td> 891.000000</td>\n",
        "    </tr>\n",
        "    <tr>\n",
        "      <th>mean</th>\n",
        "      <td>   29.881138</td>\n",
        "      <td>   33.295479</td>\n",
        "      <td>    0.385027</td>\n",
        "      <td>  655.000000</td>\n",
        "      <td>    2.294882</td>\n",
        "      <td>    0.498854</td>\n",
        "      <td>   0.383838</td>\n",
        "    </tr>\n",
        "    <tr>\n",
        "      <th>std</th>\n",
        "      <td>   14.413493</td>\n",
        "      <td>   51.758668</td>\n",
        "      <td>    0.865560</td>\n",
        "      <td>  378.020061</td>\n",
        "      <td>    0.837836</td>\n",
        "      <td>    1.041658</td>\n",
        "      <td>   0.486592</td>\n",
        "    </tr>\n",
        "    <tr>\n",
        "      <th>min</th>\n",
        "      <td>    0.170000</td>\n",
        "      <td>    0.000000</td>\n",
        "      <td>    0.000000</td>\n",
        "      <td>    1.000000</td>\n",
        "      <td>    1.000000</td>\n",
        "      <td>    0.000000</td>\n",
        "      <td>   0.000000</td>\n",
        "    </tr>\n",
        "    <tr>\n",
        "      <th>25%</th>\n",
        "      <td>   21.000000</td>\n",
        "      <td>    7.895800</td>\n",
        "      <td>    0.000000</td>\n",
        "      <td>  328.000000</td>\n",
        "      <td>    2.000000</td>\n",
        "      <td>    0.000000</td>\n",
        "      <td>   0.000000</td>\n",
        "    </tr>\n",
        "    <tr>\n",
        "      <th>50%</th>\n",
        "      <td>   28.000000</td>\n",
        "      <td>   14.454200</td>\n",
        "      <td>    0.000000</td>\n",
        "      <td>  655.000000</td>\n",
        "      <td>    3.000000</td>\n",
        "      <td>    0.000000</td>\n",
        "      <td>   0.000000</td>\n",
        "    </tr>\n",
        "    <tr>\n",
        "      <th>75%</th>\n",
        "      <td>   39.000000</td>\n",
        "      <td>   31.275000</td>\n",
        "      <td>    0.000000</td>\n",
        "      <td>  982.000000</td>\n",
        "      <td>    3.000000</td>\n",
        "      <td>    1.000000</td>\n",
        "      <td>   1.000000</td>\n",
        "    </tr>\n",
        "    <tr>\n",
        "      <th>max</th>\n",
        "      <td>   80.000000</td>\n",
        "      <td>  512.329200</td>\n",
        "      <td>    9.000000</td>\n",
        "      <td> 1309.000000</td>\n",
        "      <td>    3.000000</td>\n",
        "      <td>    8.000000</td>\n",
        "      <td>   1.000000</td>\n",
        "    </tr>\n",
        "  </tbody>\n",
        "</table>\n",
        "</div>"
       ],
       "metadata": {},
       "output_type": "pyout",
       "prompt_number": 6,
       "text": [
        "               age         fare        parch  passenger_id       pclass  \\\n",
        "count  1046.000000  1308.000000  1309.000000   1309.000000  1309.000000   \n",
        "mean     29.881138    33.295479     0.385027    655.000000     2.294882   \n",
        "std      14.413493    51.758668     0.865560    378.020061     0.837836   \n",
        "min       0.170000     0.000000     0.000000      1.000000     1.000000   \n",
        "25%      21.000000     7.895800     0.000000    328.000000     2.000000   \n",
        "50%      28.000000    14.454200     0.000000    655.000000     3.000000   \n",
        "75%      39.000000    31.275000     0.000000    982.000000     3.000000   \n",
        "max      80.000000   512.329200     9.000000   1309.000000     3.000000   \n",
        "\n",
        "             sibsp    survived  \n",
        "count  1309.000000  891.000000  \n",
        "mean      0.498854    0.383838  \n",
        "std       1.041658    0.486592  \n",
        "min       0.000000    0.000000  \n",
        "25%       0.000000    0.000000  \n",
        "50%       0.000000    0.000000  \n",
        "75%       1.000000    1.000000  \n",
        "max       8.000000    1.000000  "
       ]
      }
     ],
     "prompt_number": 6
    },
    {
     "cell_type": "heading",
     "level": 4,
     "metadata": {},
     "source": [
      "We have no null values"
     ]
    },
    {
     "cell_type": "code",
     "collapsed": false,
     "input": [
      "all_data[all_data[\"set_type\"] == \"training\"][\"survived\"].isnull().sum()"
     ],
     "language": "python",
     "metadata": {},
     "outputs": [
      {
       "metadata": {},
       "output_type": "pyout",
       "prompt_number": 7,
       "text": [
        "0"
       ]
      }
     ],
     "prompt_number": 7
    },
    {
     "cell_type": "heading",
     "level": 2,
     "metadata": {},
     "source": [
      "Handling Missing Values"
     ]
    },
    {
     "cell_type": "code",
     "collapsed": false,
     "input": [
      "# Might be too extreme\n",
      "# Remove features that have lots of missing values\n",
      "# all_data = all_data.drop(['ticket','cabin'], axis=1)\n",
      "# Remove NaN values\n",
      "# all_data = all_data.dropna()"
     ],
     "language": "python",
     "metadata": {},
     "outputs": [],
     "prompt_number": 8
    },
    {
     "cell_type": "code",
     "collapsed": false,
     "input": [
      "# age_mean = all_data['age'].mean()\n",
      "# all_data['age'] = all_data['age'].fillna(age_mean)\n",
      "# print all_data[all_data['age'].isnull()]\n",
      "\n",
      "# mode_embarked = mode(all_data['embarked'])[0][0]\n",
      "# all_data['embarked'] = all_data['embarked'].fillna(mode_embarked)\n",
      "for c in range(1,4):\n",
      "    # Fare\n",
      "    mask = (all_data['fare'].isnull()) & (all_data['pclass'] == c)\n",
      "    all_data['fare'][mask] = all_data['fare'][all_data['pclass'] == c].mean()\n",
      "    \n",
      "    # Age\n",
      "    mask = (all_data['age'].isnull()) & (all_data['pclass'] == c)\n",
      "    all_data['age'][mask] = all_data['age'][all_data['pclass'] == c].mean()\n",
      "    # Embarked\n",
      "    mask = (all_data['embarked'].isnull()) & (all_data['pclass'] == c)\n",
      "    all_data['embarked'][mask] = mode(all_data['embarked'][all_data['pclass'] == c])[0][0]"
     ],
     "language": "python",
     "metadata": {},
     "outputs": [
      {
       "output_type": "stream",
       "stream": "stderr",
       "text": [
        "-c:10: SettingWithCopyWarning: \n",
        "A value is trying to be set on a copy of a slice from a DataFrame\n",
        "\n",
        "See the the caveats in the documentation: http://pandas.pydata.org/pandas-docs/stable/indexing.html#indexing-view-versus-copy\n",
        "-c:14: SettingWithCopyWarning: \n",
        "A value is trying to be set on a copy of a slice from a DataFrame\n",
        "\n",
        "See the the caveats in the documentation: http://pandas.pydata.org/pandas-docs/stable/indexing.html#indexing-view-versus-copy\n"
       ]
      },
      {
       "output_type": "stream",
       "stream": "stderr",
       "text": [
        "/Users/acchi369/anaconda/lib/python2.7/site-packages/numpy/lib/arraysetops.py:197: FutureWarning: numpy not_equal will not check object identity in the future. The comparison did not return the same result as suggested by the identity (`is`)) and will change.\n",
        "  flag = np.concatenate(([True], aux[1:] != aux[:-1]))\n",
        "-c:17: SettingWithCopyWarning: \n",
        "A value is trying to be set on a copy of a slice from a DataFrame\n",
        "\n",
        "See the the caveats in the documentation: http://pandas.pydata.org/pandas-docs/stable/indexing.html#indexing-view-versus-copy\n"
       ]
      }
     ],
     "prompt_number": 9
    },
    {
     "cell_type": "code",
     "collapsed": false,
     "input": [
      "all_data.info()"
     ],
     "language": "python",
     "metadata": {},
     "outputs": [
      {
       "output_type": "stream",
       "stream": "stdout",
       "text": [
        "<class 'pandas.core.frame.DataFrame'>\n",
        "Int64Index: 1309 entries, 0 to 417\n",
        "Data columns (total 13 columns):\n",
        "age             1309 non-null float64\n",
        "cabin           295 non-null object\n",
        "embarked        1309 non-null object\n",
        "fare            1309 non-null float64\n",
        "name            1309 non-null object\n",
        "parch           1309 non-null int64\n",
        "passenger_id    1309 non-null int64\n",
        "pclass          1309 non-null int64\n",
        "set_type        1309 non-null object\n",
        "sex             1309 non-null object\n",
        "sibsp           1309 non-null int64\n",
        "survived        891 non-null float64\n",
        "ticket          1309 non-null object\n",
        "dtypes: float64(3), int64(4), object(6)\n",
        "memory usage: 143.2+ KB\n"
       ]
      }
     ],
     "prompt_number": 10
    },
    {
     "cell_type": "heading",
     "level": 2,
     "metadata": {},
     "source": [
      "Feature Construction"
     ]
    },
    {
     "cell_type": "heading",
     "level": 4,
     "metadata": {},
     "source": [
      "Nationality"
     ]
    },
    {
     "cell_type": "code",
     "collapsed": false,
     "input": [
      "us = ['WA', 'WI', 'WV', 'FL', 'WY', 'NH', 'NJ', 'NM', 'NA', 'NC', 'ND', 'NE', 'NY', 'RI', 'NV', 'GU', 'CO', 'CA', 'GA', 'CT', 'OK', 'OH', 'KS', 'SC', 'KY', 'OR', 'SD', 'DE', 'DC', 'HI', 'PR', 'TX', 'LA', 'TN', 'PA', 'VA', 'VI', 'AK', 'AL', 'AS', 'AR', 'VT', 'IL', 'IN', 'IA', 'AZ', 'ID', 'ME', 'MD', 'MA', 'UT', 'MO', 'MN', 'MI', 'MT', 'MP', 'MS']\n",
      "ca = ['ON', 'AB', 'NL', 'BC', 'NB', 'MB', 'YT', 'SK', 'QC', 'PE', 'NS', 'NT', 'NU']"
     ],
     "language": "python",
     "metadata": {},
     "outputs": [],
     "prompt_number": 11
    },
    {
     "cell_type": "code",
     "collapsed": false,
     "input": [
      "def is_state(test_list):\n",
      "    if type(test_list) == list:\n",
      "        if np.array([t.strip() in us for t in test_list.split(\",\")]).any():\n",
      "            return \"US\"\n",
      "        if np.array([t.strip() in ca for t in test_list.split(\",\")]).any():\n",
      "            return \"CA\"\n",
      "    else:\n",
      "        return \"Unknown\"\n",
      "if not hack:\n",
      "    all_data[\"ending_in_na\"] = all_data[\"home.dest\"].apply(is_state)"
     ],
     "language": "python",
     "metadata": {},
     "outputs": [],
     "prompt_number": 12
    },
    {
     "cell_type": "heading",
     "level": 4,
     "metadata": {},
     "source": [
      "Binary Gender Class"
     ]
    },
    {
     "cell_type": "code",
     "collapsed": false,
     "input": [
      "all_data[\"female_high_class\"] = (all_data['sex'] == \"female\") & (all_data['pclass'] == 1)"
     ],
     "language": "python",
     "metadata": {},
     "outputs": [],
     "prompt_number": 13
    },
    {
     "cell_type": "heading",
     "level": 4,
     "metadata": {},
     "source": [
      "Title"
     ]
    },
    {
     "cell_type": "code",
     "collapsed": false,
     "input": [
      "all_data[\"title\"] = \"\"\n",
      "all_data[\"title\"][all_data[\"name\"].str.contains('Sir[\\. ]|Capt[\\. ]|Col[\\. ]|Don[\\. ]|Dr[\\. ]|Jonkheer[\\. ]|Major[\\. ]|Rev[\\. ]|Sir[\\. ]')] = \"noble\"\n",
      "all_data[\"title\"][all_data[\"name\"].str.contains('Mme[\\. ]|Mlle[\\. ]')] = \"mlle\"\n",
      "all_data[\"title\"][all_data[\"name\"].str.contains('Dona[\\. ]|Countess[\\. ]|Lady[\\. ]')] = \"lady\""
     ],
     "language": "python",
     "metadata": {},
     "outputs": [
      {
       "output_type": "stream",
       "stream": "stderr",
       "text": [
        "-c:2: SettingWithCopyWarning: \n",
        "A value is trying to be set on a copy of a slice from a DataFrame\n",
        "\n",
        "See the the caveats in the documentation: http://pandas.pydata.org/pandas-docs/stable/indexing.html#indexing-view-versus-copy\n",
        "-c:3: SettingWithCopyWarning: \n",
        "A value is trying to be set on a copy of a slice from a DataFrame\n",
        "\n",
        "See the the caveats in the documentation: http://pandas.pydata.org/pandas-docs/stable/indexing.html#indexing-view-versus-copy\n"
       ]
      },
      {
       "output_type": "stream",
       "stream": "stderr",
       "text": [
        "-c:4: SettingWithCopyWarning: \n",
        "A value is trying to be set on a copy of a slice from a DataFrame\n",
        "\n",
        "See the the caveats in the documentation: http://pandas.pydata.org/pandas-docs/stable/indexing.html#indexing-view-versus-copy\n"
       ]
      }
     ],
     "prompt_number": 14
    },
    {
     "cell_type": "heading",
     "level": 4,
     "metadata": {},
     "source": [
      "Has Title"
     ]
    },
    {
     "cell_type": "code",
     "collapsed": false,
     "input": [
      "all_data[\"has_title\"] = all_data[\"title\"] != \"\""
     ],
     "language": "python",
     "metadata": {},
     "outputs": [],
     "prompt_number": 294
    },
    {
     "cell_type": "heading",
     "level": 4,
     "metadata": {},
     "source": [
      "Family Size"
     ]
    },
    {
     "cell_type": "code",
     "collapsed": false,
     "input": [
      "all_data[\"family_size\"] = all_data.sibsp + all_data.parch + 1"
     ],
     "language": "python",
     "metadata": {},
     "outputs": [],
     "prompt_number": 15
    },
    {
     "cell_type": "heading",
     "level": 4,
     "metadata": {},
     "source": [
      "Travelling Alone?"
     ]
    },
    {
     "cell_type": "code",
     "collapsed": false,
     "input": [
      "all_data[\"travelling_alone\"] = all_data[\"family_size\"] <= 1"
     ],
     "language": "python",
     "metadata": {},
     "outputs": [],
     "prompt_number": 283
    },
    {
     "cell_type": "heading",
     "level": 4,
     "metadata": {},
     "source": [
      "Place on Ship"
     ]
    },
    {
     "cell_type": "code",
     "collapsed": false,
     "input": [
      "all_data[\"side\"] = \"unknown\"\n",
      "all_data[\"cabin_last_digit\"] = all_data.cabin.apply(lambda x: int(0 if str(x)[-1:] in string.letters else str(x)[-1:]))\n",
      "all_data[\"side\"][all_data[\"cabin_last_digit\"] % 2 == 0] = \"port\"\n",
      "all_data[\"side\"][all_data[\"cabin_last_digit\"] % 2 != 0] = \"starboard\"\n",
      "all_data[\"side\"][all_data[\"cabin_last_digit\"] == 0] = \"unknown\"\n",
      "all_data.drop(\"cabin_last_digit\", axis=1, inplace=True)"
     ],
     "language": "python",
     "metadata": {},
     "outputs": [],
     "prompt_number": 284
    },
    {
     "cell_type": "heading",
     "level": 4,
     "metadata": {},
     "source": [
      "Classifying Fares"
     ]
    },
    {
     "cell_type": "code",
     "collapsed": false,
     "input": [
      "all_data[\"fare_bin\"] = \"<10\"\n",
      "all_data[\"fare_bin\"][all_data[\"fare\"] >= 10] = \"10-20\"\n",
      "all_data[\"fare_bin\"][all_data[\"fare\"] >= 20] = \"20-30\"\n",
      "all_data[\"fare_bin\"][all_data[\"fare\"] >= 30] = \"30+\""
     ],
     "language": "python",
     "metadata": {},
     "outputs": [],
     "prompt_number": 162
    },
    {
     "cell_type": "heading",
     "level": 4,
     "metadata": {},
     "source": [
      "Passenger Name Length"
     ]
    },
    {
     "cell_type": "code",
     "collapsed": false,
     "input": [
      "all_data[\"name_length\"] = all_data[\"name\"].apply(len)"
     ],
     "language": "python",
     "metadata": {},
     "outputs": [],
     "prompt_number": 163
    },
    {
     "cell_type": "heading",
     "level": 4,
     "metadata": {},
     "source": [
      "Adding Variables Names"
     ]
    },
    {
     "cell_type": "code",
     "collapsed": false,
     "input": [
      "all_data[\"has_cabin_info\"] = all_data[\"cabin\"].apply(lambda x: 1 if x > 0 else 0)"
     ],
     "language": "python",
     "metadata": {},
     "outputs": [],
     "prompt_number": 164
    },
    {
     "cell_type": "heading",
     "level": 4,
     "metadata": {},
     "source": [
      "zscore age"
     ]
    },
    {
     "cell_type": "code",
     "collapsed": false,
     "input": [
      "mean_age = all_data[\"age\"].mean()\n",
      "stdev_age = np.std(all_data[\"age\"])\n",
      "all_data[\"z_age\"] = map(lambda x: (x - mean_age) / stdev_age, all_data[\"age\"])\n",
      "all_data[\"z_age\"].count()"
     ],
     "language": "python",
     "metadata": {},
     "outputs": [
      {
       "metadata": {},
       "output_type": "pyout",
       "prompt_number": 165,
       "text": [
        "1309"
       ]
      }
     ],
     "prompt_number": 165
    },
    {
     "cell_type": "heading",
     "level": 4,
     "metadata": {},
     "source": [
      "age bin"
     ]
    },
    {
     "cell_type": "code",
     "collapsed": false,
     "input": [
      "all_data[\"age_bin\"] = \"<18\"\n",
      "all_data[\"age_bin\"][all_data[\"age\"] >= 16] = \"18-50\"\n",
      "all_data[\"age_bin\"][all_data[\"age\"] >= 50] = \"50+\""
     ],
     "language": "python",
     "metadata": {},
     "outputs": [],
     "prompt_number": 274
    },
    {
     "cell_type": "heading",
     "level": 2,
     "metadata": {},
     "source": [
      "Transform Variables"
     ]
    },
    {
     "cell_type": "code",
     "collapsed": false,
     "input": [
      "all_data.dtypes"
     ],
     "language": "python",
     "metadata": {},
     "outputs": [
      {
       "metadata": {},
       "output_type": "pyout",
       "prompt_number": 296,
       "text": [
        "age                  float64\n",
        "cabin                 object\n",
        "embarked              object\n",
        "fare                 float64\n",
        "name                  object\n",
        "parch                  int64\n",
        "passenger_id           int64\n",
        "pclass                 int64\n",
        "set_type              object\n",
        "sex                   object\n",
        "sibsp                  int64\n",
        "survived             float64\n",
        "ticket                object\n",
        "female_high_class       bool\n",
        "title                 object\n",
        "family_size            int64\n",
        "side                  object\n",
        "fare_bin              object\n",
        "name_length            int64\n",
        "has_cabin_info         int64\n",
        "z_age                float64\n",
        "age_bin               object\n",
        "travelling_alone        bool\n",
        "has_title               bool\n",
        "dtype: object"
       ]
      }
     ],
     "prompt_number": 296
    },
    {
     "cell_type": "code",
     "collapsed": false,
     "input": [
      "training_data = all_data[all_data[\"set_type\"] == \"training\"]\n",
      "testing_data = all_data[all_data[\"set_type\"] == \"testing\"]\n",
      "Y = training_data[\"survived\"]"
     ],
     "language": "python",
     "metadata": {},
     "outputs": [],
     "prompt_number": 297
    },
    {
     "cell_type": "heading",
     "level": 2,
     "metadata": {},
     "source": [
      "Set Features"
     ]
    },
    {
     "cell_type": "code",
     "collapsed": false,
     "input": [
      "numeric_features = [col for col in all_data.columns if all_data[col].dtype in [float, int] and col != \"survived\"]\n",
      "categorical_features = [col for col in all_data.columns if all_data[col].dtype in [object]]\n",
      "numeric_features = [\"pclass\", \"family_size\", \"female_high_class\", \"travelling_alone\"]\n",
      "categorical_features = [\"sex\", \"fare_bin\", \"embarked\", \"age_bin\"]\n",
      "\n",
      "X_train_num = training_data[numeric_features].as_matrix()\n",
      "X_test_num = testing_data[numeric_features].as_matrix()\n",
      "\n",
      "training_data[categorical_features].fillna('NA', inplace=True)\n",
      "testing_data[categorical_features].fillna('NA', inplace=True)\n",
      "\n",
      "v = DictVectorizer(sparse = False).fit(all_data[categorical_features].T.to_dict().values())\n",
      "X_train_cat = v.transform(training_data[categorical_features].T.to_dict().values())\n",
      "X_test_cat = v.transform(testing_data[categorical_features].T.to_dict().values())\n",
      "\n",
      "# Combine Numeric and Categorical\n",
      "\n",
      "X_train = np.hstack(( X_train_num, X_train_cat ))\n",
      "X_test = np.hstack(( X_test_num, X_test_cat ))\n",
      "\n",
      "print X_train.shape, X_train_num.shape, X_train_cat.shape\n",
      "print X_test.shape, X_test_num.shape, X_test_cat.shape"
     ],
     "language": "python",
     "metadata": {},
     "outputs": [
      {
       "output_type": "stream",
       "stream": "stdout",
       "text": [
        "(891, 17) (891, 5) (891, 12)\n",
        "(418, 17) (418, 5) (418, 12)\n"
       ]
      }
     ],
     "prompt_number": 299
    },
    {
     "cell_type": "heading",
     "level": 3,
     "metadata": {},
     "source": [
      "SVM Model"
     ]
    },
    {
     "cell_type": "heading",
     "level": 4,
     "metadata": {},
     "source": [
      "Train the model"
     ]
    },
    {
     "cell_type": "code",
     "collapsed": false,
     "input": [
      "# kf_total = cross_validation.KFold(len(X_train), n_folds=5, shuffle=True, random_state=4)\n",
      "clf = svm.SVC()\n",
      "# clf = svm.LinearSVC()\n",
      "# clf = svm.SVC(kernel='poly', gamma=3) \n",
      "parameter_grid = {\n",
      "    'kernel' : ['rbf'],\n",
      "    'gamma': [0.0,0.1,0.01],\n",
      "    'C': [1., 10., 100.]\n",
      "}\n",
      "clfgs = grid_search.GridSearchCV(estimator=clf, param_grid=parameter_grid, n_jobs=1, cv=5) # , verbose=3\n",
      "clfgs.fit(X_train, Y)\n",
      "print clfgs.best_estimator_\n",
      "print clfgs.best_score_"
     ],
     "language": "python",
     "metadata": {},
     "outputs": [
      {
       "output_type": "stream",
       "stream": "stdout",
       "text": [
        "SVC(C=100.0, cache_size=200, class_weight=None, coef0=0.0, degree=3,\n",
        "  gamma=0.01, kernel='rbf', max_iter=-1, probability=False,\n",
        "  random_state=None, shrinking=True, tol=0.001, verbose=False)\n",
        "0.829405162738\n"
       ]
      }
     ],
     "prompt_number": 300
    },
    {
     "cell_type": "heading",
     "level": 4,
     "metadata": {},
     "source": [
      "Predict on the training set"
     ]
    },
    {
     "cell_type": "code",
     "collapsed": false,
     "input": [
      "train_predictions = clfgs.predict(X_train)\n",
      "train_predictions = zip(training_data[\"passenger_id\"], train_predictions.astype(int))\n",
      "output_columns = \"passenger_id\", \"survived\"\n",
      "if hack:\n",
      "    output_columns = \"PassengerId\", \"Survived\"\n",
      "train_predictions = pd.DataFrame(train_predictions, columns=output_columns)\n",
      "print train_predictions.sum()\n",
      "print len(train_predictions)"
     ],
     "language": "python",
     "metadata": {},
     "outputs": [
      {
       "output_type": "stream",
       "stream": "stdout",
       "text": [
        "PassengerId    397386\n",
        "Survived          304\n",
        "dtype: int64\n",
        "891\n"
       ]
      }
     ],
     "prompt_number": 301
    },
    {
     "cell_type": "code",
     "collapsed": false,
     "input": [],
     "language": "python",
     "metadata": {},
     "outputs": [],
     "prompt_number": 301
    },
    {
     "cell_type": "code",
     "collapsed": false,
     "input": [],
     "language": "python",
     "metadata": {},
     "outputs": [],
     "prompt_number": 301
    },
    {
     "cell_type": "code",
     "collapsed": false,
     "input": [
      "train_predictions.to_csv(home_dir + \"train_rbfsvm_c10_g01.csv\", index=False)"
     ],
     "language": "python",
     "metadata": {},
     "outputs": [],
     "prompt_number": 302
    },
    {
     "cell_type": "heading",
     "level": 4,
     "metadata": {},
     "source": [
      "Predict on the test set"
     ]
    },
    {
     "cell_type": "code",
     "collapsed": false,
     "input": [
      "test_predictions = clfgs.predict(X_test)\n",
      "final_predictions = zip(testing_data[\"passenger_id\"],test_predictions.astype(int))\n",
      "output_columns = \"passenger_id\", \"survived\"\n",
      "if hack:\n",
      "    output_columns = \"PassengerId\", \"Survived\"\n",
      "final_predictions = pd.DataFrame(final_predictions, columns=output_columns)\n",
      "print final_predictions.sum()\n",
      "print len(final_predictions)"
     ],
     "language": "python",
     "metadata": {},
     "outputs": [
      {
       "output_type": "stream",
       "stream": "stdout",
       "text": [
        "PassengerId    460009\n",
        "Survived          158\n",
        "dtype: int64\n",
        "418\n"
       ]
      }
     ],
     "prompt_number": 303
    },
    {
     "cell_type": "code",
     "collapsed": false,
     "input": [],
     "language": "python",
     "metadata": {},
     "outputs": [],
     "prompt_number": 256
    },
    {
     "cell_type": "code",
     "collapsed": false,
     "input": [],
     "language": "python",
     "metadata": {},
     "outputs": [],
     "prompt_number": 256
    },
    {
     "cell_type": "code",
     "collapsed": false,
     "input": [
      "final_predictions.to_csv(home_dir + \"8_rbfsvm_c100_g01.csv\", index=False)"
     ],
     "language": "python",
     "metadata": {},
     "outputs": [],
     "prompt_number": 257
    },
    {
     "cell_type": "heading",
     "level": 1,
     "metadata": {},
     "source": [
      "Everything Below is Experimentation"
     ]
    },
    {
     "cell_type": "heading",
     "level": 2,
     "metadata": {},
     "source": [
      "Random Forests"
     ]
    },
    {
     "cell_type": "heading",
     "level": 4,
     "metadata": {},
     "source": [
      "http://scikit-learn.org/stable/modules/ensemble.html#parameters"
     ]
    },
    {
     "cell_type": "code",
     "collapsed": false,
     "input": [
      "# Create the random forest object which will include all the parameters\n",
      "# for the fit\n",
      "n_features = len(categorical_features) + len(numeric_features)\n",
      "forest = RandomForestClassifier(n_estimators = 1000, max_features=int(round(sqrt(n_features))), max_depth=None, min_samples_split=1)\n",
      "\n",
      "scores = sk.cross_validation.cross_val_score(forest, X_train, Y)\n",
      "print scores.mean()"
     ],
     "language": "python",
     "metadata": {},
     "outputs": [
      {
       "output_type": "stream",
       "stream": "stdout",
       "text": [
        "0.821548821549\n"
       ]
      }
     ],
     "prompt_number": 304
    },
    {
     "cell_type": "code",
     "collapsed": false,
     "input": [
      "# Fit the training data to the Survived labels and create the decision trees\n",
      "forest = forest.fit(X_train,Y)\n",
      "\n",
      "# Take the same decision trees and run it on the test data\n",
      "test_predictions = forest.predict(X_test)"
     ],
     "language": "python",
     "metadata": {},
     "outputs": [],
     "prompt_number": 259
    },
    {
     "cell_type": "code",
     "collapsed": false,
     "input": [
      "final_predictions = zip(testing_data[\"passenger_id\"],test_predictions.astype(int))\n",
      "output_columns = \"passenger_id\", \"survived\"\n",
      "if hack:\n",
      "    output_columns = \"PassengerId\", \"Survived\"\n",
      "final_predictions = pd.DataFrame(final_predictions, columns=output_columns)\n",
      "print final_predictions.sum()\n",
      "print len(final_predictions)"
     ],
     "language": "python",
     "metadata": {},
     "outputs": [
      {
       "output_type": "stream",
       "stream": "stdout",
       "text": [
        "PassengerId    460009\n",
        "Survived          156\n",
        "dtype: int64\n",
        "418\n"
       ]
      }
     ],
     "prompt_number": 260
    },
    {
     "cell_type": "code",
     "collapsed": false,
     "input": [],
     "language": "python",
     "metadata": {},
     "outputs": [],
     "prompt_number": 260
    },
    {
     "cell_type": "code",
     "collapsed": false,
     "input": [],
     "language": "python",
     "metadata": {},
     "outputs": [],
     "prompt_number": 260
    },
    {
     "cell_type": "code",
     "collapsed": false,
     "input": [
      "final_predictions.to_csv(home_dir + \"7_random_forest.csv\", index=False)"
     ],
     "language": "python",
     "metadata": {},
     "outputs": [],
     "prompt_number": 261
    },
    {
     "cell_type": "code",
     "collapsed": false,
     "input": [
      "train_predictions = forest.predict(X_train)\n",
      "train_predictions = zip(training_data[\"passenger_id\"], train_predictions.astype(int))\n",
      "output_columns = \"passenger_id\", \"survived\"\n",
      "if hack:\n",
      "    output_columns = \"PassengerId\", \"Survived\"\n",
      "train_predictions = pd.DataFrame(train_predictions, columns=output_columns)\n",
      "print train_predictions.sum()\n",
      "print len(train_predictions)"
     ],
     "language": "python",
     "metadata": {},
     "outputs": [
      {
       "output_type": "stream",
       "stream": "stdout",
       "text": [
        "passenger_id    307720\n",
        "survived           266\n",
        "dtype: int64\n",
        "785\n"
       ]
      }
     ],
     "prompt_number": 44
    },
    {
     "cell_type": "code",
     "collapsed": false,
     "input": [],
     "language": "python",
     "metadata": {},
     "outputs": [],
     "prompt_number": 44
    },
    {
     "cell_type": "code",
     "collapsed": false,
     "input": [],
     "language": "python",
     "metadata": {},
     "outputs": [],
     "prompt_number": 44
    },
    {
     "cell_type": "code",
     "collapsed": false,
     "input": [
      "train_predictions.to_csv(home_dir + \"train_random_forest.csv\", index=False)"
     ],
     "language": "python",
     "metadata": {},
     "outputs": [],
     "prompt_number": 45
    },
    {
     "cell_type": "heading",
     "level": 2,
     "metadata": {},
     "source": [
      "Adaboost"
     ]
    },
    {
     "cell_type": "code",
     "collapsed": false,
     "input": [
      "clf = AdaBoostClassifier(n_estimators=100)\n",
      "\n",
      "# Fit the training data to the Survived labels and create the decision trees\n",
      "# clf = clf.fit(X_train,Y)\n",
      "\n",
      "# Take the same decision trees and run it on the test data\n",
      "# test_predictions = clf.predict(X_test)\n",
      "\n",
      "scores = sk.cross_validation.cross_val_score(clf, X_train, Y)\n",
      "scores.mean() "
     ],
     "language": "python",
     "metadata": {},
     "outputs": [
      {
       "metadata": {},
       "output_type": "pyout",
       "prompt_number": 305,
       "text": [
        "0.7912457912457912"
       ]
      }
     ],
     "prompt_number": 305
    },
    {
     "cell_type": "code",
     "collapsed": false,
     "input": [
      "final_predictions = zip(testing_data[\"passenger_id\"],test_predictions.astype(int))\n",
      "output_columns = \"passenger_id\", \"survived\"\n",
      "if hack:\n",
      "    output_columns = \"PassengerId\", \"Survived\"\n",
      "final_predictions = pd.DataFrame(final_predictions, columns=output_columns)\n",
      "print final_predictions.sum()\n",
      "print len(final_predictions)"
     ],
     "language": "python",
     "metadata": {},
     "outputs": [
      {
       "output_type": "stream",
       "stream": "stdout",
       "text": [
        "PassengerId    460009\n",
        "Survived          135\n",
        "dtype: int64\n",
        "418\n"
       ]
      }
     ],
     "prompt_number": 271
    },
    {
     "cell_type": "code",
     "collapsed": false,
     "input": [],
     "language": "python",
     "metadata": {},
     "outputs": []
    },
    {
     "cell_type": "code",
     "collapsed": false,
     "input": [],
     "language": "python",
     "metadata": {},
     "outputs": []
    },
    {
     "cell_type": "code",
     "collapsed": false,
     "input": [
      "final_predictions.to_csv(home_dir + \"1_adaboost.csv\", index=False)"
     ],
     "language": "python",
     "metadata": {},
     "outputs": []
    },
    {
     "cell_type": "heading",
     "level": 2,
     "metadata": {},
     "source": [
      "Decision Trees"
     ]
    },
    {
     "cell_type": "code",
     "collapsed": false,
     "input": [
      "dt = DecisionTreeClassifier()\n",
      "dt = dt.fit(X_train, Y)\n",
      "test_predictions = dt.predict(X_test)"
     ],
     "language": "python",
     "metadata": {},
     "outputs": [],
     "prompt_number": 268
    },
    {
     "cell_type": "code",
     "collapsed": false,
     "input": [
      "final_predictions = zip(testing_data[\"passenger_id\"],test_predictions.astype(int))\n",
      "output_columns = \"passenger_id\", \"survived\"\n",
      "if hack:\n",
      "    output_columns = \"PassengerId\", \"Survived\"\n",
      "final_predictions = pd.DataFrame(final_predictions, columns=output_columns)\n",
      "print final_predictions.sum()\n",
      "print len(final_predictions)"
     ],
     "language": "python",
     "metadata": {},
     "outputs": [
      {
       "output_type": "stream",
       "stream": "stdout",
       "text": [
        "PassengerId    460009\n",
        "Survived          135\n",
        "dtype: int64\n",
        "418\n"
       ]
      }
     ],
     "prompt_number": 269
    },
    {
     "cell_type": "code",
     "collapsed": false,
     "input": [],
     "language": "python",
     "metadata": {},
     "outputs": [],
     "prompt_number": 162
    },
    {
     "cell_type": "code",
     "collapsed": false,
     "input": [],
     "language": "python",
     "metadata": {},
     "outputs": [],
     "prompt_number": 162
    },
    {
     "cell_type": "code",
     "collapsed": false,
     "input": [
      "final_predictions.to_csv(home_dir + \"2_decision_tree.csv\", index=False)"
     ],
     "language": "python",
     "metadata": {},
     "outputs": [],
     "prompt_number": 163
    },
    {
     "cell_type": "heading",
     "level": 2,
     "metadata": {},
     "source": [
      "Archive"
     ]
    },
    {
     "cell_type": "code",
     "collapsed": false,
     "input": [
      "cross_validation.cross_val_score(clfgs, categorical_training_data, training_data[\"survived\"], cv=kf_total, n_jobs = 1)"
     ],
     "language": "python",
     "metadata": {},
     "outputs": []
    }
   ],
   "metadata": {}
  }
 ]
}