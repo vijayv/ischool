{
 "cells": [
  {
   "cell_type": "code",
   "execution_count": 1,
   "metadata": {
    "collapsed": true
   },
   "outputs": [],
   "source": [
    "import numpy as np\n",
    "import pandas as pd\n",
    "import glob"
   ]
  },
  {
   "cell_type": "markdown",
   "metadata": {},
   "source": [
    "### Data is from [Zillow](http://www.zillow.com/research/data/)"
   ]
  },
  {
   "cell_type": "code",
   "execution_count": 2,
   "metadata": {
    "collapsed": false
   },
   "outputs": [],
   "source": [
    "years = []\n",
    "for year in range(2009, 2015):\n",
    "    for month in range(1,13):\n",
    "        years.append(\"%s-%s\" % (year, month))"
   ]
  },
  {
   "cell_type": "code",
   "execution_count": 12,
   "metadata": {
    "collapsed": false
   },
   "outputs": [],
   "source": [
    "master = pd.read_csv(str(glob.glob('data/Master_*')[0]))\n",
    "master = pd.melt(master, id_vars=[\"RegionName\", \"City\", \"State\", \"Metro\", \"CountyName\"])\n",
    "master.columns = [\"RegionName\", \"City\", \"State\", \"Metro\", \"CountyName\", \"Date\", \"MedianSoldPrice\"]"
   ]
  },
  {
   "cell_type": "code",
   "execution_count": 16,
   "metadata": {
    "collapsed": false
   },
   "outputs": [
    {
     "name": "stdout",
     "output_type": "stream",
     "text": [
      "Merging HomesSoldAsForeclosures-Ratio\n",
      "Merging MedianListingPrice\n",
      "Merging MedianListingPricePerSqft\n",
      "Merging MedianSoldPricePerSqft\n",
      "Merging NumberOfHomesForRent\n",
      "Merging PriceToRentRatio\n",
      "Merging Turnover\n",
      "Merging Zhvi\n",
      "Finished Merging\n",
      "Total Size: 123066\n",
      "Non NAs: 17732\n"
     ]
    }
   ],
   "source": [
    "for name in glob.glob('data/Neighborhood_*'):\n",
    "    end_index = 18 + name[18:].find(\"_\")\n",
    "    feature_name = name[18:end_index]\n",
    "    print \"Merging\", feature_name\n",
    "    \n",
    "    feature_df = pd.read_csv(name)\n",
    "    feature_df = pd.melt(feature_df, id_vars=[\"RegionName\", \"City\", \"State\", \"Metro\", \"CountyName\"])\n",
    "    feature_df.columns = [\"RegionName\", \"City\", \"State\", \"Metro\", \"CountyName\", \"Date\", feature_name]\n",
    "    \n",
    "    master = master.merge(feature_df, on=[\"RegionName\", \"City\", \"State\", \"Metro\", \"CountyName\", \"Date\"])\n",
    "    \n",
    "print \"Finished Merging\\n\"\n",
    "print \"Total Size:\", len(master)\n",
    "print \"Non NAs:\", len(master.dropna())"
   ]
  },
  {
   "cell_type": "code",
   "execution_count": 17,
   "metadata": {
    "collapsed": true
   },
   "outputs": [],
   "source": [
    "master.to_csv(\"master.csv\", index=False)"
   ]
  }
 ],
 "metadata": {
  "kernelspec": {
   "display_name": "Python 2",
   "language": "python",
   "name": "python2"
  },
  "language_info": {
   "codemirror_mode": {
    "name": "ipython",
    "version": 2
   },
   "file_extension": ".py",
   "mimetype": "text/x-python",
   "name": "python",
   "nbconvert_exporter": "python",
   "pygments_lexer": "ipython2",
   "version": "2.7.9"
  }
 },
 "nbformat": 4,
 "nbformat_minor": 0
}
