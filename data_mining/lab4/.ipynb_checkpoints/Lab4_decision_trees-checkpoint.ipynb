{
 "metadata": {
  "gist_id": "0945553f802dad1bfa88",
  "name": "",
  "signature": "sha256:f596ea99c9498187c70d4ccba2ff4142390c8b8e5d8e58a417bbf1ebb21f974c"
 },
 "nbformat": 3,
 "nbformat_minor": 0,
 "worksheets": [
  {
   "cells": [
    {
     "cell_type": "heading",
     "level": 1,
     "metadata": {},
     "source": [
      "Lab 4- Decision Trees"
     ]
    },
    {
     "cell_type": "markdown",
     "metadata": {},
     "source": [
      "This assignment uses 2012 data obtained from the Federal Election Commission on contributions to candidates from committees. The data dictionary is available at http://www.fec.gov/finance/disclosure/metadata/DataDictionaryContributionstoCandidates.shtml. The file we've given you has been subset to 10,000 randomly sampled rows, wth some columns removed"
     ]
    },
    {
     "cell_type": "code",
     "collapsed": false,
     "input": [
      "from __future__ import division\n",
      "from collections import Counter, defaultdict\n",
      "from itertools import combinations \n",
      "import pandas as pd\n",
      "import numpy as np"
     ],
     "language": "python",
     "metadata": {},
     "outputs": [],
     "prompt_number": 5
    },
    {
     "cell_type": "code",
     "collapsed": false,
     "input": [
      "df = pd.read_csv('lab4_candidate_contributions.csv')\n",
      "\n",
      "#convert zip code and transaction date from floats to strings (since we wnat to treat them as categorical)\n",
      "df.ZIP_CODE = df.ZIP_CODE.astype('int').astype('str')\n",
      "df.TRANSACTION_DT = df.TRANSACTION_DT.astype('int').astype('str')\n",
      "df.head()"
     ],
     "language": "python",
     "metadata": {},
     "outputs": [
      {
       "html": [
        "<div style=\"max-height:1000px;max-width:1500px;overflow:auto;\">\n",
        "<table border=\"1\" class=\"dataframe\">\n",
        "  <thead>\n",
        "    <tr style=\"text-align: right;\">\n",
        "      <th></th>\n",
        "      <th>CMTE_ID</th>\n",
        "      <th>AMNDT_IND</th>\n",
        "      <th>RPT_TP</th>\n",
        "      <th>ENTITY_TP</th>\n",
        "      <th>NAME</th>\n",
        "      <th>CITY</th>\n",
        "      <th>STATE</th>\n",
        "      <th>ZIP_CODE</th>\n",
        "      <th>TRANSACTION_DT</th>\n",
        "      <th>TRANSACTION_AMT</th>\n",
        "      <th>CAND_ID</th>\n",
        "    </tr>\n",
        "  </thead>\n",
        "  <tbody>\n",
        "    <tr>\n",
        "      <th>0</th>\n",
        "      <td> C90011156</td>\n",
        "      <td> N</td>\n",
        "      <td> Q3</td>\n",
        "      <td> IND</td>\n",
        "      <td> ROULAND, PRESTON</td>\n",
        "      <td> CLEVELAND</td>\n",
        "      <td> OH</td>\n",
        "      <td> 44135</td>\n",
        "      <td>  9182012</td>\n",
        "      <td> 26</td>\n",
        "      <td>  Obama</td>\n",
        "    </tr>\n",
        "    <tr>\n",
        "      <th>1</th>\n",
        "      <td> C90011156</td>\n",
        "      <td> N</td>\n",
        "      <td> Q3</td>\n",
        "      <td> IND</td>\n",
        "      <td>   DANFORD, KAYLA</td>\n",
        "      <td>    OXFORD</td>\n",
        "      <td> OH</td>\n",
        "      <td> 45056</td>\n",
        "      <td>  9242012</td>\n",
        "      <td> 17</td>\n",
        "      <td>  Obama</td>\n",
        "    </tr>\n",
        "    <tr>\n",
        "      <th>2</th>\n",
        "      <td> C90011156</td>\n",
        "      <td> N</td>\n",
        "      <td> YE</td>\n",
        "      <td> IND</td>\n",
        "      <td>   CLARK, BARBARA</td>\n",
        "      <td> WHITEHALL</td>\n",
        "      <td> OH</td>\n",
        "      <td> 43213</td>\n",
        "      <td> 10032012</td>\n",
        "      <td> 18</td>\n",
        "      <td> Romney</td>\n",
        "    </tr>\n",
        "    <tr>\n",
        "      <th>3</th>\n",
        "      <td> C90011156</td>\n",
        "      <td> N</td>\n",
        "      <td> YE</td>\n",
        "      <td> ORG</td>\n",
        "      <td>  JENNIFER JANNON</td>\n",
        "      <td>   DORMONT</td>\n",
        "      <td> PA</td>\n",
        "      <td> 15216</td>\n",
        "      <td> 10262012</td>\n",
        "      <td> 11</td>\n",
        "      <td>  Obama</td>\n",
        "    </tr>\n",
        "    <tr>\n",
        "      <th>4</th>\n",
        "      <td> C90011156</td>\n",
        "      <td> N</td>\n",
        "      <td> YE</td>\n",
        "      <td> IND</td>\n",
        "      <td>    ARNDI, PHILIP</td>\n",
        "      <td>    BOSTON</td>\n",
        "      <td> MA</td>\n",
        "      <td>  2115</td>\n",
        "      <td> 11062012</td>\n",
        "      <td> 57</td>\n",
        "      <td>  Obama</td>\n",
        "    </tr>\n",
        "  </tbody>\n",
        "</table>\n",
        "</div>"
       ],
       "metadata": {},
       "output_type": "pyout",
       "prompt_number": 6,
       "text": [
        "     CMTE_ID AMNDT_IND RPT_TP ENTITY_TP              NAME       CITY STATE  \\\n",
        "0  C90011156         N     Q3       IND  ROULAND, PRESTON  CLEVELAND    OH   \n",
        "1  C90011156         N     Q3       IND    DANFORD, KAYLA     OXFORD    OH   \n",
        "2  C90011156         N     YE       IND    CLARK, BARBARA  WHITEHALL    OH   \n",
        "3  C90011156         N     YE       ORG   JENNIFER JANNON    DORMONT    PA   \n",
        "4  C90011156         N     YE       IND     ARNDI, PHILIP     BOSTON    MA   \n",
        "\n",
        "  ZIP_CODE TRANSACTION_DT  TRANSACTION_AMT CAND_ID  \n",
        "0    44135        9182012               26   Obama  \n",
        "1    45056        9242012               17   Obama  \n",
        "2    43213       10032012               18  Romney  \n",
        "3    15216       10262012               11   Obama  \n",
        "4     2115       11062012               57   Obama  "
       ]
      }
     ],
     "prompt_number": 6
    },
    {
     "cell_type": "heading",
     "level": 2,
     "metadata": {},
     "source": [
      "Calculating Gini Index"
     ]
    },
    {
     "cell_type": "markdown",
     "metadata": {},
     "source": [
      "\n",
      "\n",
      "**Question 1: How many rows are there in the dataset for Obama? For Romney? **\n",
      "\n"
     ]
    },
    {
     "cell_type": "code",
     "collapsed": false,
     "input": [
      "by_candidate = df.groupby(\"CAND_ID\")[\"CAND_ID\"].count()\n",
      "print by_candidate"
     ],
     "language": "python",
     "metadata": {},
     "outputs": [
      {
       "output_type": "stream",
       "stream": "stdout",
       "text": [
        "CAND_ID\n",
        "Obama      5761\n",
        "Romney     4239\n",
        "Name: CAND_ID, dtype: int64\n"
       ]
      }
     ],
     "prompt_number": 4
    },
    {
     "cell_type": "markdown",
     "metadata": {},
     "source": [
      "**Question 2: What is the Gini Index of the this dataset, using Romney and Obama as the target classes?**"
     ]
    },
    {
     "cell_type": "code",
     "collapsed": false,
     "input": [
      "# 1-(5761/10000)^2 + 1-(4239/10000)^2\n",
      "obama = float(by_candidate[0])\n",
      "romney = float(by_candidate[1])\n",
      "total = obama + romney\n",
      "gini = (1 - ((obama/total)**2 + (romney/total)**2))\n",
      "print gini"
     ],
     "language": "python",
     "metadata": {},
     "outputs": [
      {
       "output_type": "stream",
       "stream": "stdout",
       "text": [
        "0.48841758\n"
       ]
      }
     ],
     "prompt_number": 5
    },
    {
     "cell_type": "heading",
     "level": 2,
     "metadata": {},
     "source": [
      "Best Split of a Numeric Feature"
     ]
    },
    {
     "cell_type": "markdown",
     "metadata": {},
     "source": [
      "Recall that, to calculate the best split of this numeric field, you'll need to order your data by TRANSACTION AMT, then consider the midpoint between each pair of consecutive transaction amounts as a potential split point, then calculate the Gini Index for that partitioning. You'll want to keep track of the best split point and its Gini Index (remember that you are trying to minimize the Gini Index). \n",
      "\n",
      "There are a lot of ways to do this. Some are very fast, others very slow. One tip to make this run quickly is, as you consecutively step through the data and calculate the Gini Index of each possible split point, keep a running total of the number of rows for each candidate that are located above and below the split point. \n",
      "\n",
      "Some Python tips: \n",
      "\n",
      "* Counter(), from the collections module, is a special dictionary for counting values of a key\n",
      "* zip() lets you concatenate lists into a list of tuples (for example, if we have a list of the candidates and a list of transaction amounts, zip(candidate_list, transaction_amount) would give us a list of (candidate, transaction amount) pairs"
     ]
    },
    {
     "cell_type": "code",
     "collapsed": false,
     "input": [
      "uniq_list_of_transactions = df.sort(\"TRANSACTION_AMT\")[\"TRANSACTION_AMT\"].unique()\n",
      "\n",
      "splits = []\n",
      "for i in range(1, len(uniq_list_of_transactions)):\n",
      "    splits.append((uniq_list_of_transactions[i] + uniq_list_of_transactions[i-1])/2)"
     ],
     "language": "python",
     "metadata": {},
     "outputs": [],
     "prompt_number": 6
    },
    {
     "cell_type": "code",
     "collapsed": false,
     "input": [
      "N = float(df.index.size)\n",
      "results_q1 = []\n",
      "\n",
      "for split in splits:\n",
      "    # objects above split\n",
      "    D1 = df[df.TRANSACTION_AMT >= split].index.size\n",
      "    D1_R = df[df.TRANSACTION_AMT >= split].CAND_ID[df.CAND_ID == 'Romney'].size\n",
      "    D1_O = df[df.TRANSACTION_AMT >= split].CAND_ID[df.CAND_ID == 'Obama'].size\n",
      "    G1 = 1 - ( (D1_O/D1)**2 + (D1_R/D1)**2 )\n",
      "\n",
      "    # objects above split\n",
      "    D2 = df[df.TRANSACTION_AMT < split].index.size\n",
      "    D2_R = df[df.TRANSACTION_AMT < split].CAND_ID[df.CAND_ID == 'Romney'].size\n",
      "    D2_O = df[df.TRANSACTION_AMT < split].CAND_ID[df.CAND_ID == 'Obama'].size\n",
      "    G2 = 1 - ( (D2_O/D2)**2 + (D2_R/D2)**2 )\n",
      "    # using pre-populated variable N for Total Number of records\n",
      "    GA = (D1/N)*G1 + (D2/N)*G2\n",
      "    \n",
      "    results_q1.append([GA, split])\n",
      "    \n",
      "print len(results_q1),'values added'"
     ],
     "language": "python",
     "metadata": {},
     "outputs": [
      {
       "output_type": "stream",
       "stream": "stdout",
       "text": [
        "1343 values added\n"
       ]
      }
     ],
     "prompt_number": 8
    },
    {
     "cell_type": "markdown",
     "metadata": {},
     "source": [
      "**Question 3: What is the best split point of the TRANSACTION_AMT feature. **"
     ]
    },
    {
     "cell_type": "code",
     "collapsed": false,
     "input": [
      "results_q1_df = pd.DataFrame(results_q1, columns=['Gini','Split'])\n",
      "# sort and present results starting with lowest\n",
      "results_q1_df.sort('Gini').head()"
     ],
     "language": "python",
     "metadata": {},
     "outputs": [
      {
       "html": [
        "<div style=\"max-height:1000px;max-width:1500px;overflow:auto;\">\n",
        "<table border=\"1\" class=\"dataframe\">\n",
        "  <thead>\n",
        "    <tr style=\"text-align: right;\">\n",
        "      <th></th>\n",
        "      <th>Gini</th>\n",
        "      <th>Split</th>\n",
        "    </tr>\n",
        "  </thead>\n",
        "  <tbody>\n",
        "    <tr>\n",
        "      <th>59</th>\n",
        "      <td> 0.480017</td>\n",
        "      <td> 46.5</td>\n",
        "    </tr>\n",
        "    <tr>\n",
        "      <th>58</th>\n",
        "      <td> 0.480236</td>\n",
        "      <td> 45.5</td>\n",
        "    </tr>\n",
        "    <tr>\n",
        "      <th>56</th>\n",
        "      <td> 0.480351</td>\n",
        "      <td> 43.5</td>\n",
        "    </tr>\n",
        "    <tr>\n",
        "      <th>57</th>\n",
        "      <td> 0.480359</td>\n",
        "      <td> 44.5</td>\n",
        "    </tr>\n",
        "    <tr>\n",
        "      <th>53</th>\n",
        "      <td> 0.480414</td>\n",
        "      <td> 40.5</td>\n",
        "    </tr>\n",
        "  </tbody>\n",
        "</table>\n",
        "</div>"
       ],
       "metadata": {},
       "output_type": "pyout",
       "prompt_number": 9,
       "text": [
        "        Gini  Split\n",
        "59  0.480017   46.5\n",
        "58  0.480236   45.5\n",
        "56  0.480351   43.5\n",
        "57  0.480359   44.5\n",
        "53  0.480414   40.5"
       ]
      }
     ],
     "prompt_number": 9
    },
    {
     "cell_type": "markdown",
     "metadata": {},
     "source": [
      "The lowest Gini is attained when making the split at **46.5**"
     ]
    },
    {
     "cell_type": "markdown",
     "metadata": {},
     "source": [
      "**Question 4: What is the Gini Index of this best split?**"
     ]
    },
    {
     "cell_type": "markdown",
     "metadata": {},
     "source": [
      "The Gini index of this split is **0.480017**"
     ]
    },
    {
     "cell_type": "markdown",
     "metadata": {},
     "source": [
      "**Question 5: How much does this partitioning reduce the Gini Index over that of the overall dataset?**"
     ]
    },
    {
     "cell_type": "code",
     "collapsed": false,
     "input": [
      "(gini - 0.480017)/gini * 100"
     ],
     "language": "python",
     "metadata": {},
     "outputs": [
      {
       "metadata": {},
       "output_type": "pyout",
       "prompt_number": 10,
       "text": [
        "1.7199585649640414"
       ]
      }
     ],
     "prompt_number": 10
    },
    {
     "cell_type": "markdown",
     "metadata": {},
     "source": [
      "This partitioning reduced the Gini index by **1.7199% (0.008400580000000102 points)**"
     ]
    },
    {
     "cell_type": "markdown",
     "metadata": {},
     "source": [
      "**Question 6: How many Romney rows are below your best split point? Obama rows?**"
     ]
    },
    {
     "cell_type": "code",
     "collapsed": false,
     "input": [
      "print \"Romney rows below best split point:\",df[df.TRANSACTION_AMT < 46.5][df['CAND_ID'] == 'Romney'].index.size"
     ],
     "language": "python",
     "metadata": {},
     "outputs": [
      {
       "output_type": "stream",
       "stream": "stdout",
       "text": [
        "Romney rows below best split point: 3374\n"
       ]
      },
      {
       "output_type": "stream",
       "stream": "stderr",
       "text": [
        "/Users/acchi369/anaconda/lib/python2.7/site-packages/pandas/core/frame.py:1706: UserWarning: Boolean Series key will be reindexed to match DataFrame index.\n",
        "  \"DataFrame index.\", UserWarning)\n"
       ]
      }
     ],
     "prompt_number": 11
    },
    {
     "cell_type": "code",
     "collapsed": false,
     "input": [
      "print \"Obama rows below best split point:\",df[df.TRANSACTION_AMT < 46.5][df['CAND_ID'] == 'Obama'].index.size"
     ],
     "language": "python",
     "metadata": {},
     "outputs": [
      {
       "output_type": "stream",
       "stream": "stdout",
       "text": [
        "Obama rows below best split point: 3905\n"
       ]
      }
     ],
     "prompt_number": 12
    },
    {
     "cell_type": "markdown",
     "metadata": {},
     "source": [
      "Romney rows below best split point: **3374**\n",
      "<br>Obama rows below best split point: **3905**"
     ]
    },
    {
     "cell_type": "markdown",
     "metadata": {},
     "source": [
      "**Question 7: How many Romney rows are above your best split point? Obama rows?**"
     ]
    },
    {
     "cell_type": "code",
     "collapsed": false,
     "input": [
      "print \"Romney rows above best split point:\",df[df.TRANSACTION_AMT >= 46.5][df['CAND_ID'] == 'Romney'].index.size"
     ],
     "language": "python",
     "metadata": {},
     "outputs": [
      {
       "output_type": "stream",
       "stream": "stdout",
       "text": [
        "Romney rows above best split point: 865\n"
       ]
      }
     ],
     "prompt_number": 13
    },
    {
     "cell_type": "code",
     "collapsed": false,
     "input": [
      "print \"Obama rows above best split point:\",df[df.TRANSACTION_AMT >= 46.5][df['CAND_ID'] == 'Obama'].index.size"
     ],
     "language": "python",
     "metadata": {},
     "outputs": [
      {
       "output_type": "stream",
       "stream": "stdout",
       "text": [
        "Obama rows above best split point: 1856\n"
       ]
      }
     ],
     "prompt_number": 14
    },
    {
     "cell_type": "markdown",
     "metadata": {},
     "source": [
      "Romney rows above best split point: **865**\n",
      "<br>Obama rows above best split point: **1856**"
     ]
    },
    {
     "cell_type": "heading",
     "level": 2,
     "metadata": {},
     "source": [
      "Best Split of a Categorial Variable"
     ]
    },
    {
     "cell_type": "markdown",
     "metadata": {},
     "source": [
      "In this exercise, you will be partitioning the original dataset (as opposed to further partitioning the transaction amount partitions from the previous set of questions).\n",
      "\n",
      "Python tip: the combinations function of the itertools module allows you to enumerate combinations of a list"
     ]
    },
    {
     "cell_type": "code",
     "collapsed": false,
     "input": [
      "uniq_entities = df[\"ENTITY_TP\"].unique()\n",
      "splits = []\n",
      "for i in xrange(1, len(uniq_entities)+1):\n",
      "    for x in combinations(uniq_entities, i):\n",
      "        if len(x) < 7:\n",
      "            splits.append(list(x))\n",
      "\n",
      "print \"total splits:\", len(splits)"
     ],
     "language": "python",
     "metadata": {},
     "outputs": [
      {
       "output_type": "stream",
       "stream": "stdout",
       "text": [
        "total splits: 126\n"
       ]
      }
     ],
     "prompt_number": 52
    },
    {
     "cell_type": "code",
     "collapsed": false,
     "input": [
      "results_q8 = []\n",
      "\n",
      "for split in splits:\n",
      "    # \"include\" split\n",
      "    D1 = df[df.ENTITY_TP.isin(split)].index.size\n",
      "    D1_R = df[df.ENTITY_TP.isin(split)].CAND_ID[df.CAND_ID == 'Romney'].size\n",
      "    D1_O = df[df.ENTITY_TP.isin(split)].CAND_ID[df.CAND_ID == 'Obama'].size\n",
      "    G1 = 1 - ( (D1_O/D1)**2 + (D1_R/D1)**2 )\n",
      "    \n",
      "    # \"other\" split\n",
      "    D2 = df[~df.ENTITY_TP.isin(split)].index.size\n",
      "    D2_R = df[~df.ENTITY_TP.isin(split)].CAND_ID[df.CAND_ID == 'Romney'].size\n",
      "    D2_O = df[~df.ENTITY_TP.isin(split)].CAND_ID[df.CAND_ID == 'Obama'].size\n",
      "    G2 = 1 - ( (D2_O/D2)**2 + (D2_R/D2)**2 )\n",
      "    \n",
      "    # using pre-populated variable N for Total Number of records\n",
      "    GA = (D1/N)*G1 + (D2/N)*G2\n",
      "    \n",
      "    results_q8.append([GA, split])\n",
      "    \n",
      "print len(results_q8),'values added'"
     ],
     "language": "python",
     "metadata": {},
     "outputs": [
      {
       "output_type": "stream",
       "stream": "stdout",
       "text": [
        "126 values added\n"
       ]
      }
     ],
     "prompt_number": 66
    },
    {
     "cell_type": "markdown",
     "metadata": {},
     "source": [
      "**Question 8: How many possible splits are there of the ENTITY_TP feature?**"
     ]
    },
    {
     "cell_type": "code",
     "collapsed": false,
     "input": [
      "def possible_splits(n):\n",
      "    return (2**n) - 2\n",
      "\n",
      "print possible_splits(len(uniq_entities))"
     ],
     "language": "python",
     "metadata": {},
     "outputs": [
      {
       "output_type": "stream",
       "stream": "stdout",
       "text": [
        "126\n"
       ]
      }
     ],
     "prompt_number": 68
    },
    {
     "cell_type": "markdown",
     "metadata": {},
     "source": [
      "**Question 9: Which split of ENTITY_TP best splits the Obama and Romney rows, as measured by the Gini Index?**"
     ]
    },
    {
     "cell_type": "code",
     "collapsed": false,
     "input": [
      "results_q8_df = pd.DataFrame(results_q8, columns=['Gini','Split'])\n",
      "# sort and present results starting with lowest\n",
      "results_q8_df.sort('Gini').head()"
     ],
     "language": "python",
     "metadata": {},
     "outputs": [
      {
       "html": [
        "<div style=\"max-height:1000px;max-width:1500px;overflow:auto;\">\n",
        "<table border=\"1\" class=\"dataframe\">\n",
        "  <thead>\n",
        "    <tr style=\"text-align: right;\">\n",
        "      <th></th>\n",
        "      <th>Gini</th>\n",
        "      <th>Split</th>\n",
        "    </tr>\n",
        "  </thead>\n",
        "  <tbody>\n",
        "    <tr>\n",
        "      <th>64</th>\n",
        "      <td> 0.483145</td>\n",
        "      <td> [IND, ORG, PAC, PTY]</td>\n",
        "    </tr>\n",
        "    <tr>\n",
        "      <th>61</th>\n",
        "      <td> 0.483145</td>\n",
        "      <td>      [CCM, COM, CAN]</td>\n",
        "    </tr>\n",
        "    <tr>\n",
        "      <th>28</th>\n",
        "      <td> 0.483447</td>\n",
        "      <td>      [IND, ORG, PAC]</td>\n",
        "    </tr>\n",
        "    <tr>\n",
        "      <th>97</th>\n",
        "      <td> 0.483447</td>\n",
        "      <td> [CCM, PTY, COM, CAN]</td>\n",
        "    </tr>\n",
        "    <tr>\n",
        "      <th>23</th>\n",
        "      <td> 0.483590</td>\n",
        "      <td>           [CCM, COM]</td>\n",
        "    </tr>\n",
        "  </tbody>\n",
        "</table>\n",
        "</div>"
       ],
       "metadata": {},
       "output_type": "pyout",
       "prompt_number": 69,
       "text": [
        "        Gini                 Split\n",
        "64  0.483145  [IND, ORG, PAC, PTY]\n",
        "61  0.483145       [CCM, COM, CAN]\n",
        "28  0.483447       [IND, ORG, PAC]\n",
        "97  0.483447  [CCM, PTY, COM, CAN]\n",
        "23  0.483590            [CCM, COM]"
       ]
      }
     ],
     "prompt_number": 69
    },
    {
     "cell_type": "markdown",
     "metadata": {},
     "source": [
      "The best split is with: **1) [IND, ORG, PAC, PTY]** or **2) [CCM, COM, CAN]**"
     ]
    },
    {
     "cell_type": "markdown",
     "metadata": {},
     "source": [
      "**Question 10: What is the Gini Index of this best split?**"
     ]
    },
    {
     "cell_type": "markdown",
     "metadata": {},
     "source": [
      "The Gini index of the best split is: **.483145**"
     ]
    },
    {
     "cell_type": "markdown",
     "metadata": {},
     "source": [
      "**Question 11: How much does this partitioning reduce the Gini Index over that of the overall data set?**"
     ]
    },
    {
     "cell_type": "code",
     "collapsed": false,
     "input": [
      "(gini - .483145)*100"
     ],
     "language": "python",
     "metadata": {},
     "outputs": [
      {
       "metadata": {},
       "output_type": "pyout",
       "prompt_number": 70,
       "text": [
        "0.5272580000000138"
       ]
      }
     ],
     "prompt_number": 70
    },
    {
     "cell_type": "markdown",
     "metadata": {},
     "source": [
      "Reduces the Gini index over the overall dataset by **0.527%**"
     ]
    },
    {
     "cell_type": "markdown",
     "metadata": {},
     "source": [
      "**Question 12: How many Romney rows and Obama rows are in your first partition? How many Romney rows and Obama rows are in your second partition?**"
     ]
    },
    {
     "cell_type": "code",
     "collapsed": false,
     "input": [
      "print \"Romney rows above first split point:\",df[df.ENTITY_TP.isin(splits[0])][df['CAND_ID'] == 'Romney'].index.size"
     ],
     "language": "python",
     "metadata": {},
     "outputs": [
      {
       "output_type": "stream",
       "stream": "stdout",
       "text": [
        "Romney rows above first split point: 2223\n"
       ]
      }
     ],
     "prompt_number": 73
    },
    {
     "cell_type": "code",
     "collapsed": false,
     "input": [
      "print \"Obama rows above first split point:\",df[df.ENTITY_TP.isin(splits[0])][df['CAND_ID'] == 'Obama'].index.size"
     ],
     "language": "python",
     "metadata": {},
     "outputs": [
      {
       "output_type": "stream",
       "stream": "stdout",
       "text": [
        "Obama rows above first split point: 3032\n"
       ]
      }
     ],
     "prompt_number": 74
    },
    {
     "cell_type": "markdown",
     "metadata": {},
     "source": [
      "Romney rows above best split point: **2223**\n",
      "<br>Obama rows above best split point: **3032**"
     ]
    },
    {
     "cell_type": "code",
     "collapsed": false,
     "input": [
      "print \"Romney rows above second split point:\",df[df.ENTITY_TP.isin(splits[1])][df['CAND_ID'] == 'Romney'].index.size"
     ],
     "language": "python",
     "metadata": {},
     "outputs": [
      {
       "output_type": "stream",
       "stream": "stdout",
       "text": [
        "Romney rows above second split point: 1760\n"
       ]
      }
     ],
     "prompt_number": 79
    },
    {
     "cell_type": "code",
     "collapsed": false,
     "input": [
      "print \"Obama rows above second split point:\",df[df.ENTITY_TP.isin(splits[1])][df['CAND_ID'] == 'Obama'].index.size"
     ],
     "language": "python",
     "metadata": {},
     "outputs": [
      {
       "output_type": "stream",
       "stream": "stdout",
       "text": [
        "Obama rows above second split point: 2597\n"
       ]
      }
     ],
     "prompt_number": 80
    },
    {
     "cell_type": "markdown",
     "metadata": {},
     "source": [
      "Romney rows above best split point: **1760**\n",
      "<br>Obama rows above best split point: **2597**"
     ]
    },
    {
     "cell_type": "heading",
     "level": 2,
     "metadata": {},
     "source": [
      "Training a decision tree"
     ]
    },
    {
     "cell_type": "markdown",
     "metadata": {},
     "source": [
      "See this notebook for the basics of training a decision tree in scikit-learn and exporting the outputs to view in graphviz: http://nbviewer.ipython.org/gist/tebarkley/b68c04d9b31e64ce6023\n",
      "\n",
      "Scikit-learn classifiers require class labels and features to be in numeric arrays. As such, you will need to turn your categorical features into numeric arrays using DictVectorizer. This is a helpful notebook for understanding how to do this: http://nbviewer.ipython.org/gist/sarguido/7423289. You can turn a pandas dataframe of features into a dictionary of the form needed by DictVectorizer by using df.to_dict('records'). Make sure you remove the class label first (in this case, CAND_ID). If you use the class label as a feature, your classifier will have a training accuracy of 100%! The example notebook link also shows how to turn your class labels into a numeric array using sklearn.preprocessing.LabelEncoder().\n",
      "\n",
      "We already did this for you at the top of the notebook, but before you convert your features into numeric arrays, you should always make sure they are of the correct type (ie zip code should be a string, not a float, because it is a categorical variable). \n",
      "\n",
      "Question 14 asks you to interpret the rules at each decision tree node using the graphviz output. The graphviz output looks cryptic (ie it might tell you that X[1014] < 0.5 is the best split for a particular node. To figure out what feature that corresponds to, use the .get_feature_names() function of your DictVectorizer object. If that returns something like 'CITY=PHOENIX', then you know that the left child of the node contains rows not in Phoenix ('CITY=PHOENIX' ==0) and the right child of the node contains rows in Phoenix ('CITY=PHOENIX' == 1)."
     ]
    },
    {
     "cell_type": "code",
     "collapsed": false,
     "input": [
      "import sklearn\n",
      "from sklearn.tree import DecisionTreeClassifier\n",
      "from sklearn.feature_extraction import DictVectorizer #to turn categorial variables into numeric arrays\n",
      "from sklearn import preprocessing #to transform the feature labels"
     ],
     "language": "python",
     "metadata": {},
     "outputs": [],
     "prompt_number": 37
    },
    {
     "cell_type": "code",
     "collapsed": false,
     "input": [
      "df.head()"
     ],
     "language": "python",
     "metadata": {},
     "outputs": [
      {
       "html": [
        "<div style=\"max-height:1000px;max-width:1500px;overflow:auto;\">\n",
        "<table border=\"1\" class=\"dataframe\">\n",
        "  <thead>\n",
        "    <tr style=\"text-align: right;\">\n",
        "      <th></th>\n",
        "      <th>CMTE_ID</th>\n",
        "      <th>AMNDT_IND</th>\n",
        "      <th>RPT_TP</th>\n",
        "      <th>ENTITY_TP</th>\n",
        "      <th>NAME</th>\n",
        "      <th>CITY</th>\n",
        "      <th>STATE</th>\n",
        "      <th>ZIP_CODE</th>\n",
        "      <th>TRANSACTION_DT</th>\n",
        "      <th>TRANSACTION_AMT</th>\n",
        "      <th>CAND_ID</th>\n",
        "    </tr>\n",
        "  </thead>\n",
        "  <tbody>\n",
        "    <tr>\n",
        "      <th>0</th>\n",
        "      <td> C90011156</td>\n",
        "      <td> N</td>\n",
        "      <td> Q3</td>\n",
        "      <td> IND</td>\n",
        "      <td> ROULAND, PRESTON</td>\n",
        "      <td> CLEVELAND</td>\n",
        "      <td> OH</td>\n",
        "      <td> 44135</td>\n",
        "      <td>  9182012</td>\n",
        "      <td> 26</td>\n",
        "      <td>  Obama</td>\n",
        "    </tr>\n",
        "    <tr>\n",
        "      <th>1</th>\n",
        "      <td> C90011156</td>\n",
        "      <td> N</td>\n",
        "      <td> Q3</td>\n",
        "      <td> IND</td>\n",
        "      <td>   DANFORD, KAYLA</td>\n",
        "      <td>    OXFORD</td>\n",
        "      <td> OH</td>\n",
        "      <td> 45056</td>\n",
        "      <td>  9242012</td>\n",
        "      <td> 17</td>\n",
        "      <td>  Obama</td>\n",
        "    </tr>\n",
        "    <tr>\n",
        "      <th>2</th>\n",
        "      <td> C90011156</td>\n",
        "      <td> N</td>\n",
        "      <td> YE</td>\n",
        "      <td> IND</td>\n",
        "      <td>   CLARK, BARBARA</td>\n",
        "      <td> WHITEHALL</td>\n",
        "      <td> OH</td>\n",
        "      <td> 43213</td>\n",
        "      <td> 10032012</td>\n",
        "      <td> 18</td>\n",
        "      <td> Romney</td>\n",
        "    </tr>\n",
        "    <tr>\n",
        "      <th>3</th>\n",
        "      <td> C90011156</td>\n",
        "      <td> N</td>\n",
        "      <td> YE</td>\n",
        "      <td> ORG</td>\n",
        "      <td>  JENNIFER JANNON</td>\n",
        "      <td>   DORMONT</td>\n",
        "      <td> PA</td>\n",
        "      <td> 15216</td>\n",
        "      <td> 10262012</td>\n",
        "      <td> 11</td>\n",
        "      <td>  Obama</td>\n",
        "    </tr>\n",
        "    <tr>\n",
        "      <th>4</th>\n",
        "      <td> C90011156</td>\n",
        "      <td> N</td>\n",
        "      <td> YE</td>\n",
        "      <td> IND</td>\n",
        "      <td>    ARNDI, PHILIP</td>\n",
        "      <td>    BOSTON</td>\n",
        "      <td> MA</td>\n",
        "      <td>  2115</td>\n",
        "      <td> 11062012</td>\n",
        "      <td> 57</td>\n",
        "      <td>  Obama</td>\n",
        "    </tr>\n",
        "  </tbody>\n",
        "</table>\n",
        "</div>"
       ],
       "metadata": {},
       "output_type": "pyout",
       "prompt_number": 36,
       "text": [
        "     CMTE_ID AMNDT_IND RPT_TP ENTITY_TP              NAME       CITY STATE  \\\n",
        "0  C90011156         N     Q3       IND  ROULAND, PRESTON  CLEVELAND    OH   \n",
        "1  C90011156         N     Q3       IND    DANFORD, KAYLA     OXFORD    OH   \n",
        "2  C90011156         N     YE       IND    CLARK, BARBARA  WHITEHALL    OH   \n",
        "3  C90011156         N     YE       ORG   JENNIFER JANNON    DORMONT    PA   \n",
        "4  C90011156         N     YE       IND     ARNDI, PHILIP     BOSTON    MA   \n",
        "\n",
        "  ZIP_CODE TRANSACTION_DT  TRANSACTION_AMT CAND_ID  \n",
        "0    44135        9182012               26   Obama  \n",
        "1    45056        9242012               17   Obama  \n",
        "2    43213       10032012               18  Romney  \n",
        "3    15216       10262012               11   Obama  \n",
        "4     2115       11062012               57   Obama  "
       ]
      }
     ],
     "prompt_number": 36
    },
    {
     "cell_type": "code",
     "collapsed": false,
     "input": [
      "col = list(df.columns)\n",
      "col.pop(len(col)-1)\n",
      "\n",
      "X = df[col]\n",
      "Y = df.CAND_ID\n",
      "\n",
      "vec = DictVectorizer(sparse=True)\n",
      "car_data = vec.fit_transform(X.transpose().to_dict().values()).toarray()\n",
      "\n",
      "le = preprocessing.LabelEncoder()\n",
      "le.fit(Y)\n",
      "Y = le.transform(Y)\n",
      "\n",
      "dt = DecisionTreeClassifier\n",
      "dt = dt.fit(X, Y)"
     ],
     "language": "python",
     "metadata": {},
     "outputs": [
      {
       "ename": "TypeError",
       "evalue": "unbound method fit() must be called with DecisionTreeClassifier instance as first argument (got DataFrame instance instead)",
       "output_type": "pyerr",
       "traceback": [
        "\u001b[0;31m---------------------------------------------------------------------------\u001b[0m\n\u001b[0;31mTypeError\u001b[0m                                 Traceback (most recent call last)",
        "\u001b[0;32m<ipython-input-59-f2699c2e8256>\u001b[0m in \u001b[0;36m<module>\u001b[0;34m()\u001b[0m\n\u001b[1;32m     13\u001b[0m \u001b[0;34m\u001b[0m\u001b[0m\n\u001b[1;32m     14\u001b[0m \u001b[0mdt\u001b[0m \u001b[0;34m=\u001b[0m \u001b[0mDecisionTreeClassifier\u001b[0m\u001b[0;34m\u001b[0m\u001b[0m\n\u001b[0;32m---> 15\u001b[0;31m \u001b[0mdt\u001b[0m \u001b[0;34m=\u001b[0m \u001b[0mdt\u001b[0m\u001b[0;34m.\u001b[0m\u001b[0mfit\u001b[0m\u001b[0;34m(\u001b[0m\u001b[0mX\u001b[0m\u001b[0;34m,\u001b[0m \u001b[0mY\u001b[0m\u001b[0;34m)\u001b[0m\u001b[0;34m\u001b[0m\u001b[0m\n\u001b[0m",
        "\u001b[0;31mTypeError\u001b[0m: unbound method fit() must be called with DecisionTreeClassifier instance as first argument (got DataFrame instance instead)"
       ]
      }
     ],
     "prompt_number": 59
    },
    {
     "cell_type": "markdown",
     "metadata": {},
     "source": [
      "**Question 13: Using all of the features in the original dataframe read in at the top of this notebook, train a decision tree classifier that has a depth of three (including the root node and leaf nodes). What is the accuracy of this classifier on the training data?**"
     ]
    },
    {
     "cell_type": "markdown",
     "metadata": {},
     "source": [
      "**Question 14: Export your decision tree to graphviz. Please submit a png file of this graphic to bcourses. In your write-up, write down the interpretation of the rule at each node (for example, 'Root node: rows from state AL go the the left, rows from all other states go to the right. Left child of root node: ... etc**"
     ]
    },
    {
     "cell_type": "markdown",
     "metadata": {},
     "source": [
      "**Question 15: For each of your leaf nodes, specify the percentage of Obama rows in that node (out of the total number of rows at that node).**"
     ]
    },
    {
     "cell_type": "code",
     "collapsed": false,
     "input": [],
     "language": "python",
     "metadata": {},
     "outputs": [],
     "prompt_number": 162
    }
   ],
   "metadata": {}
  }
 ]
}